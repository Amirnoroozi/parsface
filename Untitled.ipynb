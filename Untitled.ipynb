{
 "cells": [
  {
   "cell_type": "code",
   "execution_count": 1,
   "metadata": {},
   "outputs": [],
   "source": [
    "import requests\n",
    "import pandas as pd\n",
    "import json\n",
    "import time\n",
    "from bs4 import BeautifulSoup\n",
    "df = pd.read_html('1403.01.03.html')[0]"
   ]
  },
  {
   "cell_type": "code",
   "execution_count": 2,
   "metadata": {},
   "outputs": [],
   "source": [
    "def download(img_url, name):\n",
    "    with requests.Session() as session:\n",
    "        data = session.get(img_url, stream=True, verify=False, headers= {'User-Agent': 'Mozilla/5.0 (compatible; Googlebot/2.1; +http://www.google.com/bot.html)'})\n",
    "        with open(f\"imgs/{name}.jpg\", \"wb\") as f:\n",
    "            f.write(data.content)\n",
    "    print(f'{name} saved.')"
   ]
  },
  {
   "cell_type": "code",
   "execution_count": 3,
   "metadata": {},
   "outputs": [],
   "source": [
    "def get_middle_info(base):\n",
    "    # names\n",
    "    fa_name = base['labels']['fa']['value']\n",
    "    en_name = base['labels']['en']['value']\n",
    "\n",
    "    # descriptions\n",
    "    fa_desc = base['descriptions']['fa']['value']\n",
    "    en_desc = base['descriptions']['en']['value']\n",
    "\n",
    "    # wiki urls\n",
    "    fa_url = base['sitelinks']['fawiki']['url']\n",
    "    en_url = base['sitelinks']['enwiki']['url']\n",
    "\n",
    "    # Gender\n",
    "    gender = base['claims']['P21'][0]['mainsnak']['datavalue']['value']['id'].replace('Q6581097', 'man').replace('Q6581072', 'woman')\n",
    "\n",
    "    # birth date\n",
    "    birth_date = base['claims']['P569'][0]['mainsnak']['datavalue']['value']['time']\n",
    "\n",
    "    # death date\n",
    "    try:\n",
    "        death_date = base['claims']['P70'][0]['mainsnak']['datavalue']['value']['time']\n",
    "    except Exception as e:\n",
    "        print(str(e))\n",
    "        death_date = ''\n",
    "    return fa_name, en_name, fa_desc, en_desc, fa_url, en_url, gender, birth_date, death_date"
   ]
  },
  {
   "cell_type": "code",
   "execution_count": 4,
   "metadata": {},
   "outputs": [],
   "source": [
    "def get_img_and_caption(name, url):\n",
    "    while True:\n",
    "        try:\n",
    "            wiki_page = requests.get(url, verify=False, headers= {'User-Agent': 'Mozilla/5.0 (compatible; Googlebot/2.1; +http://www.google.com/bot.html)'}).text\n",
    "            break\n",
    "        except Exception as e:\n",
    "            print(str(e))\n",
    "            time.sleep(10)\n",
    "    soup = BeautifulSoup(wiki_page)\n",
    "    class_ = 'infobox-caption'\n",
    "    #print(name, url)\n",
    "    try:\n",
    "        img_url = 'https:'+soup.find('td', class_='infobox-image').find('img')['src']\n",
    "        print(img_url, '+'*50)\n",
    "        download(img_url, name)\n",
    "    except:\n",
    "        print('I could not find or download image.')\n",
    "    try:\n",
    "        age_caption = soup.find(\"div\", class_=class_).text\n",
    "        print(age_caption, '************')\n",
    "    except:\n",
    "        age_caption = ''\n",
    "        print('perhaps no age caption...')\n",
    "    return age_caption"
   ]
  },
  {
   "cell_type": "code",
   "execution_count": 8,
   "metadata": {},
   "outputs": [],
   "source": [
    "c = 19024"
   ]
  },
  {
   "cell_type": "code",
   "execution_count": 9,
   "metadata": {},
   "outputs": [
    {
     "name": "stdout",
     "output_type": "stream",
     "text": [
      "19024\n",
      "'fawiki' ......\n"
     ]
    }
   ],
   "source": [
    "output = []\n",
    "\n",
    "for i, url in enumerate(df['person']):\n",
    "    # get wikidata page\n",
    "    if i < c:\n",
    "        continue\n",
    "    print(i)\n",
    "    while True:\n",
    "        try:\n",
    "            page = requests.get(url).text\n",
    "            break\n",
    "        except Exception as e:\n",
    "            print(str(e))\n",
    "            time.sleep(10)\n",
    "    if 'Not Found' in page:\n",
    "        continue\n",
    "    soup = BeautifulSoup(page, 'html.parser')\n",
    "    #         try:\n",
    "    #             base = json.loads(soup.contents[0])['entities'][url.split('/')[-1]]\n",
    "    #         except:\n",
    "    #             base = json.loads(str(soup))['entities'][url.split('/')[-1]]\n",
    "    #         print('base obtained.')\n",
    "    try:\n",
    "        base = json.loads(page)['entities'][url.split('/')[-1]]\n",
    "    except:\n",
    "        temp = json.loads(page)['entities']\n",
    "        base = temp[list(temp.keys())[0]]\n",
    "    try:\n",
    "        fa_name, en_name, fa_desc, en_desc, fa_url, en_url, gender, birth_date, death_date = get_middle_info(base)\n",
    "    except Exception as e:\n",
    "        print(str(e), '......')\n",
    "        continue\n",
    "    #print('***', fa_name, en_name, fa_desc, en_desc, fa_url, en_url, gender, birth_date, death_date, '***')\n",
    "    print('get wikipedia data')\n",
    "    print('cap and img...')\n",
    "    fa_cap = get_img_and_caption(fa_name, fa_url)\n",
    "    time.sleep(60)\n",
    "    en_cap = get_img_and_caption(en_name, en_url)\n",
    "\n",
    "    output.append([fa_name, en_name, fa_desc, en_desc, fa_url, en_url, gender, birth_date, death_date, fa_cap, en_cap])\n",
    "    time.sleep(90)\n",
    "    c = i\n",
    "    with open('res.txt', 'a+', encoding = 'utf-8') as file:\n",
    "        file.write(',,, '.join([fa_name, en_name, fa_desc, en_desc, fa_url, en_url, gender, birth_date, death_date, fa_cap, en_cap]))\n",
    "        file.write('\\n')"
   ]
  },
  {
   "cell_type": "code",
   "execution_count": 7,
   "metadata": {},
   "outputs": [
    {
     "ename": "KeyError",
     "evalue": "'pageid'",
     "output_type": "error",
     "traceback": [
      "\u001b[1;31m---------------------------------------------------------------------------\u001b[0m",
      "\u001b[1;31mKeyError\u001b[0m                                  Traceback (most recent call last)",
      "\u001b[1;32m<ipython-input-7-0ff12b956a90>\u001b[0m in \u001b[0;36m<module>\u001b[1;34m\u001b[0m\n\u001b[1;32m----> 1\u001b[1;33m \u001b[0mbase\u001b[0m \u001b[1;33m=\u001b[0m \u001b[0mjson\u001b[0m\u001b[1;33m.\u001b[0m\u001b[0mloads\u001b[0m\u001b[1;33m(\u001b[0m\u001b[0mpage\u001b[0m\u001b[1;33m)\u001b[0m\u001b[1;33m[\u001b[0m\u001b[1;34m'entities'\u001b[0m\u001b[1;33m]\u001b[0m\u001b[1;33m[\u001b[0m\u001b[0mlist\u001b[0m\u001b[1;33m(\u001b[0m\u001b[0mbase\u001b[0m\u001b[1;33m.\u001b[0m\u001b[0mkeys\u001b[0m\u001b[1;33m(\u001b[0m\u001b[1;33m)\u001b[0m\u001b[1;33m)\u001b[0m\u001b[1;33m[\u001b[0m\u001b[1;36m0\u001b[0m\u001b[1;33m]\u001b[0m\u001b[1;33m]\u001b[0m\u001b[1;33m\u001b[0m\u001b[1;33m\u001b[0m\u001b[0m\n\u001b[0m",
      "\u001b[1;31mKeyError\u001b[0m: 'pageid'"
     ]
    }
   ],
   "source": [
    "base = json.loads(page)['entities'][list(base.keys())[0]]"
   ]
  },
  {
   "cell_type": "code",
   "execution_count": null,
   "metadata": {},
   "outputs": [],
   "source": [
    "'Not Found' in page"
   ]
  },
  {
   "cell_type": "code",
   "execution_count": null,
   "metadata": {},
   "outputs": [],
   "source": [
    "url.split('/')[-1]"
   ]
  },
  {
   "cell_type": "code",
   "execution_count": null,
   "metadata": {},
   "outputs": [],
   "source": [
    "list(base.keys())[0]"
   ]
  },
  {
   "cell_type": "code",
   "execution_count": null,
   "metadata": {},
   "outputs": [],
   "source": [
    "base"
   ]
  },
  {
   "cell_type": "code",
   "execution_count": null,
   "metadata": {},
   "outputs": [],
   "source": [
    "url"
   ]
  },
  {
   "cell_type": "code",
   "execution_count": null,
   "metadata": {},
   "outputs": [],
   "source": [
    "temp = json.loads(page)['entities']\n",
    "base = temp[list(temp.keys())[0]]"
   ]
  },
  {
   "cell_type": "code",
   "execution_count": null,
   "metadata": {},
   "outputs": [],
   "source": [
    "list(page.keys())[0]"
   ]
  },
  {
   "cell_type": "code",
   "execution_count": null,
   "metadata": {},
   "outputs": [],
   "source": []
  }
 ],
 "metadata": {
  "kernelspec": {
   "display_name": "Python 3",
   "language": "python",
   "name": "python3"
  },
  "language_info": {
   "codemirror_mode": {
    "name": "ipython",
    "version": 3
   },
   "file_extension": ".py",
   "mimetype": "text/x-python",
   "name": "python",
   "nbconvert_exporter": "python",
   "pygments_lexer": "ipython3",
   "version": "3.7.4"
  }
 },
 "nbformat": 4,
 "nbformat_minor": 4
}
