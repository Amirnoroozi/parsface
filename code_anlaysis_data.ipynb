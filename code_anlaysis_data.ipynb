{
 "cells": [
  {
   "cell_type": "code",
   "execution_count": 61,
   "metadata": {},
   "outputs": [],
   "source": [
    "import pandas as pd\n",
    "dfm = pd.read_csv('5756.csv')\n",
    "dfb = pd.read_csv('instagram sport users.csv')\n",
    "labeled = pd.read_excel('labeled.xlsx')"
   ]
  },
  {
   "cell_type": "code",
   "execution_count": 85,
   "metadata": {},
   "outputs": [],
   "source": [
    "u200 = pd.read_excel('200 یوزر جدید..xlsx')"
   ]
  },
  {
   "cell_type": "code",
   "execution_count": 94,
   "metadata": {},
   "outputs": [],
   "source": [
    "t = u200.merge(dfm, left_on = 'Username', right_on = 'username', how = 'left')#.to_excel('1099.xlsx')"
   ]
  },
  {
   "cell_type": "code",
   "execution_count": 105,
   "metadata": {},
   "outputs": [
    {
     "data": {
      "text/plain": [
       "264"
      ]
     },
     "execution_count": 105,
     "metadata": {},
     "output_type": "execute_result"
    }
   ],
   "source": [
    "t[t['Username'].notna()]['userid'].isna().sum()"
   ]
  },
  {
   "cell_type": "code",
   "execution_count": 63,
   "metadata": {},
   "outputs": [],
   "source": [
    "dfm[~dfm['userid'].isin(dfbu['userid'])].to_excel('3206.xlsx')"
   ]
  },
  {
   "cell_type": "code",
   "execution_count": 73,
   "metadata": {},
   "outputs": [],
   "source": [
    "dfm[~dfm['userid'].isin(dfbu['userid'])][dfm[~dfm['userid'].isin(dfbu['userid'])]['followers']>10000].sort_values('followers').to_excel('1793 with more than 10000.xlsx')"
   ]
  },
  {
   "cell_type": "code",
   "execution_count": 53,
   "metadata": {},
   "outputs": [],
   "source": [
    "isu = labeled.merge(dfm, left_on = 'Username', right_on = 'username', how = 'left')[['userid', '  رشته ورزشی', 'نقش ورزشی', 'Username']]"
   ]
  },
  {
   "cell_type": "code",
   "execution_count": 54,
   "metadata": {},
   "outputs": [],
   "source": [
    "isu = isu[isu['userid'].isna()]#.to_excel('785.xlsx')"
   ]
  },
  {
   "cell_type": "code",
   "execution_count": 74,
   "metadata": {},
   "outputs": [],
   "source": [
    "pd.read_csv('267 users in sport which are not in insta users.csv').to_excel('267 users in sport which are not in insta users.xlsx')"
   ]
  },
  {
   "cell_type": "code",
   "execution_count": 46,
   "metadata": {},
   "outputs": [
    {
     "data": {
      "text/html": [
       "<div>\n",
       "<style scoped>\n",
       "    .dataframe tbody tr th:only-of-type {\n",
       "        vertical-align: middle;\n",
       "    }\n",
       "\n",
       "    .dataframe tbody tr th {\n",
       "        vertical-align: top;\n",
       "    }\n",
       "\n",
       "    .dataframe thead th {\n",
       "        text-align: right;\n",
       "    }\n",
       "</style>\n",
       "<table border=\"1\" class=\"dataframe\">\n",
       "  <thead>\n",
       "    <tr style=\"text-align: right;\">\n",
       "      <th></th>\n",
       "      <th>userid</th>\n",
       "      <th>field</th>\n",
       "      <th>role</th>\n",
       "      <th>رشته ورزشی</th>\n",
       "      <th>نقش ورزشی</th>\n",
       "      <th>Username</th>\n",
       "    </tr>\n",
       "  </thead>\n",
       "  <tbody>\n",
       "    <tr>\n",
       "      <th>0</th>\n",
       "      <td>5.705900e+05</td>\n",
       "      <td>ورزش های روستایی و بازیهای بومی محلی</td>\n",
       "      <td>قهرمان</td>\n",
       "      <td>NaN</td>\n",
       "      <td>NaN</td>\n",
       "      <td>NaN</td>\n",
       "    </tr>\n",
       "    <tr>\n",
       "      <th>1</th>\n",
       "      <td>2.451718e+06</td>\n",
       "      <td>دوچرخه سواری</td>\n",
       "      <td>قهرمان</td>\n",
       "      <td>NaN</td>\n",
       "      <td>NaN</td>\n",
       "      <td>NaN</td>\n",
       "    </tr>\n",
       "    <tr>\n",
       "      <th>2</th>\n",
       "      <td>3.389624e+06</td>\n",
       "      <td>بدمینتون</td>\n",
       "      <td>ورزشکار</td>\n",
       "      <td>NaN</td>\n",
       "      <td>NaN</td>\n",
       "      <td>NaN</td>\n",
       "    </tr>\n",
       "    <tr>\n",
       "      <th>3</th>\n",
       "      <td>1.485752e+07</td>\n",
       "      <td>جانبازان و معلولین</td>\n",
       "      <td>قهرمان</td>\n",
       "      <td>NaN</td>\n",
       "      <td>NaN</td>\n",
       "      <td>NaN</td>\n",
       "    </tr>\n",
       "    <tr>\n",
       "      <th>4</th>\n",
       "      <td>1.710787e+07</td>\n",
       "      <td>عمومی</td>\n",
       "      <td>رسانه ی مجازی ورزشی</td>\n",
       "      <td>NaN</td>\n",
       "      <td>NaN</td>\n",
       "      <td>NaN</td>\n",
       "    </tr>\n",
       "    <tr>\n",
       "      <th>...</th>\n",
       "      <td>...</td>\n",
       "      <td>...</td>\n",
       "      <td>...</td>\n",
       "      <td>...</td>\n",
       "      <td>...</td>\n",
       "      <td>...</td>\n",
       "    </tr>\n",
       "    <tr>\n",
       "      <th>3582</th>\n",
       "      <td>5.901129e+10</td>\n",
       "      <td>NaN</td>\n",
       "      <td>NaN</td>\n",
       "      <td>تغذیه ورزشی</td>\n",
       "      <td>مربی</td>\n",
       "      <td>armaghan.daily</td>\n",
       "    </tr>\n",
       "    <tr>\n",
       "      <th>3583</th>\n",
       "      <td>3.025006e+09</td>\n",
       "      <td>NaN</td>\n",
       "      <td>NaN</td>\n",
       "      <td>شنا، شیرجه، واترپلو</td>\n",
       "      <td>مربی</td>\n",
       "      <td>_daniallotfi</td>\n",
       "    </tr>\n",
       "    <tr>\n",
       "      <th>3584</th>\n",
       "      <td>6.087317e+10</td>\n",
       "      <td>NaN</td>\n",
       "      <td>NaN</td>\n",
       "      <td>شنای زنان</td>\n",
       "      <td>مربی</td>\n",
       "      <td>swimmingwithbhr</td>\n",
       "    </tr>\n",
       "    <tr>\n",
       "      <th>3585</th>\n",
       "      <td>6.131547e+10</td>\n",
       "      <td>NaN</td>\n",
       "      <td>NaN</td>\n",
       "      <td>کاراته</td>\n",
       "      <td>مربی</td>\n",
       "      <td>karate_sargol</td>\n",
       "    </tr>\n",
       "    <tr>\n",
       "      <th>3586</th>\n",
       "      <td>5.449428e+10</td>\n",
       "      <td>NaN</td>\n",
       "      <td>NaN</td>\n",
       "      <td>کاراته</td>\n",
       "      <td>فروشگاه ورزشی</td>\n",
       "      <td>smai_iran</td>\n",
       "    </tr>\n",
       "  </tbody>\n",
       "</table>\n",
       "<p>3583 rows × 6 columns</p>\n",
       "</div>"
      ],
      "text/plain": [
       "            userid                                 field                 role  \\\n",
       "0     5.705900e+05  ورزش های روستایی و بازیهای بومی محلی               قهرمان   \n",
       "1     2.451718e+06                          دوچرخه سواری               قهرمان   \n",
       "2     3.389624e+06                              بدمینتون              ورزشکار   \n",
       "3     1.485752e+07                   جانبازان و معلولین                قهرمان   \n",
       "4     1.710787e+07                                 عمومی  رسانه ی مجازی ورزشی   \n",
       "...            ...                                   ...                  ...   \n",
       "3582  5.901129e+10                                   NaN                  NaN   \n",
       "3583  3.025006e+09                                   NaN                  NaN   \n",
       "3584  6.087317e+10                                   NaN                  NaN   \n",
       "3585  6.131547e+10                                   NaN                  NaN   \n",
       "3586  5.449428e+10                                   NaN                  NaN   \n",
       "\n",
       "               رشته ورزشی      نقش ورزشی         Username  \n",
       "0                     NaN            NaN              NaN  \n",
       "1                     NaN            NaN              NaN  \n",
       "2                     NaN            NaN              NaN  \n",
       "3                     NaN            NaN              NaN  \n",
       "4                     NaN            NaN              NaN  \n",
       "...                   ...            ...              ...  \n",
       "3582          تغذیه ورزشی           مربی   armaghan.daily  \n",
       "3583  شنا، شیرجه، واترپلو           مربی     _daniallotfi  \n",
       "3584            شنای زنان           مربی  swimmingwithbhr  \n",
       "3585               کاراته           مربی    karate_sargol  \n",
       "3586               کاراته  فروشگاه ورزشی        smai_iran  \n",
       "\n",
       "[3583 rows x 6 columns]"
      ]
     },
     "execution_count": 46,
     "metadata": {},
     "output_type": "execute_result"
    }
   ],
   "source": [
    "dfbu.append(isu, ignore_index=True).drop_duplicates()"
   ]
  },
  {
   "cell_type": "code",
   "execution_count": 78,
   "metadata": {},
   "outputs": [],
   "source": [
    "isu[isu['userid'].isna()].to_excel('no userid users.xlsx')"
   ]
  },
  {
   "cell_type": "code",
   "execution_count": 74,
   "metadata": {},
   "outputs": [
    {
     "data": {
      "text/html": [
       "<div>\n",
       "<style scoped>\n",
       "    .dataframe tbody tr th:only-of-type {\n",
       "        vertical-align: middle;\n",
       "    }\n",
       "\n",
       "    .dataframe tbody tr th {\n",
       "        vertical-align: top;\n",
       "    }\n",
       "\n",
       "    .dataframe thead th {\n",
       "        text-align: right;\n",
       "    }\n",
       "</style>\n",
       "<table border=\"1\" class=\"dataframe\">\n",
       "  <thead>\n",
       "    <tr style=\"text-align: right;\">\n",
       "      <th></th>\n",
       "      <th>userid</th>\n",
       "      <th>رشته ورزشی</th>\n",
       "      <th>نقش ورزشی</th>\n",
       "      <th>username</th>\n",
       "    </tr>\n",
       "  </thead>\n",
       "  <tbody>\n",
       "    <tr>\n",
       "      <th>0</th>\n",
       "      <td>2.340262e+08</td>\n",
       "      <td>فوتبال</td>\n",
       "      <td>قهرمان</td>\n",
       "      <td>alidaei</td>\n",
       "    </tr>\n",
       "    <tr>\n",
       "      <th>1</th>\n",
       "      <td>1.416390e+09</td>\n",
       "      <td>فوتبال</td>\n",
       "      <td>گزارشگر</td>\n",
       "      <td>adelferdosipourfan</td>\n",
       "    </tr>\n",
       "    <tr>\n",
       "      <th>2</th>\n",
       "      <td>6.923061e+09</td>\n",
       "      <td>فوتبال</td>\n",
       "      <td>رسانه ی مجازی ورزش</td>\n",
       "      <td>perspolis</td>\n",
       "    </tr>\n",
       "    <tr>\n",
       "      <th>3</th>\n",
       "      <td>4.053637e+10</td>\n",
       "      <td>فوتبال</td>\n",
       "      <td>ورزشکار</td>\n",
       "      <td>isaa_alkasir7_official</td>\n",
       "    </tr>\n",
       "    <tr>\n",
       "      <th>4</th>\n",
       "      <td>1.033537e+09</td>\n",
       "      <td>فوتبال</td>\n",
       "      <td>ورزشکار</td>\n",
       "      <td>soroush_rafiei</td>\n",
       "    </tr>\n",
       "    <tr>\n",
       "      <th>...</th>\n",
       "      <td>...</td>\n",
       "      <td>...</td>\n",
       "      <td>...</td>\n",
       "      <td>...</td>\n",
       "    </tr>\n",
       "    <tr>\n",
       "      <th>1094</th>\n",
       "      <td>NaN</td>\n",
       "      <td>تکواندو</td>\n",
       "      <td>قهرمان</td>\n",
       "      <td>NaN</td>\n",
       "    </tr>\n",
       "    <tr>\n",
       "      <th>1095</th>\n",
       "      <td>NaN</td>\n",
       "      <td>جودو و کوراش</td>\n",
       "      <td>قهرمان</td>\n",
       "      <td>NaN</td>\n",
       "    </tr>\n",
       "    <tr>\n",
       "      <th>1096</th>\n",
       "      <td>NaN</td>\n",
       "      <td>تغذیه ورزشی</td>\n",
       "      <td>مربی</td>\n",
       "      <td>NaN</td>\n",
       "    </tr>\n",
       "    <tr>\n",
       "      <th>1097</th>\n",
       "      <td>NaN</td>\n",
       "      <td>تغذیه ورزشی</td>\n",
       "      <td>فارغ التحصیل حوزه ورزش</td>\n",
       "      <td>NaN</td>\n",
       "    </tr>\n",
       "    <tr>\n",
       "      <th>1098</th>\n",
       "      <td>NaN</td>\n",
       "      <td>تناسب اندام</td>\n",
       "      <td>مربی</td>\n",
       "      <td>NaN</td>\n",
       "    </tr>\n",
       "  </tbody>\n",
       "</table>\n",
       "<p>1099 rows × 4 columns</p>\n",
       "</div>"
      ],
      "text/plain": [
       "            userid    رشته ورزشی               نقش ورزشی  \\\n",
       "0     2.340262e+08        فوتبال                  قهرمان   \n",
       "1     1.416390e+09        فوتبال                 گزارشگر   \n",
       "2     6.923061e+09        فوتبال      رسانه ی مجازی ورزش   \n",
       "3     4.053637e+10        فوتبال                 ورزشکار   \n",
       "4     1.033537e+09        فوتبال                 ورزشکار   \n",
       "...            ...           ...                     ...   \n",
       "1094           NaN       تکواندو                  قهرمان   \n",
       "1095           NaN  جودو و کوراش                  قهرمان   \n",
       "1096           NaN   تغذیه ورزشی                    مربی   \n",
       "1097           NaN   تغذیه ورزشی  فارغ التحصیل حوزه ورزش   \n",
       "1098           NaN   تناسب اندام                    مربی   \n",
       "\n",
       "                    username  \n",
       "0                    alidaei  \n",
       "1         adelferdosipourfan  \n",
       "2                  perspolis  \n",
       "3     isaa_alkasir7_official  \n",
       "4             soroush_rafiei  \n",
       "...                      ...  \n",
       "1094                     NaN  \n",
       "1095                     NaN  \n",
       "1096                     NaN  \n",
       "1097                     NaN  \n",
       "1098                     NaN  \n",
       "\n",
       "[1099 rows x 4 columns]"
      ]
     },
     "execution_count": 74,
     "metadata": {},
     "output_type": "execute_result"
    }
   ],
   "source": [
    "isu"
   ]
  },
  {
   "cell_type": "code",
   "execution_count": 63,
   "metadata": {},
   "outputs": [
    {
     "data": {
      "text/html": [
       "<div>\n",
       "<style scoped>\n",
       "    .dataframe tbody tr th:only-of-type {\n",
       "        vertical-align: middle;\n",
       "    }\n",
       "\n",
       "    .dataframe tbody tr th {\n",
       "        vertical-align: top;\n",
       "    }\n",
       "\n",
       "    .dataframe thead th {\n",
       "        text-align: right;\n",
       "    }\n",
       "</style>\n",
       "<table border=\"1\" class=\"dataframe\">\n",
       "  <thead>\n",
       "    <tr style=\"text-align: right;\">\n",
       "      <th></th>\n",
       "      <th>Username</th>\n",
       "      <th>madiacant</th>\n",
       "      <th>followerwes</th>\n",
       "      <th>followess</th>\n",
       "      <th>رشته ورزشی</th>\n",
       "      <th>نقش ورزشی</th>\n",
       "    </tr>\n",
       "  </thead>\n",
       "  <tbody>\n",
       "    <tr>\n",
       "      <th>0</th>\n",
       "      <td>alidaei</td>\n",
       "      <td>124.0</td>\n",
       "      <td>12.4M</td>\n",
       "      <td>10.0</td>\n",
       "      <td>فوتبال</td>\n",
       "      <td>قهرمان</td>\n",
       "    </tr>\n",
       "    <tr>\n",
       "      <th>1</th>\n",
       "      <td>adelferdosipourfan</td>\n",
       "      <td>2842.0</td>\n",
       "      <td>3.5M</td>\n",
       "      <td>499.0</td>\n",
       "      <td>فوتبال</td>\n",
       "      <td>گزارشگر</td>\n",
       "    </tr>\n",
       "    <tr>\n",
       "      <th>2</th>\n",
       "      <td>perspolis</td>\n",
       "      <td>5112.0</td>\n",
       "      <td>8.9M</td>\n",
       "      <td>68.0</td>\n",
       "      <td>فوتبال</td>\n",
       "      <td>رسانه ی مجازی ورزش</td>\n",
       "    </tr>\n",
       "    <tr>\n",
       "      <th>3</th>\n",
       "      <td>isaa_alkasir7_official</td>\n",
       "      <td>42.0</td>\n",
       "      <td>1M</td>\n",
       "      <td>241.0</td>\n",
       "      <td>فوتبال</td>\n",
       "      <td>ورزشکار</td>\n",
       "    </tr>\n",
       "    <tr>\n",
       "      <th>4</th>\n",
       "      <td>soroush_rafiei</td>\n",
       "      <td>412.0</td>\n",
       "      <td>2.5M</td>\n",
       "      <td>431.0</td>\n",
       "      <td>فوتبال</td>\n",
       "      <td>ورزشکار</td>\n",
       "    </tr>\n",
       "    <tr>\n",
       "      <th>...</th>\n",
       "      <td>...</td>\n",
       "      <td>...</td>\n",
       "      <td>...</td>\n",
       "      <td>...</td>\n",
       "      <td>...</td>\n",
       "      <td>...</td>\n",
       "    </tr>\n",
       "    <tr>\n",
       "      <th>1094</th>\n",
       "      <td>bahraami.sina</td>\n",
       "      <td>NaN</td>\n",
       "      <td>NaN</td>\n",
       "      <td>NaN</td>\n",
       "      <td>تکواندو</td>\n",
       "      <td>قهرمان</td>\n",
       "    </tr>\n",
       "    <tr>\n",
       "      <th>1095</th>\n",
       "      <td>reihane.gilani</td>\n",
       "      <td>NaN</td>\n",
       "      <td>NaN</td>\n",
       "      <td>NaN</td>\n",
       "      <td>جودو و کوراش</td>\n",
       "      <td>قهرمان</td>\n",
       "    </tr>\n",
       "    <tr>\n",
       "      <th>1096</th>\n",
       "      <td>shojafit</td>\n",
       "      <td>NaN</td>\n",
       "      <td>NaN</td>\n",
       "      <td>NaN</td>\n",
       "      <td>تغذیه ورزشی</td>\n",
       "      <td>مربی</td>\n",
       "    </tr>\n",
       "    <tr>\n",
       "      <th>1097</th>\n",
       "      <td>sattar.fit</td>\n",
       "      <td>NaN</td>\n",
       "      <td>NaN</td>\n",
       "      <td>NaN</td>\n",
       "      <td>تغذیه ورزشی</td>\n",
       "      <td>فارغ التحصیل حوزه ورزش</td>\n",
       "    </tr>\n",
       "    <tr>\n",
       "      <th>1098</th>\n",
       "      <td>negarsami</td>\n",
       "      <td>NaN</td>\n",
       "      <td>NaN</td>\n",
       "      <td>NaN</td>\n",
       "      <td>تناسب اندام</td>\n",
       "      <td>مربی</td>\n",
       "    </tr>\n",
       "  </tbody>\n",
       "</table>\n",
       "<p>1099 rows × 6 columns</p>\n",
       "</div>"
      ],
      "text/plain": [
       "                    Username  madiacant followerwes  followess    رشته ورزشی  \\\n",
       "0                    alidaei      124.0       12.4M       10.0        فوتبال   \n",
       "1         adelferdosipourfan     2842.0        3.5M      499.0        فوتبال   \n",
       "2                  perspolis     5112.0        8.9M       68.0        فوتبال   \n",
       "3     isaa_alkasir7_official       42.0          1M      241.0        فوتبال   \n",
       "4             soroush_rafiei      412.0        2.5M      431.0        فوتبال   \n",
       "...                      ...        ...         ...        ...           ...   \n",
       "1094           bahraami.sina        NaN         NaN        NaN       تکواندو   \n",
       "1095          reihane.gilani        NaN         NaN        NaN  جودو و کوراش   \n",
       "1096                shojafit        NaN         NaN        NaN   تغذیه ورزشی   \n",
       "1097              sattar.fit        NaN         NaN        NaN   تغذیه ورزشی   \n",
       "1098               negarsami        NaN         NaN        NaN   تناسب اندام   \n",
       "\n",
       "                   نقش ورزشی  \n",
       "0                     قهرمان  \n",
       "1                    گزارشگر  \n",
       "2         رسانه ی مجازی ورزش  \n",
       "3                    ورزشکار  \n",
       "4                    ورزشکار  \n",
       "...                      ...  \n",
       "1094                  قهرمان  \n",
       "1095                  قهرمان  \n",
       "1096                    مربی  \n",
       "1097  فارغ التحصیل حوزه ورزش  \n",
       "1098                    مربی  \n",
       "\n",
       "[1099 rows x 6 columns]"
      ]
     },
     "execution_count": 63,
     "metadata": {},
     "output_type": "execute_result"
    }
   ],
   "source": [
    "labeled"
   ]
  },
  {
   "cell_type": "code",
   "execution_count": 86,
   "metadata": {},
   "outputs": [
    {
     "data": {
      "text/html": [
       "<div>\n",
       "<style scoped>\n",
       "    .dataframe tbody tr th:only-of-type {\n",
       "        vertical-align: middle;\n",
       "    }\n",
       "\n",
       "    .dataframe tbody tr th {\n",
       "        vertical-align: top;\n",
       "    }\n",
       "\n",
       "    .dataframe thead th {\n",
       "        text-align: right;\n",
       "    }\n",
       "</style>\n",
       "<table border=\"1\" class=\"dataframe\">\n",
       "  <thead>\n",
       "    <tr style=\"text-align: right;\">\n",
       "      <th></th>\n",
       "      <th>username</th>\n",
       "      <th>userid</th>\n",
       "      <th>mediacount</th>\n",
       "      <th>followers</th>\n",
       "      <th>followees</th>\n",
       "      <th>bio</th>\n",
       "      <th>url</th>\n",
       "    </tr>\n",
       "  </thead>\n",
       "  <tbody>\n",
       "    <tr>\n",
       "      <th>0</th>\n",
       "      <td>alpha__parkour</td>\n",
       "      <td>1512996599</td>\n",
       "      <td>102</td>\n",
       "      <td>1301</td>\n",
       "      <td>99</td>\n",
       "      <td>دوره های آموزشی پارکور(آقایان و بانوان) برای س...</td>\n",
       "      <td>NaN</td>\n",
       "    </tr>\n",
       "    <tr>\n",
       "      <th>1</th>\n",
       "      <td>royadavoodian_kabaddi</td>\n",
       "      <td>39072970843</td>\n",
       "      <td>219</td>\n",
       "      <td>4123</td>\n",
       "      <td>159</td>\n",
       "      <td>Iran National kabaddi player🇮🇷\\n🥇🥇🥇🥉🥉\\nAsian O...</td>\n",
       "      <td>NaN</td>\n",
       "    </tr>\n",
       "    <tr>\n",
       "      <th>2</th>\n",
       "      <td>pakhsh_omde_varzeshi</td>\n",
       "      <td>62169974357</td>\n",
       "      <td>337</td>\n",
       "      <td>2918</td>\n",
       "      <td>592</td>\n",
       "      <td>پخش:جزیره قشم درگهان بازار زمرد گذر3پلاکD58</td>\n",
       "      <td>NaN</td>\n",
       "    </tr>\n",
       "    <tr>\n",
       "      <th>3</th>\n",
       "      <td>navidomran_com</td>\n",
       "      <td>1720310687</td>\n",
       "      <td>1821</td>\n",
       "      <td>109000</td>\n",
       "      <td>140</td>\n",
       "      <td>مهندس سلیمانی پور. پایه 1 نظارت و اجرا\\nنویسند...</td>\n",
       "      <td>NaN</td>\n",
       "    </tr>\n",
       "    <tr>\n",
       "      <th>4</th>\n",
       "      <td>parkour.doroud</td>\n",
       "      <td>48594790761</td>\n",
       "      <td>53</td>\n",
       "      <td>10386</td>\n",
       "      <td>59</td>\n",
       "      <td>آدرنالین خالص\\nآموزش پارکور و شیرجه\\nCoach: @j...</td>\n",
       "      <td>NaN</td>\n",
       "    </tr>\n",
       "    <tr>\n",
       "      <th>...</th>\n",
       "      <td>...</td>\n",
       "      <td>...</td>\n",
       "      <td>...</td>\n",
       "      <td>...</td>\n",
       "      <td>...</td>\n",
       "      <td>...</td>\n",
       "      <td>...</td>\n",
       "    </tr>\n",
       "    <tr>\n",
       "      <th>5701</th>\n",
       "      <td>aref_sn</td>\n",
       "      <td>528226092</td>\n",
       "      <td>59</td>\n",
       "      <td>8675</td>\n",
       "      <td>792</td>\n",
       "      <td>🔸 Ex Member of Iran’s national swimming team🏊🇮...</td>\n",
       "      <td>NaN</td>\n",
       "    </tr>\n",
       "    <tr>\n",
       "      <th>5702</th>\n",
       "      <td>fittestaninsta</td>\n",
       "      <td>44955566185</td>\n",
       "      <td>185</td>\n",
       "      <td>32402</td>\n",
       "      <td>236</td>\n",
       "      <td>💃کلی آموزش رایگان همینجاست\\n🏋‍♀️ تناسب اندامت ...</td>\n",
       "      <td>NaN</td>\n",
       "    </tr>\n",
       "    <tr>\n",
       "      <th>5703</th>\n",
       "      <td>amirreza_khanjani</td>\n",
       "      <td>1403135867</td>\n",
       "      <td>91</td>\n",
       "      <td>7236</td>\n",
       "      <td>373</td>\n",
       "      <td>مربی و داور دوومیدانی\\nمربی بدنساز اختصاصی رشت...</td>\n",
       "      <td>NaN</td>\n",
       "    </tr>\n",
       "    <tr>\n",
       "      <th>5704</th>\n",
       "      <td>gashtaclub</td>\n",
       "      <td>1462896416</td>\n",
       "      <td>2423</td>\n",
       "      <td>22210</td>\n",
       "      <td>455</td>\n",
       "      <td>طبیعتگردی با هزاران سفر موفق داخلی و خارجی با ...</td>\n",
       "      <td>NaN</td>\n",
       "    </tr>\n",
       "    <tr>\n",
       "      <th>5705</th>\n",
       "      <td>bike_onlineshop</td>\n",
       "      <td>7062738730</td>\n",
       "      <td>379</td>\n",
       "      <td>21124</td>\n",
       "      <td>657</td>\n",
       "      <td>〽️افتخارهزاران رضایتمندی،جهت اعتمادبیشتربه ماح...</td>\n",
       "      <td>NaN</td>\n",
       "    </tr>\n",
       "  </tbody>\n",
       "</table>\n",
       "<p>5706 rows × 7 columns</p>\n",
       "</div>"
      ],
      "text/plain": [
       "                   username       userid  mediacount  followers  followees  \\\n",
       "0            alpha__parkour   1512996599         102       1301         99   \n",
       "1     royadavoodian_kabaddi  39072970843         219       4123        159   \n",
       "2      pakhsh_omde_varzeshi  62169974357         337       2918        592   \n",
       "3            navidomran_com   1720310687        1821     109000        140   \n",
       "4            parkour.doroud  48594790761          53      10386         59   \n",
       "...                     ...          ...         ...        ...        ...   \n",
       "5701                aref_sn    528226092          59       8675        792   \n",
       "5702         fittestaninsta  44955566185         185      32402        236   \n",
       "5703      amirreza_khanjani   1403135867          91       7236        373   \n",
       "5704             gashtaclub   1462896416        2423      22210        455   \n",
       "5705        bike_onlineshop   7062738730         379      21124        657   \n",
       "\n",
       "                                                    bio  url  \n",
       "0     دوره های آموزشی پارکور(آقایان و بانوان) برای س...  NaN  \n",
       "1     Iran National kabaddi player🇮🇷\\n🥇🥇🥇🥉🥉\\nAsian O...  NaN  \n",
       "2           پخش:جزیره قشم درگهان بازار زمرد گذر3پلاکD58  NaN  \n",
       "3     مهندس سلیمانی پور. پایه 1 نظارت و اجرا\\nنویسند...  NaN  \n",
       "4     آدرنالین خالص\\nآموزش پارکور و شیرجه\\nCoach: @j...  NaN  \n",
       "...                                                 ...  ...  \n",
       "5701  🔸 Ex Member of Iran’s national swimming team🏊🇮...  NaN  \n",
       "5702  💃کلی آموزش رایگان همینجاست\\n🏋‍♀️ تناسب اندامت ...  NaN  \n",
       "5703  مربی و داور دوومیدانی\\nمربی بدنساز اختصاصی رشت...  NaN  \n",
       "5704  طبیعتگردی با هزاران سفر موفق داخلی و خارجی با ...  NaN  \n",
       "5705  〽️افتخارهزاران رضایتمندی،جهت اعتمادبیشتربه ماح...  NaN  \n",
       "\n",
       "[5706 rows x 7 columns]"
      ]
     },
     "execution_count": 86,
     "metadata": {},
     "output_type": "execute_result"
    }
   ],
   "source": [
    "dfm#.drop_duplicates()"
   ]
  },
  {
   "cell_type": "code",
   "execution_count": 2,
   "metadata": {},
   "outputs": [
    {
     "name": "stdout",
     "output_type": "stream",
     "text": [
      "  my_list_column\n",
      "0      [1, 2, 3]\n",
      "2      [6, 7, 8]\n"
     ]
    }
   ],
   "source": [
    "import pandas as pd\n",
    "df = pd.DataFrame({\n",
    "    'my_list_column': [\n",
    "        [1, 2, 3],\n",
    "        [4, 5],\n",
    "        [6, 7, 8],\n",
    "        [9]\n",
    "    ]\n",
    "})\n",
    "\n",
    "# Example list of values\n",
    "list_of_values = [3, 6]\n",
    "\n",
    "# Filter rows where at least one element from the list occurs\n",
    "filtered_df = df[df['my_list_column'].apply(lambda x: any(item in x for item in list_of_values))]\n",
    "\n",
    "print(filtered_df)"
   ]
  },
  {
   "cell_type": "markdown",
   "metadata": {},
   "source": [
    "# Working with captions"
   ]
  },
  {
   "cell_type": "code",
   "execution_count": 88,
   "metadata": {},
   "outputs": [],
   "source": [
    "with open('res.txt', 'r', encoding = 'utf-8') as file:\n",
    "    data = file.readlines()"
   ]
  },
  {
   "cell_type": "code",
   "execution_count": 93,
   "metadata": {},
   "outputs": [],
   "source": [
    "df = pd.DataFrame([x.strip('\\n').split(',,, ') for x in data])"
   ]
  },
  {
   "cell_type": "code",
   "execution_count": 172,
   "metadata": {
    "collapsed": true,
    "jupyter": {
     "outputs_hidden": true
    }
   },
   "outputs": [
    {
     "ename": "ValueError",
     "evalue": "Data must be 1-dimensional",
     "output_type": "error",
     "traceback": [
      "\u001b[1;31m---------------------------------------------------------------------------\u001b[0m",
      "\u001b[1;31mValueError\u001b[0m                                Traceback (most recent call last)",
      "\u001b[1;32m<ipython-input-172-512eae3dd736>\u001b[0m in \u001b[0;36m<module>\u001b[1;34m\u001b[0m\n\u001b[1;32m----> 1\u001b[1;33m \u001b[0mdf\u001b[0m\u001b[1;33m[\u001b[0m\u001b[1;36m10\u001b[0m\u001b[1;33m]\u001b[0m\u001b[1;33m.\u001b[0m\u001b[0mstr\u001b[0m\u001b[1;33m.\u001b[0m\u001b[0mextract\u001b[0m\u001b[1;33m(\u001b[0m\u001b[1;34mr'([0-9]{2,4})'\u001b[0m\u001b[1;33m)\u001b[0m\u001b[1;33m.\u001b[0m\u001b[0mfillna\u001b[0m\u001b[1;33m(\u001b[0m\u001b[1;33m-\u001b[0m\u001b[1;36m1\u001b[0m\u001b[1;33m)\u001b[0m\u001b[1;33m.\u001b[0m\u001b[0mastype\u001b[0m\u001b[1;33m(\u001b[0m\u001b[0mfloat\u001b[0m\u001b[1;33m)\u001b[0m\u001b[1;33m.\u001b[0m\u001b[0mvalues\u001b[0m\u001b[1;33m-\u001b[0m\u001b[0mdf\u001b[0m\u001b[1;33m[\u001b[0m\u001b[1;36m7\u001b[0m\u001b[1;33m]\u001b[0m\u001b[1;33m.\u001b[0m\u001b[0mstr\u001b[0m\u001b[1;33m[\u001b[0m\u001b[1;36m1\u001b[0m\u001b[1;33m:\u001b[0m\u001b[1;36m5\u001b[0m\u001b[1;33m]\u001b[0m\u001b[1;33m.\u001b[0m\u001b[0mastype\u001b[0m\u001b[1;33m(\u001b[0m\u001b[0mfloat\u001b[0m\u001b[1;33m)\u001b[0m\u001b[1;33m\u001b[0m\u001b[1;33m\u001b[0m\u001b[0m\n\u001b[0m",
      "\u001b[1;32m~\\Anaconda3\\lib\\site-packages\\pandas\\core\\generic.py\u001b[0m in \u001b[0;36m__array_ufunc__\u001b[1;34m(self, ufunc, method, *inputs, **kwargs)\u001b[0m\n\u001b[0;32m   2030\u001b[0m         \u001b[0mself\u001b[0m\u001b[1;33m,\u001b[0m \u001b[0mufunc\u001b[0m\u001b[1;33m:\u001b[0m \u001b[0mnp\u001b[0m\u001b[1;33m.\u001b[0m\u001b[0mufunc\u001b[0m\u001b[1;33m,\u001b[0m \u001b[0mmethod\u001b[0m\u001b[1;33m:\u001b[0m \u001b[0mstr\u001b[0m\u001b[1;33m,\u001b[0m \u001b[1;33m*\u001b[0m\u001b[0minputs\u001b[0m\u001b[1;33m:\u001b[0m \u001b[0mAny\u001b[0m\u001b[1;33m,\u001b[0m \u001b[1;33m**\u001b[0m\u001b[0mkwargs\u001b[0m\u001b[1;33m:\u001b[0m \u001b[0mAny\u001b[0m\u001b[1;33m\u001b[0m\u001b[1;33m\u001b[0m\u001b[0m\n\u001b[0;32m   2031\u001b[0m     ):\n\u001b[1;32m-> 2032\u001b[1;33m         \u001b[1;32mreturn\u001b[0m \u001b[0marraylike\u001b[0m\u001b[1;33m.\u001b[0m\u001b[0marray_ufunc\u001b[0m\u001b[1;33m(\u001b[0m\u001b[0mself\u001b[0m\u001b[1;33m,\u001b[0m \u001b[0mufunc\u001b[0m\u001b[1;33m,\u001b[0m \u001b[0mmethod\u001b[0m\u001b[1;33m,\u001b[0m \u001b[1;33m*\u001b[0m\u001b[0minputs\u001b[0m\u001b[1;33m,\u001b[0m \u001b[1;33m**\u001b[0m\u001b[0mkwargs\u001b[0m\u001b[1;33m)\u001b[0m\u001b[1;33m\u001b[0m\u001b[1;33m\u001b[0m\u001b[0m\n\u001b[0m\u001b[0;32m   2033\u001b[0m \u001b[1;33m\u001b[0m\u001b[0m\n\u001b[0;32m   2034\u001b[0m     \u001b[1;31m# ideally we would define this to avoid the getattr checks, but\u001b[0m\u001b[1;33m\u001b[0m\u001b[1;33m\u001b[0m\u001b[1;33m\u001b[0m\u001b[0m\n",
      "\u001b[1;32m~\\Anaconda3\\lib\\site-packages\\pandas\\core\\arraylike.py\u001b[0m in \u001b[0;36marray_ufunc\u001b[1;34m(self, ufunc, method, *inputs, **kwargs)\u001b[0m\n\u001b[0;32m    251\u001b[0m \u001b[1;33m\u001b[0m\u001b[0m\n\u001b[0;32m    252\u001b[0m     \u001b[1;31m# for binary ops, use our custom dunder methods\u001b[0m\u001b[1;33m\u001b[0m\u001b[1;33m\u001b[0m\u001b[1;33m\u001b[0m\u001b[0m\n\u001b[1;32m--> 253\u001b[1;33m     \u001b[0mresult\u001b[0m \u001b[1;33m=\u001b[0m \u001b[0mmaybe_dispatch_ufunc_to_dunder_op\u001b[0m\u001b[1;33m(\u001b[0m\u001b[0mself\u001b[0m\u001b[1;33m,\u001b[0m \u001b[0mufunc\u001b[0m\u001b[1;33m,\u001b[0m \u001b[0mmethod\u001b[0m\u001b[1;33m,\u001b[0m \u001b[1;33m*\u001b[0m\u001b[0minputs\u001b[0m\u001b[1;33m,\u001b[0m \u001b[1;33m**\u001b[0m\u001b[0mkwargs\u001b[0m\u001b[1;33m)\u001b[0m\u001b[1;33m\u001b[0m\u001b[1;33m\u001b[0m\u001b[0m\n\u001b[0m\u001b[0;32m    254\u001b[0m     \u001b[1;32mif\u001b[0m \u001b[0mresult\u001b[0m \u001b[1;32mis\u001b[0m \u001b[1;32mnot\u001b[0m \u001b[0mNotImplemented\u001b[0m\u001b[1;33m:\u001b[0m\u001b[1;33m\u001b[0m\u001b[1;33m\u001b[0m\u001b[0m\n\u001b[0;32m    255\u001b[0m         \u001b[1;32mreturn\u001b[0m \u001b[0mresult\u001b[0m\u001b[1;33m\u001b[0m\u001b[1;33m\u001b[0m\u001b[0m\n",
      "\u001b[1;32m~\\Anaconda3\\lib\\site-packages\\pandas\\_libs\\ops_dispatch.pyx\u001b[0m in \u001b[0;36mpandas._libs.ops_dispatch.maybe_dispatch_ufunc_to_dunder_op\u001b[1;34m()\u001b[0m\n",
      "\u001b[1;32m~\\Anaconda3\\lib\\site-packages\\pandas\\core\\ops\\common.py\u001b[0m in \u001b[0;36mnew_method\u001b[1;34m(self, other)\u001b[0m\n\u001b[0;32m     67\u001b[0m         \u001b[0mother\u001b[0m \u001b[1;33m=\u001b[0m \u001b[0mitem_from_zerodim\u001b[0m\u001b[1;33m(\u001b[0m\u001b[0mother\u001b[0m\u001b[1;33m)\u001b[0m\u001b[1;33m\u001b[0m\u001b[1;33m\u001b[0m\u001b[0m\n\u001b[0;32m     68\u001b[0m \u001b[1;33m\u001b[0m\u001b[0m\n\u001b[1;32m---> 69\u001b[1;33m         \u001b[1;32mreturn\u001b[0m \u001b[0mmethod\u001b[0m\u001b[1;33m(\u001b[0m\u001b[0mself\u001b[0m\u001b[1;33m,\u001b[0m \u001b[0mother\u001b[0m\u001b[1;33m)\u001b[0m\u001b[1;33m\u001b[0m\u001b[1;33m\u001b[0m\u001b[0m\n\u001b[0m\u001b[0;32m     70\u001b[0m \u001b[1;33m\u001b[0m\u001b[0m\n\u001b[0;32m     71\u001b[0m     \u001b[1;32mreturn\u001b[0m \u001b[0mnew_method\u001b[0m\u001b[1;33m\u001b[0m\u001b[1;33m\u001b[0m\u001b[0m\n",
      "\u001b[1;32m~\\Anaconda3\\lib\\site-packages\\pandas\\core\\arraylike.py\u001b[0m in \u001b[0;36m__rsub__\u001b[1;34m(self, other)\u001b[0m\n\u001b[0;32m    102\u001b[0m     \u001b[1;33m@\u001b[0m\u001b[0munpack_zerodim_and_defer\u001b[0m\u001b[1;33m(\u001b[0m\u001b[1;34m\"__rsub__\"\u001b[0m\u001b[1;33m)\u001b[0m\u001b[1;33m\u001b[0m\u001b[1;33m\u001b[0m\u001b[0m\n\u001b[0;32m    103\u001b[0m     \u001b[1;32mdef\u001b[0m \u001b[0m__rsub__\u001b[0m\u001b[1;33m(\u001b[0m\u001b[0mself\u001b[0m\u001b[1;33m,\u001b[0m \u001b[0mother\u001b[0m\u001b[1;33m)\u001b[0m\u001b[1;33m:\u001b[0m\u001b[1;33m\u001b[0m\u001b[1;33m\u001b[0m\u001b[0m\n\u001b[1;32m--> 104\u001b[1;33m         \u001b[1;32mreturn\u001b[0m \u001b[0mself\u001b[0m\u001b[1;33m.\u001b[0m\u001b[0m_arith_method\u001b[0m\u001b[1;33m(\u001b[0m\u001b[0mother\u001b[0m\u001b[1;33m,\u001b[0m \u001b[0mroperator\u001b[0m\u001b[1;33m.\u001b[0m\u001b[0mrsub\u001b[0m\u001b[1;33m)\u001b[0m\u001b[1;33m\u001b[0m\u001b[1;33m\u001b[0m\u001b[0m\n\u001b[0m\u001b[0;32m    105\u001b[0m \u001b[1;33m\u001b[0m\u001b[0m\n\u001b[0;32m    106\u001b[0m     \u001b[1;33m@\u001b[0m\u001b[0munpack_zerodim_and_defer\u001b[0m\u001b[1;33m(\u001b[0m\u001b[1;34m\"__mul__\"\u001b[0m\u001b[1;33m)\u001b[0m\u001b[1;33m\u001b[0m\u001b[1;33m\u001b[0m\u001b[0m\n",
      "\u001b[1;32m~\\Anaconda3\\lib\\site-packages\\pandas\\core\\series.py\u001b[0m in \u001b[0;36m_arith_method\u001b[1;34m(self, other, op)\u001b[0m\n\u001b[0;32m   5526\u001b[0m             \u001b[0mresult\u001b[0m \u001b[1;33m=\u001b[0m \u001b[0mops\u001b[0m\u001b[1;33m.\u001b[0m\u001b[0marithmetic_op\u001b[0m\u001b[1;33m(\u001b[0m\u001b[0mlvalues\u001b[0m\u001b[1;33m,\u001b[0m \u001b[0mrvalues\u001b[0m\u001b[1;33m,\u001b[0m \u001b[0mop\u001b[0m\u001b[1;33m)\u001b[0m\u001b[1;33m\u001b[0m\u001b[1;33m\u001b[0m\u001b[0m\n\u001b[0;32m   5527\u001b[0m \u001b[1;33m\u001b[0m\u001b[0m\n\u001b[1;32m-> 5528\u001b[1;33m         \u001b[1;32mreturn\u001b[0m \u001b[0mself\u001b[0m\u001b[1;33m.\u001b[0m\u001b[0m_construct_result\u001b[0m\u001b[1;33m(\u001b[0m\u001b[0mresult\u001b[0m\u001b[1;33m,\u001b[0m \u001b[0mname\u001b[0m\u001b[1;33m=\u001b[0m\u001b[0mres_name\u001b[0m\u001b[1;33m)\u001b[0m\u001b[1;33m\u001b[0m\u001b[1;33m\u001b[0m\u001b[0m\n\u001b[0m\u001b[0;32m   5529\u001b[0m \u001b[1;33m\u001b[0m\u001b[0m\n\u001b[0;32m   5530\u001b[0m \u001b[1;33m\u001b[0m\u001b[0m\n",
      "\u001b[1;32m~\\Anaconda3\\lib\\site-packages\\pandas\\core\\series.py\u001b[0m in \u001b[0;36m_construct_result\u001b[1;34m(self, result, name)\u001b[0m\n\u001b[0;32m   2943\u001b[0m         \u001b[1;31m# We do not pass dtype to ensure that the Series constructor\u001b[0m\u001b[1;33m\u001b[0m\u001b[1;33m\u001b[0m\u001b[1;33m\u001b[0m\u001b[0m\n\u001b[0;32m   2944\u001b[0m         \u001b[1;31m#  does inference in the case where `result` has object-dtype.\u001b[0m\u001b[1;33m\u001b[0m\u001b[1;33m\u001b[0m\u001b[1;33m\u001b[0m\u001b[0m\n\u001b[1;32m-> 2945\u001b[1;33m         \u001b[0mout\u001b[0m \u001b[1;33m=\u001b[0m \u001b[0mself\u001b[0m\u001b[1;33m.\u001b[0m\u001b[0m_constructor\u001b[0m\u001b[1;33m(\u001b[0m\u001b[0mresult\u001b[0m\u001b[1;33m,\u001b[0m \u001b[0mindex\u001b[0m\u001b[1;33m=\u001b[0m\u001b[0mself\u001b[0m\u001b[1;33m.\u001b[0m\u001b[0mindex\u001b[0m\u001b[1;33m)\u001b[0m\u001b[1;33m\u001b[0m\u001b[1;33m\u001b[0m\u001b[0m\n\u001b[0m\u001b[0;32m   2946\u001b[0m         \u001b[0mout\u001b[0m \u001b[1;33m=\u001b[0m \u001b[0mout\u001b[0m\u001b[1;33m.\u001b[0m\u001b[0m__finalize__\u001b[0m\u001b[1;33m(\u001b[0m\u001b[0mself\u001b[0m\u001b[1;33m)\u001b[0m\u001b[1;33m\u001b[0m\u001b[1;33m\u001b[0m\u001b[0m\n\u001b[0;32m   2947\u001b[0m \u001b[1;33m\u001b[0m\u001b[0m\n",
      "\u001b[1;32m~\\Anaconda3\\lib\\site-packages\\pandas\\core\\series.py\u001b[0m in \u001b[0;36m__init__\u001b[1;34m(self, data, index, dtype, name, copy, fastpath)\u001b[0m\n\u001b[0;32m    437\u001b[0m                     \u001b[0mdata\u001b[0m \u001b[1;33m=\u001b[0m \u001b[0mdata\u001b[0m\u001b[1;33m.\u001b[0m\u001b[0mcopy\u001b[0m\u001b[1;33m(\u001b[0m\u001b[1;33m)\u001b[0m\u001b[1;33m\u001b[0m\u001b[1;33m\u001b[0m\u001b[0m\n\u001b[0;32m    438\u001b[0m             \u001b[1;32melse\u001b[0m\u001b[1;33m:\u001b[0m\u001b[1;33m\u001b[0m\u001b[1;33m\u001b[0m\u001b[0m\n\u001b[1;32m--> 439\u001b[1;33m                 \u001b[0mdata\u001b[0m \u001b[1;33m=\u001b[0m \u001b[0msanitize_array\u001b[0m\u001b[1;33m(\u001b[0m\u001b[0mdata\u001b[0m\u001b[1;33m,\u001b[0m \u001b[0mindex\u001b[0m\u001b[1;33m,\u001b[0m \u001b[0mdtype\u001b[0m\u001b[1;33m,\u001b[0m \u001b[0mcopy\u001b[0m\u001b[1;33m)\u001b[0m\u001b[1;33m\u001b[0m\u001b[1;33m\u001b[0m\u001b[0m\n\u001b[0m\u001b[0;32m    440\u001b[0m \u001b[1;33m\u001b[0m\u001b[0m\n\u001b[0;32m    441\u001b[0m                 \u001b[0mmanager\u001b[0m \u001b[1;33m=\u001b[0m \u001b[0mget_option\u001b[0m\u001b[1;33m(\u001b[0m\u001b[1;34m\"mode.data_manager\"\u001b[0m\u001b[1;33m)\u001b[0m\u001b[1;33m\u001b[0m\u001b[1;33m\u001b[0m\u001b[0m\n",
      "\u001b[1;32m~\\Anaconda3\\lib\\site-packages\\pandas\\core\\construction.py\u001b[0m in \u001b[0;36msanitize_array\u001b[1;34m(data, index, dtype, copy, raise_cast_failure, allow_2d)\u001b[0m\n\u001b[0;32m    574\u001b[0m                 \u001b[0msubarr\u001b[0m \u001b[1;33m=\u001b[0m \u001b[0mmaybe_infer_to_datetimelike\u001b[0m\u001b[1;33m(\u001b[0m\u001b[0msubarr\u001b[0m\u001b[1;33m)\u001b[0m\u001b[1;33m\u001b[0m\u001b[1;33m\u001b[0m\u001b[0m\n\u001b[0;32m    575\u001b[0m \u001b[1;33m\u001b[0m\u001b[0m\n\u001b[1;32m--> 576\u001b[1;33m     \u001b[0msubarr\u001b[0m \u001b[1;33m=\u001b[0m \u001b[0m_sanitize_ndim\u001b[0m\u001b[1;33m(\u001b[0m\u001b[0msubarr\u001b[0m\u001b[1;33m,\u001b[0m \u001b[0mdata\u001b[0m\u001b[1;33m,\u001b[0m \u001b[0mdtype\u001b[0m\u001b[1;33m,\u001b[0m \u001b[0mindex\u001b[0m\u001b[1;33m,\u001b[0m \u001b[0mallow_2d\u001b[0m\u001b[1;33m=\u001b[0m\u001b[0mallow_2d\u001b[0m\u001b[1;33m)\u001b[0m\u001b[1;33m\u001b[0m\u001b[1;33m\u001b[0m\u001b[0m\n\u001b[0m\u001b[0;32m    577\u001b[0m \u001b[1;33m\u001b[0m\u001b[0m\n\u001b[0;32m    578\u001b[0m     \u001b[1;32mif\u001b[0m \u001b[0misinstance\u001b[0m\u001b[1;33m(\u001b[0m\u001b[0msubarr\u001b[0m\u001b[1;33m,\u001b[0m \u001b[0mnp\u001b[0m\u001b[1;33m.\u001b[0m\u001b[0mndarray\u001b[0m\u001b[1;33m)\u001b[0m\u001b[1;33m:\u001b[0m\u001b[1;33m\u001b[0m\u001b[1;33m\u001b[0m\u001b[0m\n",
      "\u001b[1;32m~\\Anaconda3\\lib\\site-packages\\pandas\\core\\construction.py\u001b[0m in \u001b[0;36m_sanitize_ndim\u001b[1;34m(result, data, dtype, index, allow_2d)\u001b[0m\n\u001b[0;32m    625\u001b[0m             \u001b[1;32mif\u001b[0m \u001b[0mallow_2d\u001b[0m\u001b[1;33m:\u001b[0m\u001b[1;33m\u001b[0m\u001b[1;33m\u001b[0m\u001b[0m\n\u001b[0;32m    626\u001b[0m                 \u001b[1;32mreturn\u001b[0m \u001b[0mresult\u001b[0m\u001b[1;33m\u001b[0m\u001b[1;33m\u001b[0m\u001b[0m\n\u001b[1;32m--> 627\u001b[1;33m             \u001b[1;32mraise\u001b[0m \u001b[0mValueError\u001b[0m\u001b[1;33m(\u001b[0m\u001b[1;34m\"Data must be 1-dimensional\"\u001b[0m\u001b[1;33m)\u001b[0m\u001b[1;33m\u001b[0m\u001b[1;33m\u001b[0m\u001b[0m\n\u001b[0m\u001b[0;32m    628\u001b[0m         \u001b[1;32mif\u001b[0m \u001b[0mis_object_dtype\u001b[0m\u001b[1;33m(\u001b[0m\u001b[0mdtype\u001b[0m\u001b[1;33m)\u001b[0m \u001b[1;32mand\u001b[0m \u001b[0misinstance\u001b[0m\u001b[1;33m(\u001b[0m\u001b[0mdtype\u001b[0m\u001b[1;33m,\u001b[0m \u001b[0mExtensionDtype\u001b[0m\u001b[1;33m)\u001b[0m\u001b[1;33m:\u001b[0m\u001b[1;33m\u001b[0m\u001b[1;33m\u001b[0m\u001b[0m\n\u001b[0;32m    629\u001b[0m             \u001b[1;31m# i.e. PandasDtype(\"O\")\u001b[0m\u001b[1;33m\u001b[0m\u001b[1;33m\u001b[0m\u001b[1;33m\u001b[0m\u001b[0m\n",
      "\u001b[1;31mValueError\u001b[0m: Data must be 1-dimensional"
     ]
    }
   ],
   "source": [
    "df[10].str.extract(r'([0-9]{2,4})').fillna(-1).astype(float).values-df[7].str[1:5].astype(float)"
   ]
  },
  {
   "cell_type": "code",
   "execution_count": 136,
   "metadata": {
    "collapsed": true,
    "jupyter": {
     "outputs_hidden": true
    }
   },
   "outputs": [
    {
     "ename": "OutOfBoundsDatetime",
     "evalue": "Out of bounds nanosecond timestamp: 953-01-01 00:00:00",
     "output_type": "error",
     "traceback": [
      "\u001b[1;31m---------------------------------------------------------------------------\u001b[0m",
      "\u001b[1;31mTypeError\u001b[0m                                 Traceback (most recent call last)",
      "\u001b[1;32m~\\Anaconda3\\lib\\site-packages\\pandas\\core\\tools\\datetimes.py\u001b[0m in \u001b[0;36m_to_datetime_with_format\u001b[1;34m(arg, orig_arg, name, tz, fmt, exact, errors, infer_datetime_format)\u001b[0m\n\u001b[0;32m    508\u001b[0m         \u001b[1;32mtry\u001b[0m\u001b[1;33m:\u001b[0m\u001b[1;33m\u001b[0m\u001b[1;33m\u001b[0m\u001b[0m\n\u001b[1;32m--> 509\u001b[1;33m             \u001b[0mvalues\u001b[0m\u001b[1;33m,\u001b[0m \u001b[0mtz\u001b[0m \u001b[1;33m=\u001b[0m \u001b[0mconversion\u001b[0m\u001b[1;33m.\u001b[0m\u001b[0mdatetime_to_datetime64\u001b[0m\u001b[1;33m(\u001b[0m\u001b[0marg\u001b[0m\u001b[1;33m)\u001b[0m\u001b[1;33m\u001b[0m\u001b[1;33m\u001b[0m\u001b[0m\n\u001b[0m\u001b[0;32m    510\u001b[0m             \u001b[0mdta\u001b[0m \u001b[1;33m=\u001b[0m \u001b[0mDatetimeArray\u001b[0m\u001b[1;33m(\u001b[0m\u001b[0mvalues\u001b[0m\u001b[1;33m,\u001b[0m \u001b[0mdtype\u001b[0m\u001b[1;33m=\u001b[0m\u001b[0mtz_to_dtype\u001b[0m\u001b[1;33m(\u001b[0m\u001b[0mtz\u001b[0m\u001b[1;33m)\u001b[0m\u001b[1;33m)\u001b[0m\u001b[1;33m\u001b[0m\u001b[1;33m\u001b[0m\u001b[0m\n",
      "\u001b[1;32m~\\Anaconda3\\lib\\site-packages\\pandas\\_libs\\tslibs\\conversion.pyx\u001b[0m in \u001b[0;36mpandas._libs.tslibs.conversion.datetime_to_datetime64\u001b[1;34m()\u001b[0m\n",
      "\u001b[1;31mTypeError\u001b[0m: Unrecognized value type: <class 'str'>",
      "\nDuring handling of the above exception, another exception occurred:\n",
      "\u001b[1;31mOutOfBoundsDatetime\u001b[0m                       Traceback (most recent call last)",
      "\u001b[1;32m<ipython-input-136-20ab80e87e86>\u001b[0m in \u001b[0;36m<module>\u001b[1;34m\u001b[0m\n\u001b[1;32m----> 1\u001b[1;33m \u001b[0mpd\u001b[0m\u001b[1;33m.\u001b[0m\u001b[0mto_datetime\u001b[0m\u001b[1;33m(\u001b[0m\u001b[0mdf\u001b[0m\u001b[1;33m[\u001b[0m\u001b[1;36m7\u001b[0m\u001b[1;33m]\u001b[0m\u001b[1;33m.\u001b[0m\u001b[0mstr\u001b[0m\u001b[1;33m[\u001b[0m\u001b[1;36m1\u001b[0m\u001b[1;33m:\u001b[0m\u001b[1;36m5\u001b[0m\u001b[1;33m]\u001b[0m\u001b[1;33m,\u001b[0m \u001b[0mformat\u001b[0m\u001b[1;33m=\u001b[0m\u001b[1;34m'%Y'\u001b[0m\u001b[1;33m)\u001b[0m\u001b[1;33m\u001b[0m\u001b[1;33m\u001b[0m\u001b[0m\n\u001b[0m",
      "\u001b[1;32m~\\Anaconda3\\lib\\site-packages\\pandas\\core\\tools\\datetimes.py\u001b[0m in \u001b[0;36mto_datetime\u001b[1;34m(arg, errors, dayfirst, yearfirst, utc, format, exact, unit, infer_datetime_format, origin, cache)\u001b[0m\n\u001b[0;32m    885\u001b[0m             \u001b[0mresult\u001b[0m \u001b[1;33m=\u001b[0m \u001b[0marg\u001b[0m\u001b[1;33m.\u001b[0m\u001b[0mmap\u001b[0m\u001b[1;33m(\u001b[0m\u001b[0mcache_array\u001b[0m\u001b[1;33m)\u001b[0m\u001b[1;33m\u001b[0m\u001b[1;33m\u001b[0m\u001b[0m\n\u001b[0;32m    886\u001b[0m         \u001b[1;32melse\u001b[0m\u001b[1;33m:\u001b[0m\u001b[1;33m\u001b[0m\u001b[1;33m\u001b[0m\u001b[0m\n\u001b[1;32m--> 887\u001b[1;33m             \u001b[0mvalues\u001b[0m \u001b[1;33m=\u001b[0m \u001b[0mconvert_listlike\u001b[0m\u001b[1;33m(\u001b[0m\u001b[0marg\u001b[0m\u001b[1;33m.\u001b[0m\u001b[0m_values\u001b[0m\u001b[1;33m,\u001b[0m \u001b[0mformat\u001b[0m\u001b[1;33m)\u001b[0m\u001b[1;33m\u001b[0m\u001b[1;33m\u001b[0m\u001b[0m\n\u001b[0m\u001b[0;32m    888\u001b[0m             \u001b[0mresult\u001b[0m \u001b[1;33m=\u001b[0m \u001b[0marg\u001b[0m\u001b[1;33m.\u001b[0m\u001b[0m_constructor\u001b[0m\u001b[1;33m(\u001b[0m\u001b[0mvalues\u001b[0m\u001b[1;33m,\u001b[0m \u001b[0mindex\u001b[0m\u001b[1;33m=\u001b[0m\u001b[0marg\u001b[0m\u001b[1;33m.\u001b[0m\u001b[0mindex\u001b[0m\u001b[1;33m,\u001b[0m \u001b[0mname\u001b[0m\u001b[1;33m=\u001b[0m\u001b[0marg\u001b[0m\u001b[1;33m.\u001b[0m\u001b[0mname\u001b[0m\u001b[1;33m)\u001b[0m\u001b[1;33m\u001b[0m\u001b[1;33m\u001b[0m\u001b[0m\n\u001b[0;32m    889\u001b[0m     \u001b[1;32melif\u001b[0m \u001b[0misinstance\u001b[0m\u001b[1;33m(\u001b[0m\u001b[0marg\u001b[0m\u001b[1;33m,\u001b[0m \u001b[1;33m(\u001b[0m\u001b[0mABCDataFrame\u001b[0m\u001b[1;33m,\u001b[0m \u001b[0mabc\u001b[0m\u001b[1;33m.\u001b[0m\u001b[0mMutableMapping\u001b[0m\u001b[1;33m)\u001b[0m\u001b[1;33m)\u001b[0m\u001b[1;33m:\u001b[0m\u001b[1;33m\u001b[0m\u001b[1;33m\u001b[0m\u001b[0m\n",
      "\u001b[1;32m~\\Anaconda3\\lib\\site-packages\\pandas\\core\\tools\\datetimes.py\u001b[0m in \u001b[0;36m_convert_listlike_datetimes\u001b[1;34m(arg, format, name, tz, unit, errors, infer_datetime_format, dayfirst, yearfirst, exact)\u001b[0m\n\u001b[0;32m    392\u001b[0m     \u001b[1;32mif\u001b[0m \u001b[0mformat\u001b[0m \u001b[1;32mis\u001b[0m \u001b[1;32mnot\u001b[0m \u001b[1;32mNone\u001b[0m\u001b[1;33m:\u001b[0m\u001b[1;33m\u001b[0m\u001b[1;33m\u001b[0m\u001b[0m\n\u001b[0;32m    393\u001b[0m         res = _to_datetime_with_format(\n\u001b[1;32m--> 394\u001b[1;33m             \u001b[0marg\u001b[0m\u001b[1;33m,\u001b[0m \u001b[0morig_arg\u001b[0m\u001b[1;33m,\u001b[0m \u001b[0mname\u001b[0m\u001b[1;33m,\u001b[0m \u001b[0mtz\u001b[0m\u001b[1;33m,\u001b[0m \u001b[0mformat\u001b[0m\u001b[1;33m,\u001b[0m \u001b[0mexact\u001b[0m\u001b[1;33m,\u001b[0m \u001b[0merrors\u001b[0m\u001b[1;33m,\u001b[0m \u001b[0minfer_datetime_format\u001b[0m\u001b[1;33m\u001b[0m\u001b[1;33m\u001b[0m\u001b[0m\n\u001b[0m\u001b[0;32m    395\u001b[0m         )\n\u001b[0;32m    396\u001b[0m         \u001b[1;32mif\u001b[0m \u001b[0mres\u001b[0m \u001b[1;32mis\u001b[0m \u001b[1;32mnot\u001b[0m \u001b[1;32mNone\u001b[0m\u001b[1;33m:\u001b[0m\u001b[1;33m\u001b[0m\u001b[1;33m\u001b[0m\u001b[0m\n",
      "\u001b[1;32m~\\Anaconda3\\lib\\site-packages\\pandas\\core\\tools\\datetimes.py\u001b[0m in \u001b[0;36m_to_datetime_with_format\u001b[1;34m(arg, orig_arg, name, tz, fmt, exact, errors, infer_datetime_format)\u001b[0m\n\u001b[0;32m    511\u001b[0m             \u001b[1;32mreturn\u001b[0m \u001b[0mDatetimeIndex\u001b[0m\u001b[1;33m.\u001b[0m\u001b[0m_simple_new\u001b[0m\u001b[1;33m(\u001b[0m\u001b[0mdta\u001b[0m\u001b[1;33m,\u001b[0m \u001b[0mname\u001b[0m\u001b[1;33m=\u001b[0m\u001b[0mname\u001b[0m\u001b[1;33m)\u001b[0m\u001b[1;33m\u001b[0m\u001b[1;33m\u001b[0m\u001b[0m\n\u001b[0;32m    512\u001b[0m         \u001b[1;32mexcept\u001b[0m \u001b[1;33m(\u001b[0m\u001b[0mValueError\u001b[0m\u001b[1;33m,\u001b[0m \u001b[0mTypeError\u001b[0m\u001b[1;33m)\u001b[0m\u001b[1;33m:\u001b[0m\u001b[1;33m\u001b[0m\u001b[1;33m\u001b[0m\u001b[0m\n\u001b[1;32m--> 513\u001b[1;33m             \u001b[1;32mraise\u001b[0m \u001b[0merr\u001b[0m\u001b[1;33m\u001b[0m\u001b[1;33m\u001b[0m\u001b[0m\n\u001b[0m\u001b[0;32m    514\u001b[0m \u001b[1;33m\u001b[0m\u001b[0m\n\u001b[0;32m    515\u001b[0m \u001b[1;33m\u001b[0m\u001b[0m\n",
      "\u001b[1;32m~\\Anaconda3\\lib\\site-packages\\pandas\\core\\tools\\datetimes.py\u001b[0m in \u001b[0;36m_to_datetime_with_format\u001b[1;34m(arg, orig_arg, name, tz, fmt, exact, errors, infer_datetime_format)\u001b[0m\n\u001b[0;32m    499\u001b[0m         \u001b[1;31m# fallback\u001b[0m\u001b[1;33m\u001b[0m\u001b[1;33m\u001b[0m\u001b[1;33m\u001b[0m\u001b[0m\n\u001b[0;32m    500\u001b[0m         res = _array_strptime_with_fallback(\n\u001b[1;32m--> 501\u001b[1;33m             \u001b[0marg\u001b[0m\u001b[1;33m,\u001b[0m \u001b[0mname\u001b[0m\u001b[1;33m,\u001b[0m \u001b[0mtz\u001b[0m\u001b[1;33m,\u001b[0m \u001b[0mfmt\u001b[0m\u001b[1;33m,\u001b[0m \u001b[0mexact\u001b[0m\u001b[1;33m,\u001b[0m \u001b[0merrors\u001b[0m\u001b[1;33m,\u001b[0m \u001b[0minfer_datetime_format\u001b[0m\u001b[1;33m\u001b[0m\u001b[1;33m\u001b[0m\u001b[0m\n\u001b[0m\u001b[0;32m    502\u001b[0m         )\n\u001b[0;32m    503\u001b[0m         \u001b[1;32mreturn\u001b[0m \u001b[0mres\u001b[0m\u001b[1;33m\u001b[0m\u001b[1;33m\u001b[0m\u001b[0m\n",
      "\u001b[1;32m~\\Anaconda3\\lib\\site-packages\\pandas\\core\\tools\\datetimes.py\u001b[0m in \u001b[0;36m_array_strptime_with_fallback\u001b[1;34m(arg, name, tz, fmt, exact, errors, infer_datetime_format)\u001b[0m\n\u001b[0;32m    434\u001b[0m \u001b[1;33m\u001b[0m\u001b[0m\n\u001b[0;32m    435\u001b[0m     \u001b[1;32mtry\u001b[0m\u001b[1;33m:\u001b[0m\u001b[1;33m\u001b[0m\u001b[1;33m\u001b[0m\u001b[0m\n\u001b[1;32m--> 436\u001b[1;33m         \u001b[0mresult\u001b[0m\u001b[1;33m,\u001b[0m \u001b[0mtimezones\u001b[0m \u001b[1;33m=\u001b[0m \u001b[0marray_strptime\u001b[0m\u001b[1;33m(\u001b[0m\u001b[0marg\u001b[0m\u001b[1;33m,\u001b[0m \u001b[0mfmt\u001b[0m\u001b[1;33m,\u001b[0m \u001b[0mexact\u001b[0m\u001b[1;33m=\u001b[0m\u001b[0mexact\u001b[0m\u001b[1;33m,\u001b[0m \u001b[0merrors\u001b[0m\u001b[1;33m=\u001b[0m\u001b[0merrors\u001b[0m\u001b[1;33m)\u001b[0m\u001b[1;33m\u001b[0m\u001b[1;33m\u001b[0m\u001b[0m\n\u001b[0m\u001b[0;32m    437\u001b[0m         \u001b[1;32mif\u001b[0m \u001b[1;34m\"%Z\"\u001b[0m \u001b[1;32min\u001b[0m \u001b[0mfmt\u001b[0m \u001b[1;32mor\u001b[0m \u001b[1;34m\"%z\"\u001b[0m \u001b[1;32min\u001b[0m \u001b[0mfmt\u001b[0m\u001b[1;33m:\u001b[0m\u001b[1;33m\u001b[0m\u001b[1;33m\u001b[0m\u001b[0m\n\u001b[0;32m    438\u001b[0m             \u001b[1;32mreturn\u001b[0m \u001b[0m_return_parsed_timezone_results\u001b[0m\u001b[1;33m(\u001b[0m\u001b[0mresult\u001b[0m\u001b[1;33m,\u001b[0m \u001b[0mtimezones\u001b[0m\u001b[1;33m,\u001b[0m \u001b[0mtz\u001b[0m\u001b[1;33m,\u001b[0m \u001b[0mname\u001b[0m\u001b[1;33m)\u001b[0m\u001b[1;33m\u001b[0m\u001b[1;33m\u001b[0m\u001b[0m\n",
      "\u001b[1;32m~\\Anaconda3\\lib\\site-packages\\pandas\\_libs\\tslibs\\strptime.pyx\u001b[0m in \u001b[0;36mpandas._libs.tslibs.strptime.array_strptime\u001b[1;34m()\u001b[0m\n",
      "\u001b[1;32m~\\Anaconda3\\lib\\site-packages\\pandas\\_libs\\tslibs\\strptime.pyx\u001b[0m in \u001b[0;36mpandas._libs.tslibs.strptime.array_strptime\u001b[1;34m()\u001b[0m\n",
      "\u001b[1;32m~\\Anaconda3\\lib\\site-packages\\pandas\\_libs\\tslibs\\np_datetime.pyx\u001b[0m in \u001b[0;36mpandas._libs.tslibs.np_datetime.check_dts_bounds\u001b[1;34m()\u001b[0m\n",
      "\u001b[1;31mOutOfBoundsDatetime\u001b[0m: Out of bounds nanosecond timestamp: 953-01-01 00:00:00"
     ]
    }
   ],
   "source": [
    "pd.to_datetime(df[7].str[1:4], format='%Y')"
   ]
  },
  {
   "cell_type": "code",
   "execution_count": 142,
   "metadata": {},
   "outputs": [
    {
     "data": {
      "text/plain": [
       "0      1980.0\n",
       "1      1988.0\n",
       "2      1962.0\n",
       "3      1947.0\n",
       "4      1946.0\n",
       "        ...  \n",
       "150    1937.0\n",
       "151    1912.0\n",
       "152    1944.0\n",
       "153    1987.0\n",
       "154    1957.0\n",
       "Name: 7, Length: 155, dtype: float64"
      ]
     },
     "execution_count": 142,
     "metadata": {},
     "output_type": "execute_result"
    }
   ],
   "source": [
    "df[7].str[1:5].astype(float)"
   ]
  },
  {
   "cell_type": "code",
   "execution_count": 143,
   "metadata": {},
   "outputs": [
    {
     "data": {
      "text/html": [
       "<div>\n",
       "<style scoped>\n",
       "    .dataframe tbody tr th:only-of-type {\n",
       "        vertical-align: middle;\n",
       "    }\n",
       "\n",
       "    .dataframe tbody tr th {\n",
       "        vertical-align: top;\n",
       "    }\n",
       "\n",
       "    .dataframe thead th {\n",
       "        text-align: right;\n",
       "    }\n",
       "</style>\n",
       "<table border=\"1\" class=\"dataframe\">\n",
       "  <thead>\n",
       "    <tr style=\"text-align: right;\">\n",
       "      <th></th>\n",
       "      <th>0</th>\n",
       "    </tr>\n",
       "  </thead>\n",
       "  <tbody>\n",
       "    <tr>\n",
       "      <th>0</th>\n",
       "      <td>2020.0</td>\n",
       "    </tr>\n",
       "    <tr>\n",
       "      <th>1</th>\n",
       "      <td>NaN</td>\n",
       "    </tr>\n",
       "    <tr>\n",
       "      <th>2</th>\n",
       "      <td>NaN</td>\n",
       "    </tr>\n",
       "    <tr>\n",
       "      <th>3</th>\n",
       "      <td>NaN</td>\n",
       "    </tr>\n",
       "    <tr>\n",
       "      <th>4</th>\n",
       "      <td>NaN</td>\n",
       "    </tr>\n",
       "    <tr>\n",
       "      <th>...</th>\n",
       "      <td>...</td>\n",
       "    </tr>\n",
       "    <tr>\n",
       "      <th>150</th>\n",
       "      <td>2007.0</td>\n",
       "    </tr>\n",
       "    <tr>\n",
       "      <th>151</th>\n",
       "      <td>NaN</td>\n",
       "    </tr>\n",
       "    <tr>\n",
       "      <th>152</th>\n",
       "      <td>NaN</td>\n",
       "    </tr>\n",
       "    <tr>\n",
       "      <th>153</th>\n",
       "      <td>NaN</td>\n",
       "    </tr>\n",
       "    <tr>\n",
       "      <th>154</th>\n",
       "      <td>NaN</td>\n",
       "    </tr>\n",
       "  </tbody>\n",
       "</table>\n",
       "<p>155 rows × 1 columns</p>\n",
       "</div>"
      ],
      "text/plain": [
       "          0\n",
       "0    2020.0\n",
       "1       NaN\n",
       "2       NaN\n",
       "3       NaN\n",
       "4       NaN\n",
       "..      ...\n",
       "150  2007.0\n",
       "151     NaN\n",
       "152     NaN\n",
       "153     NaN\n",
       "154     NaN\n",
       "\n",
       "[155 rows x 1 columns]"
      ]
     },
     "execution_count": 143,
     "metadata": {},
     "output_type": "execute_result"
    }
   ],
   "source": [
    "df[10].str.extract(r'([0-9]{2,4})').astype(float)"
   ]
  },
  {
   "cell_type": "code",
   "execution_count": 31,
   "metadata": {},
   "outputs": [],
   "source": [
    "list_of_dicts = [{\n",
    "    'shortcode': 'shortcode',\n",
    "    'date_utc': '2023-11-29 17:09:43+03:30',\n",
    "    'caption': 'test',\n",
    "    'likes': '5',\n",
    "    'comments': '15',\n",
    "    'userid': 173560420,\n",
    "    'caption_hashtags': '#',\n",
    "    'caption_mentions': '@',\n",
    "    'tagged_users': '',\n",
    "    'sentiment': -1,\n",
    "    'topic': 'topic',\n",
    "    'url': 'http://www.i.com',\n",
    "}]"
   ]
  },
  {
   "cell_type": "code",
   "execution_count": 144,
   "metadata": {},
   "outputs": [],
   "source": [
    "#def insert_batch_of_news_to_api(list_of_dicts):\n",
    "import time\n",
    "import requests\n",
    "from requests.auth import HTTPBasicAuth\n",
    "\n",
    "# Define the API endpoint\n",
    "def insert_batch_of_posts(list_of_dicts):\n",
    "    url = 'http://65.21.173.197/api/instagram_batch/'\n",
    "    header = {'Content-Type': 'application/json'}\n",
    "    # Send the POST request\n",
    "    while True:\n",
    "        try:\n",
    "            response = requests.post(url, json=list_of_dicts, timeout = 50, auth=HTTPBasicAuth('ali10', 'up180223'))\n",
    "            print(response.json())\n",
    "            if response.status_code == 504 or response.status_code == 500:\n",
    "                #print(response.text)\n",
    "                raise ValueError(f'due to {response.status_code} insert failed...')\n",
    "            break\n",
    "        except Exception as E:\n",
    "            print(str(E))\n",
    "            break\n",
    "            time.sleep(30)\n",
    "    e = time.time()"
   ]
  },
  {
   "cell_type": "code",
   "execution_count": 258,
   "metadata": {},
   "outputs": [],
   "source": [
    "list_of_dicts = [{0: 'p/C48qj6jNxpg/', 1: '2024-03-25 18:49:53+00:00', 2: 'هیچ وقت چرخ روزگار اونجور که ما میخوایم نمیچرخه\\nپس بهتره کاری با چرخ روزگار نداشته باشیم ،ما هم کار خودمون رو بکنیم\\nاینو تجربه ثابت کرده و میدونید که بزرگ\\u200cترین استاد تجربه ست .', 3: '3321', 4: '3,321', 5: 1479607899, 6: '', 7: '', 8: '', 9: -1, 10: '', 11: '', 12: '', 13: '', 14: ''}, {0: 'reel/C4YfWJMt_lz/', 1: '2024-03-11 17:42:47+00:00', 2: 'آخ خدا، بُرِسیم\\n.\\n.\\n.\\n.#boxing #boxingtraining #boxinglife #keepgoing', 3: '1379', 4: '1,379', 5: 1479607899, 6: '#boxing, #boxingtraining, #boxinglife, #keepgoing', 7: '', 8: '', 9: -1, 10: '', 11: '', 12: '', 13: '', 14: ''}]"
   ]
  },
  {
   "cell_type": "code",
   "execution_count": 259,
   "metadata": {},
   "outputs": [
    {
     "name": "stdout",
     "output_type": "stream",
     "text": [
      "[{'shortcode': ['این فیلد لازم است.'], 'date_utc': ['این فیلد لازم است.']}, {'shortcode': ['این فیلد لازم است.'], 'date_utc': ['این فیلد لازم است.']}]\n"
     ]
    }
   ],
   "source": [
    "insert_batch_of_posts(list_of_dicts)"
   ]
  },
  {
   "cell_type": "code",
   "execution_count": 122,
   "metadata": {},
   "outputs": [],
   "source": [
    "import requests\n",
    "def get_shortcodes_of_user(userid):\n",
    "    users_path = f'http://65.21.173.197/api/insert_multiple_tweeps/'\n",
    "    res = requests.get(users_path, auth=HTTPBasicAuth('ali10', 'up180223'))\n",
    "    return [x[0] for x in res.json()]"
   ]
  },
  {
   "cell_type": "code",
   "execution_count": 123,
   "metadata": {
    "collapsed": true,
    "jupyter": {
     "outputs_hidden": true
    }
   },
   "outputs": [
    {
     "data": {
      "text/plain": [
       "['C0g_L2xsAY7',\n",
       " 'C0g6uJDs6FG',\n",
       " 'C0e1S0rMzx9',\n",
       " 'C0hG7YVNQX8',\n",
       " 'C0gmKZCMD3L',\n",
       " 'C0gYCFJMH1a',\n",
       " 'C0gC4iOtFDh',\n",
       " 'C0fJp9sMkuJ',\n",
       " 'C0fHGxYsN3c',\n",
       " 'C0e7uZHLHAI',\n",
       " 'C0e3ALMseZ7',\n",
       " 'C0vlu59MbIL',\n",
       " 'C0vgzAPsJao',\n",
       " 'C0uTcLBMlIc',\n",
       " 'C0uHc5_sOW3',\n",
       " 'C0t2XXkMBri',\n",
       " 'C0ttH-cMryf',\n",
       " 'C0tm3UhsvbQ',\n",
       " 'C0tY6_gsQHh',\n",
       " 'C0tMS9esuIi',\n",
       " 'C0s8N4xMm6Y',\n",
       " 'C0sHrA4s3kx',\n",
       " 'C0r5x9orHVz',\n",
       " 'C0xPWD0Marg',\n",
       " 'C0xK1_1sHlJ',\n",
       " 'C0xDazzrK1T',\n",
       " 'C0w99c0L6lk',\n",
       " 'C0wyThas_Sz',\n",
       " 'C0wm_J7Mm1A',\n",
       " 'C0wfvGCNU26',\n",
       " 'C0wak3ms-pC',\n",
       " 'C0wCd0isC-s',\n",
       " 'C0v3tCasg3W',\n",
       " 'C05zl4yt1nH',\n",
       " 'C03vQs-M1Ol',\n",
       " 'reel/C2pfc2xMI7e/',\n",
       " 'C0-Ihg4M3Dx',\n",
       " 'C093Orir66J',\n",
       " 'C09sWkKMngv',\n",
       " 'C09nBBMslhX',\n",
       " 'C09eI_ys3vU',\n",
       " 'C09Vr3Jsi0v',\n",
       " 'C09EzpusD6c',\n",
       " 'C082yHoMKN1',\n",
       " 'C08zxLUsUG5',\n",
       " 'C08otgfMgI8',\n",
       " 'C08bjXoNfLZ',\n",
       " 'C03TeAss8zE',\n",
       " 'p/C1K9xzFscMt/',\n",
       " 'C04R-1dsT2s',\n",
       " 'C03eM6Ss64J',\n",
       " 'C04Es6YMRS8',\n",
       " 'p/C1K1zAArgmE/',\n",
       " 'reel/C1KjP2DMliO/',\n",
       " 'p/C1J06OxKtmH/',\n",
       " 'p/C1JrGuIKS-Q/',\n",
       " 'reel/C1JgtE1KNsG/',\n",
       " 'reel/C1JfUA7qL6S/',\n",
       " 'reel/C1JT83sqJVj/',\n",
       " 'C036VTJM6FH',\n",
       " 'p/C4BKKRCsYFt/',\n",
       " 'C03nGb-MHpl',\n",
       " 'p/C1KYHyBMP0I/',\n",
       " 'p/C1KXOg6sMC6/',\n",
       " 'p/C1J-SRrqiP6/',\n",
       " 'reel/C1tZ13lMwC-/',\n",
       " 'p/C1r_LUVsAwE/',\n",
       " 'reel/C1ry4PosBgs/',\n",
       " 'p/C1rhD7EsoIh/',\n",
       " 'C06A4wWMJ6L',\n",
       " 'p/C2plfRtMe1d/',\n",
       " 'C04ruX5rQS4',\n",
       " 'C042t9WsAlR',\n",
       " 'C04go1UMRsi',\n",
       " 'p/C2pZZvKMIyg/',\n",
       " 'p/C1KGR8Tq5nh/',\n",
       " 'p/C1jjTo8sXJa/',\n",
       " 'p/C2PKMlBMZvK/',\n",
       " 'reel/C2N6voyMQ3x/',\n",
       " 'reel/C2N1DaiLW6J/',\n",
       " 'reel/C2NjwKuMttg/',\n",
       " 'p/C2PYA5RMbJu/',\n",
       " 'reel/C2O8LQksBkG/',\n",
       " 'reel/C2O2TnQMxgv/',\n",
       " 'p/C1XoLoQLdGH/',\n",
       " 'reel/C1Y3pIqsAST/',\n",
       " 'reel/C1YsPodNCU5/',\n",
       " 'p/C1Ycs38oKlW/',\n",
       " 'p/C1X04y1snrm/',\n",
       " 'p/C1XtnCLLhZz/',\n",
       " 'p/C1XfRcissNg/',\n",
       " 'p/C1XqduTrm46/',\n",
       " 'reel/C1XUVFlMkcA/',\n",
       " 'p/C1XJcALKMFL/',\n",
       " 'p/C1W_65XK_u7/',\n",
       " 'p/C1faa8jrE_r/',\n",
       " 'reel/C1fNshVsEvf/',\n",
       " 'p/C1e_SK7MOBF/',\n",
       " 'reel/C1ex4-7s1WD/',\n",
       " 'reel/C1e5HxNsLEM/',\n",
       " 'p/C1e1WjTsLHF/',\n",
       " 'p/C1flJ6HMrmU/',\n",
       " 'p/C1ffq41rMql/',\n",
       " 'reel/C1fT_AuLDnZ/',\n",
       " 'p/C1cXlMbsmGY/',\n",
       " 'reel/C1cq1EEM1mC/',\n",
       " 'reel/C1coDSYs1iB/',\n",
       " 'p/C1cj3IvsMyH/',\n",
       " 'p/C1cKA_Os1hM/',\n",
       " 'p/C1bslb4MtGg/',\n",
       " 'reel/C1boiUIM1kU/',\n",
       " 'p/C1cRccnsGW0/',\n",
       " 'p/C1cHQEpM72_/',\n",
       " 'reel/C1cEGg4MAjt/',\n",
       " 'p/C1cAN6LMF1b/',\n",
       " 'reel/C1b9kXgM_sF/',\n",
       " 'p/C1qvOY8t6jq/',\n",
       " 'p/C2NqjFtLq9P/',\n",
       " 'p/C2NV_jFMpA8/',\n",
       " 'reel/C1qt0otNh89/',\n",
       " 'reel/C1pph-3L3Az/',\n",
       " 'p/C1po7qAr5sa/',\n",
       " 'p/C1pexvmMPqA/',\n",
       " 'reel/C1ofT7ksXr1/',\n",
       " 'reel/C1pHh6SNudV/',\n",
       " 'p/C1pVGQCsYi8/',\n",
       " 'p/C1pPy3MMkcF/',\n",
       " 'p/C1pFwKasgIb/',\n",
       " 'reel/C1o5klCMA1U/',\n",
       " 'p/C1oyLCvsLxM/',\n",
       " 'p/C1iJ7v4sDL4/',\n",
       " 'p/C4MAGpKL8vk/',\n",
       " 'p/C1h7oIrMxcd/',\n",
       " 'reel/C1huOE4MyM_/',\n",
       " 'p/C1hG4k2sEQj/',\n",
       " 'reel/C1gznw7sc--/',\n",
       " 'p/C1gp_ccsW_O/',\n",
       " 'p/C1hJgMIMAYp/',\n",
       " 'p/C1g8i0cs3Hf/',\n",
       " 'p/C1gt6GbMtRf/',\n",
       " 'p/C1gjrJUt7Th/',\n",
       " 'reel/C1gfp3lNPf2/',\n",
       " 'p/C1gbSsao5Oa/',\n",
       " 'p/C1egYXYMZVA/',\n",
       " 'reel/C1c1Az9r5BM/',\n",
       " 'p/C1eQU4dsm4W/',\n",
       " 'reel/C1d53D5NErl/',\n",
       " 'p/C1c7JeOMl0C/',\n",
       " 'p/C1eFWVssefQ/',\n",
       " 'p/C4LzSgvr54C/',\n",
       " 'p/C4L1kGwrSvF/',\n",
       " 'p/C1kQiy2MfMh/',\n",
       " 'reel/C1kM6arswF_/',\n",
       " 'p/C1kLIXgMXJR/',\n",
       " 'p/C1kE29_M4N6/',\n",
       " 'p/C1kRrF8MKGP/',\n",
       " 'reel/C1kDb0_sxbm/',\n",
       " 'reel/C1ty2svMR7X/',\n",
       " 'p/C1rLf9_sGI8/',\n",
       " 'p/C3r_NgXiAkc/',\n",
       " 'p/C1jU5l_sZNf/',\n",
       " 'p/C1jDSqPopOE/',\n",
       " 'p/C1jT02js8HF/',\n",
       " 'reel/C1jB1Sho4bK/',\n",
       " 'p/C1hjTECMi76/',\n",
       " 'p/C1hW_61MgMJ/',\n",
       " 'p/C1jcoeSs0Z7/',\n",
       " 'p/C1j9o7DMVIm/',\n",
       " 'reel/C1j4OUYsf4E/',\n",
       " 'reel/C1j1eK5MLDG/',\n",
       " 'reel/C1jx4UYsNIK/',\n",
       " 'p/C2U9GWwsYtu/',\n",
       " 'p/C1kdDp7rlvE/',\n",
       " 'reel/C1klg2xr7j4/',\n",
       " 'reel/C1kyOOHsYym/',\n",
       " 'p/C1kjTbuLWL9/',\n",
       " 'p/C1kiGidLT4l/',\n",
       " 'p/C1nJ5Airzr9/',\n",
       " 'p/C1nA1INLRAj/',\n",
       " 'reel/C1mgMbisK5Y/',\n",
       " 'reel/C1mCi-QsgrU/',\n",
       " 'reel/C1lgy8OI_QI/',\n",
       " 'p/C1nAYpbraKb/',\n",
       " 'p/C1ms9IeMOvw/',\n",
       " 'p/C1mRsubsrIh/',\n",
       " 'reel/C1l7rVrsMff/',\n",
       " 'reel/C1lpR_Atnjw/',\n",
       " 'p/C2UwYuUMQks/',\n",
       " 'p/C2VhPQ8rjv0/',\n",
       " 'reel/C2U_IOfMj3x/',\n",
       " 'p/C2U3PrLs3KQ/',\n",
       " 'p/C2UcEjpsDWS/',\n",
       " 'reel/C2UQESZsHrC/',\n",
       " 'p/C2UH59pMYuE/',\n",
       " 'reel/C2T_ZQGtb4q/',\n",
       " 'p/C2Vaq-erCwC/',\n",
       " 'p/C2VKeU1sKCH/',\n",
       " 'p/C2UnI4VMSZm/',\n",
       " 'p/C1tmJBpsUMn/',\n",
       " 'reel/C1sPbkCL9L8/',\n",
       " 'p/C1q-9osMZB8/',\n",
       " 'p/C1t0sWqsrwo/',\n",
       " 'p/C1trJZ3soeW/',\n",
       " 'p/C1rRvffsdLk/',\n",
       " 'reel/C4Qll9gsQUY/',\n",
       " 'p/C4QmGRlsF_u/',\n",
       " 'p/C4lOqDnMLu0/',\n",
       " 'p/C4fWyCksECW/',\n",
       " 'reel/C4fOAhIsBpg/',\n",
       " 'reel/C4fCuHysbOB/',\n",
       " 'p/C2F8eF2rIxy/',\n",
       " 'p/C2FSH37sQMS/',\n",
       " 'reel/C2FRMizs3zP/',\n",
       " 'reel/C2GPjbgMeoG/',\n",
       " 'p/C2GL4BmskR4/',\n",
       " 'reel/C2F1WXrsLlV/',\n",
       " 'reel/C2FpwLYsoBx/',\n",
       " 'reel/C2Fks5aMJOu/',\n",
       " 'reel/C2FiFMqs6iG/',\n",
       " 'reel/C2FB0-qM5qe/',\n",
       " 'p/C2ExDZ_sUt0/',\n",
       " 'reel/C2EmXEZtybO/',\n",
       " 'p/C2PmkRhs_gK/',\n",
       " 'p/C2Pe1oAs-KR/',\n",
       " 'p/C4WCfvSMLzS/',\n",
       " 'p/C2PbapoM_og/',\n",
       " 'p/C2eyv6cMJA2/',\n",
       " 'p/C2eaMEkM-OQ/',\n",
       " 'p/C2emVmwsr_9/',\n",
       " 'reel/C2eOCUdNFuQ/',\n",
       " 'reel/C2f4WizsBpm/',\n",
       " 'p/C2fuzHBvS_-/',\n",
       " 'reel/C2fflqjshpQ/',\n",
       " 'p/C2fXcLaMZhm/',\n",
       " 'p/C2flIKkMtFE/',\n",
       " 'p/C2fTkalMgdH/',\n",
       " 'p/C2fD2wsMHyS/',\n",
       " 'p/C2e87HcslY7/',\n",
       " 'reel/C37YA-VMfSk/',\n",
       " 'reel/C4YWwmeMnzu/',\n",
       " 'p/C4a9j83sW_n/',\n",
       " 'p/C4avTwaNziU/',\n",
       " 'reel/C4a7cr2N1Kd/',\n",
       " 'p/C32_-QpMNc5/',\n",
       " 'reel/C3234vctLHm/',\n",
       " 'reel/C33ZyIpL18i/',\n",
       " 'reel/C32b8PGMq3a/',\n",
       " 'p/C33QWMQrhW3/',\n",
       " 'p/C3aljk3MEG0/',\n",
       " 'reel/C3a9DWcsTZ6/',\n",
       " 'p/C3csz29sdcw/',\n",
       " 'p/C3w07NNsR4L/',\n",
       " 'reel/C3wzLi0MJ2_/',\n",
       " 'reel/C368LTJMPhn/',\n",
       " 'reel/C37Jo4wMP9G/',\n",
       " 'p/C3508QNrvoA/',\n",
       " 'reel/C35lz_RCr_t/',\n",
       " 'reel/C35j2OZs9ZM/',\n",
       " 'p/C4qhFbIsYfD/',\n",
       " 'p/C4A-4VJCD-E/',\n",
       " 'p/C4BSzLUMidY/',\n",
       " 'p/C40odgDMIDI/',\n",
       " 'reel/C40bc6LsIkO/',\n",
       " 'p/C41LOFPsoTU/',\n",
       " 'p/C3xPfTfM6Am/',\n",
       " 'p/C3xECMcsSjy/',\n",
       " 'p/C3xS1b7sklJ/',\n",
       " 'p/C30D7X7MO3J/',\n",
       " 'p/C30O5Mws5Kl/',\n",
       " 'reel/C30F67HMeEz/',\n",
       " 'reel/C30Uj8MNidk/',\n",
       " 'p/C408z07MVcP/',\n",
       " 'p/C40schLspNW/',\n",
       " 'p/C4qS4DCsA34/',\n",
       " 'reel/C4qdGWkMTEd/',\n",
       " 'p/C4QsczrNOJF/',\n",
       " 'p/C4TcCVmMmZ9/',\n",
       " 'p/C4TWw69MbdU/',\n",
       " 'reel/C4TPR8wNiaN/',\n",
       " 'reel/C4WAnqGMuFz/',\n",
       " 'p/C4V8jRMs6H8/',\n",
       " 'p/C4YP-q7MXGH/',\n",
       " 'p/C4YFBk5N_bE/',\n",
       " 'p/C4Yo73FM9yv/',\n",
       " 'reel/C4YaMFuNU7X/',\n",
       " 'p/C4Ym2INsSBS/',\n",
       " 'p/C4hdcE5oR7Y/',\n",
       " 'reel/C4gdYV9rfnz/',\n",
       " 'p/C4gT0WeM2hQ/',\n",
       " 'reel/C4lHG1pt0vj/',\n",
       " 'reel/C4lHyJ7stH1/',\n",
       " 'p/C4vs5uNMACV/',\n",
       " 'reel/C4xAmi_Mfdi/',\n",
       " 'p/C4v8JyGLgpF/']"
      ]
     },
     "execution_count": 123,
     "metadata": {},
     "output_type": "execute_result"
    }
   ],
   "source": [
    "get_shortcodes_of_user(460859824)"
   ]
  },
  {
   "cell_type": "code",
   "execution_count": 134,
   "metadata": {},
   "outputs": [],
   "source": [
    "df = pd.DataFrame({'a':[1,2,3,1,2,3]})"
   ]
  },
  {
   "cell_type": "code",
   "execution_count": 143,
   "metadata": {},
   "outputs": [
    {
     "name": "stdout",
     "output_type": "stream",
     "text": [
      "<class 'pandas.core.frame.DataFrame'>\n",
      "<class 'pandas.core.frame.DataFrame'>\n",
      "<class 'pandas.core.frame.DataFrame'>\n",
      "<class 'pandas.core.frame.DataFrame'>\n",
      "<class 'pandas.core.frame.DataFrame'>\n",
      "<class 'pandas.core.frame.DataFrame'>\n"
     ]
    }
   ],
   "source": [
    "for i, row in df.iterrows():\n",
    "    print(type(df.iloc[i:i+1]))"
   ]
  },
  {
   "cell_type": "code",
   "execution_count": 146,
   "metadata": {},
   "outputs": [
    {
     "data": {
      "text/plain": [
       "[{'a': 1}, {'a': 2}, {'a': 3}, {'a': 1}, {'a': 2}, {'a': 3}]"
      ]
     },
     "execution_count": 146,
     "metadata": {},
     "output_type": "execute_result"
    }
   ],
   "source": [
    "df.to_dict('records')"
   ]
  },
  {
   "cell_type": "code",
   "execution_count": 192,
   "metadata": {},
   "outputs": [],
   "source": [
    "def upsert_user_with_api(user_info):\n",
    "    user_info = [str(x) for x in user_info]\n",
    "    uf = '_'.join(user_info)\n",
    "    users_path = f'http://65.21.173.197/api/upsert_instagram_user/{uf}/'\n",
    "    print(users_path)\n",
    "    res = requests.get(users_path, auth=HTTPBasicAuth('ali10', 'up180223'))\n",
    "    print(res.content)\n",
    "    return res.json()['updated']"
   ]
  },
  {
   "cell_type": "code",
   "execution_count": 193,
   "metadata": {},
   "outputs": [
    {
     "name": "stdout",
     "output_type": "stream",
     "text": [
      "http://65.21.173.197/api/upsert_instagram_user/al_45_62_58_20__/\n",
      "b'{\"updated\":1}'\n"
     ]
    }
   ],
   "source": [
    "res = upsert_user_with_api(['al', 45, 62, 58, 20, '', ''])"
   ]
  },
  {
   "cell_type": "code",
   "execution_count": 183,
   "metadata": {},
   "outputs": [
    {
     "data": {
      "text/plain": [
       "1"
      ]
     },
     "execution_count": 183,
     "metadata": {},
     "output_type": "execute_result"
    }
   ],
   "source": [
    "res"
   ]
  },
  {
   "cell_type": "code",
   "execution_count": 42,
   "metadata": {},
   "outputs": [],
   "source": [
    "list_of_samples = [(56, 'name1', 'screen_name', 10, 'location', \"tatoyr'@\", 5000, 12, 10, '2022-05-14 17:11:12+04:30', 0, 15, '2022-05-14 17:11:12+04:30'),\n",
    "          (16, 'name2', 'screen_name', 10, 'location', \"tatoyr'@\", 85000, 12, 10, '2022-05-14 17:11:12+04:30', 0, 15, '2022-05-14 17:11:12+04:30')]\n",
    "def insert_multiple_tweeps_with_api(list_of_samples):\n",
    "\n",
    "    url = 'http://65.21.173.197/api/insert_multiple_tweeps/'\n",
    "    data_to_send = {'list_of_samples': list_of_samples}\n",
    "    response = requests.post(url, json=data_to_send)\n",
    "    print(response.json())\n",
    "    return response.json()['updated']"
   ]
  },
  {
   "cell_type": "code",
   "execution_count": 43,
   "metadata": {},
   "outputs": [],
   "source": [
    "d = ('pakhsh_omde_varzeshi', 62169974357, 750, '3070', '705', 'پخش:جزیره قشم درگهان بازار زمرد گذر3پلاکD58', '')"
   ]
  },
  {
   "cell_type": "code",
   "execution_count": 44,
   "metadata": {},
   "outputs": [
    {
     "name": "stdout",
     "output_type": "stream",
     "text": [
      "{'updated': 2}\n"
     ]
    },
    {
     "data": {
      "text/plain": [
       "2"
      ]
     },
     "execution_count": 44,
     "metadata": {},
     "output_type": "execute_result"
    }
   ],
   "source": [
    "insert_multiple_tweeps_with_api(list_of_samples)"
   ]
  },
  {
   "cell_type": "code",
   "execution_count": 239,
   "metadata": {
    "collapsed": true,
    "jupyter": {
     "outputs_hidden": true
    }
   },
   "outputs": [
    {
     "data": {
      "text/plain": [
       "b'<!DOCTYPE html>\\n<html lang=\"en\">\\n<head>\\n  <meta http-equiv=\"content-type\" content=\"text/html; charset=utf-8\">\\n  <meta name=\"robots\" content=\"NONE,NOARCHIVE\">\\n  <title>TypeError\\n          at /api/upsert_instagram_user/</title>\\n  <style type=\"text/css\">\\n    html * { padding:0; margin:0; }\\n    body * { padding:10px 20px; }\\n    body * * { padding:0; }\\n    body { font:small sans-serif; background-color:#fff; color:#000; }\\n    body>div { border-bottom:1px solid #ddd; }\\n    h1 { font-weight:normal; }\\n    h2 { margin-bottom:.8em; }\\n    h3 { margin:1em 0 .5em 0; }\\n    h4 { margin:0 0 .5em 0; font-weight: normal; }\\n    code, pre { font-size: 100%; white-space: pre-wrap; word-break: break-word; }\\n    summary { cursor: pointer; }\\n    table { border:1px solid #ccc; border-collapse: collapse; width:100%; background:white; }\\n    tbody td, tbody th { vertical-align:top; padding:2px 3px; }\\n    thead th {\\n      padding:1px 6px 1px 3px; background:#fefefe; text-align:left;\\n      font-weight:normal; font-size:11px; border:1px solid #ddd;\\n    }\\n    tbody th { width:12em; text-align:right; color:#666; padding-right:.5em; }\\n    table.vars { margin:5px 10px 2px 40px; width: auto; }\\n    table.vars td, table.req td { font-family:monospace; }\\n    table td.code { width:100%; }\\n    table td.code pre { overflow:hidden; }\\n    table.source th { color:#666; }\\n    table.source td { font-family:monospace; white-space:pre; border-bottom:1px solid #eee; }\\n    ul.traceback { list-style-type:none; color: #222; }\\n    ul.traceback li.cause { word-break: break-word; }\\n    ul.traceback li.frame { padding-bottom:1em; color:#4f4f4f; }\\n    ul.traceback li.user { background-color:#e0e0e0; color:#000 }\\n    div.context { padding:10px 0; overflow:hidden; }\\n    div.context ol { padding-left:30px; margin:0 10px; list-style-position: inside; }\\n    div.context ol li { font-family:monospace; white-space:pre; color:#777; cursor:pointer; padding-left: 2px; }\\n    div.context ol li pre { display:inline; }\\n    div.context ol.context-line li { color:#464646; background-color:#dfdfdf; padding: 3px 2px; }\\n    div.context ol.context-line li span { position:absolute; right:32px; }\\n    .user div.context ol.context-line li { background-color:#bbb; color:#000; }\\n    .user div.context ol li { color:#666; }\\n    div.commands, summary.commands { margin-left: 40px; }\\n    div.commands a, summary.commands { color:#555; text-decoration:none; }\\n    .user div.commands a { color: black; }\\n    #summary { background: #ffc; }\\n    #summary h2 { font-weight: normal; color: #666; }\\n    #explanation { background:#eee; }\\n    #template, #template-not-exist { background:#f6f6f6; }\\n    #template-not-exist ul { margin: 0 0 10px 20px; }\\n    #template-not-exist .postmortem-section { margin-bottom: 3px; }\\n    #unicode-hint { background:#eee; }\\n    #traceback { background:#eee; }\\n    #requestinfo { background:#f6f6f6; padding-left:120px; }\\n    #summary table { border:none; background:transparent; }\\n    #requestinfo h2, #requestinfo h3 { position:relative; margin-left:-100px; }\\n    #requestinfo h3 { margin-bottom:-1em; }\\n    .error { background: #ffc; }\\n    .specific { color:#cc3300; font-weight:bold; }\\n    h2 span.commands { font-size:.7em; font-weight:normal; }\\n    span.commands a:link {color:#5E5694;}\\n    pre.exception_value { font-family: sans-serif; color: #575757; font-size: 1.5em; margin: 10px 0 10px 0; }\\n    .append-bottom { margin-bottom: 10px; }\\n    .fname { user-select: all; }\\n  </style>\\n  \\n  <script>\\n    function hideAll(elems) {\\n      for (var e = 0; e < elems.length; e++) {\\n        elems[e].style.display = \\'none\\';\\n      }\\n    }\\n    window.onload = function() {\\n      hideAll(document.querySelectorAll(\\'ol.pre-context\\'));\\n      hideAll(document.querySelectorAll(\\'ol.post-context\\'));\\n      hideAll(document.querySelectorAll(\\'div.pastebin\\'));\\n    }\\n    function toggle() {\\n      for (var i = 0; i < arguments.length; i++) {\\n        var e = document.getElementById(arguments[i]);\\n        if (e) {\\n          e.style.display = e.style.display == \\'none\\' ? \\'block\\': \\'none\\';\\n        }\\n      }\\n      return false;\\n    }\\n    function switchPastebinFriendly(link) {\\n      s1 = \"Switch to copy-and-paste view\";\\n      s2 = \"Switch back to interactive view\";\\n      link.textContent = link.textContent.trim() == s1 ? s2: s1;\\n      toggle(\\'browserTraceback\\', \\'pastebinTraceback\\');\\n      return false;\\n    }\\n  </script>\\n  \\n</head>\\n<body>\\n<div id=\"summary\">\\n  <h1>TypeError\\n       at /api/upsert_instagram_user/</h1>\\n  <pre class=\"exception_value\">eval() arg 1 must be a string, bytes or code object</pre>\\n  <table class=\"meta\">\\n\\n    <tr>\\n      <th>Request Method:</th>\\n      <td>POST</td>\\n    </tr>\\n    <tr>\\n      <th>Request URL:</th>\\n      <td>http://65.21.173.197/api/upsert_instagram_user/</td>\\n    </tr>\\n\\n    <tr>\\n      <th>Django Version:</th>\\n      <td>5.0.3</td>\\n    </tr>\\n\\n    <tr>\\n      <th>Exception Type:</th>\\n      <td>TypeError</td>\\n    </tr>\\n\\n\\n    <tr>\\n      <th>Exception Value:</th>\\n      <td><pre>eval() arg 1 must be a string, bytes or code object</pre></td>\\n    </tr>\\n\\n\\n    <tr>\\n      <th>Exception Location:</th>\\n      <td><span class=\"fname\">C:\\\\socialmedialab\\\\apps\\\\home\\\\api.py</span>, line 212, in upsert_instagram_user</td>\\n    </tr>\\n\\n\\n    <tr>\\n      <th>Raised during:</th>\\n      <td>apps.home.api.upsert_instagram_user</td>\\n    </tr>\\n\\n    <tr>\\n      <th>Python Executable:</th>\\n      <td>C:\\\\Python312\\\\python.exe</td>\\n    </tr>\\n    <tr>\\n      <th>Python Version:</th>\\n      <td>3.12.2</td>\\n    </tr>\\n    <tr>\\n      <th>Python Path:</th>\\n      <td><pre>[&#x27;.&#x27;,\\n &#x27;C:\\\\\\\\Python312&#x27;,\\n &#x27;C:\\\\\\\\Python312\\\\\\\\python312.zip&#x27;,\\n &#x27;C:\\\\\\\\Python312\\\\\\\\DLLs&#x27;,\\n &#x27;C:\\\\\\\\Python312\\\\\\\\Lib&#x27;,\\n &#x27;C:\\\\\\\\Python312\\\\\\\\Lib\\\\\\\\site-packages&#x27;]</pre></td>\\n    </tr>\\n    <tr>\\n      <th>Server time:</th>\\n      <td>Fri, 29 Mar 2024 17:06:28 +0000</td>\\n    </tr>\\n  </table>\\n</div>\\n\\n\\n\\n\\n<div id=\"traceback\">\\n  <h2>Traceback <span class=\"commands\"><a href=\"#\" onclick=\"return switchPastebinFriendly(this);\">\\n    Switch to copy-and-paste view</a></span>\\n  </h2>\\n  <div id=\"browserTraceback\">\\n    <ul class=\"traceback\">\\n      \\n        \\n        <li class=\"frame django\">\\n          \\n            <code class=\"fname\">C:\\\\Python312\\\\Lib\\\\site-packages\\\\django\\\\core\\\\handlers\\\\exception.py</code>, line 55, in inner\\n          \\n\\n          \\n            <div class=\"context\" id=\"c2498846750720\">\\n              \\n                <ol start=\"48\" class=\"pre-context\" id=\"pre2498846750720\">\\n                \\n                  <li onclick=\"toggle(\\'pre2498846750720\\', \\'post2498846750720\\')\"><pre></pre></li>\\n                \\n                  <li onclick=\"toggle(\\'pre2498846750720\\', \\'post2498846750720\\')\"><pre>        return inner</pre></li>\\n                \\n                  <li onclick=\"toggle(\\'pre2498846750720\\', \\'post2498846750720\\')\"><pre>    else:</pre></li>\\n                \\n                  <li onclick=\"toggle(\\'pre2498846750720\\', \\'post2498846750720\\')\"><pre></pre></li>\\n                \\n                  <li onclick=\"toggle(\\'pre2498846750720\\', \\'post2498846750720\\')\"><pre>        @wraps(get_response)</pre></li>\\n                \\n                  <li onclick=\"toggle(\\'pre2498846750720\\', \\'post2498846750720\\')\"><pre>        def inner(request):</pre></li>\\n                \\n                  <li onclick=\"toggle(\\'pre2498846750720\\', \\'post2498846750720\\')\"><pre>            try:</pre></li>\\n                \\n                </ol>\\n              \\n              <ol start=\"55\" class=\"context-line\">\\n                <li onclick=\"toggle(\\'pre2498846750720\\', \\'post2498846750720\\')\"><pre>                response = get_response(request)\\n                               ^^^^^^^^^^^^^^^^^^^^^</pre> <span>\\xe2\\x80\\xa6</span></li>\\n              </ol>\\n              \\n                <ol start=\\'56\\' class=\"post-context\" id=\"post2498846750720\">\\n                  \\n                  <li onclick=\"toggle(\\'pre2498846750720\\', \\'post2498846750720\\')\"><pre>            except Exception as exc:</pre></li>\\n                  \\n                  <li onclick=\"toggle(\\'pre2498846750720\\', \\'post2498846750720\\')\"><pre>                response = response_for_exception(request, exc)</pre></li>\\n                  \\n                  <li onclick=\"toggle(\\'pre2498846750720\\', \\'post2498846750720\\')\"><pre>            return response</pre></li>\\n                  \\n                  <li onclick=\"toggle(\\'pre2498846750720\\', \\'post2498846750720\\')\"><pre></pre></li>\\n                  \\n                  <li onclick=\"toggle(\\'pre2498846750720\\', \\'post2498846750720\\')\"><pre>        return inner</pre></li>\\n                  \\n                  <li onclick=\"toggle(\\'pre2498846750720\\', \\'post2498846750720\\')\"><pre></pre></li>\\n                  \\n              </ol>\\n              \\n            </div>\\n          \\n\\n          \\n            \\n              <details>\\n                <summary class=\"commands\">Local vars</summary>\\n            \\n            <table class=\"vars\" id=\"v2498846750720\">\\n              <thead>\\n                <tr>\\n                  <th>Variable</th>\\n                  <th>Value</th>\\n                </tr>\\n              </thead>\\n              <tbody>\\n                \\n                  <tr>\\n                    <td>exc</td>\\n                    <td class=\"code\"><pre>TypeError(&#x27;eval() arg 1 must be a string, bytes or code object&#x27;)</pre></td>\\n                  </tr>\\n                \\n                  <tr>\\n                    <td>get_response</td>\\n                    <td class=\"code\"><pre>&lt;bound method BaseHandler._get_response of &lt;django.core.handlers.wsgi.WSGIHandler object at 0x00000245A4A11FD0&gt;&gt;</pre></td>\\n                  </tr>\\n                \\n                  <tr>\\n                    <td>request</td>\\n                    <td class=\"code\"><pre>&lt;WSGIRequest: POST &#x27;/api/upsert_instagram_user/&#x27;&gt;</pre></td>\\n                  </tr>\\n                \\n              </tbody>\\n            </table>\\n            </details>\\n          \\n        </li>\\n      \\n        \\n        <li class=\"frame django\">\\n          \\n            <code class=\"fname\">C:\\\\Python312\\\\Lib\\\\site-packages\\\\django\\\\core\\\\handlers\\\\base.py</code>, line 197, in _get_response\\n          \\n\\n          \\n            <div class=\"context\" id=\"c2498846750656\">\\n              \\n                <ol start=\"190\" class=\"pre-context\" id=\"pre2498846750656\">\\n                \\n                  <li onclick=\"toggle(\\'pre2498846750656\\', \\'post2498846750656\\')\"><pre></pre></li>\\n                \\n                  <li onclick=\"toggle(\\'pre2498846750656\\', \\'post2498846750656\\')\"><pre>        if response is None:</pre></li>\\n                \\n                  <li onclick=\"toggle(\\'pre2498846750656\\', \\'post2498846750656\\')\"><pre>            wrapped_callback = self.make_view_atomic(callback)</pre></li>\\n                \\n                  <li onclick=\"toggle(\\'pre2498846750656\\', \\'post2498846750656\\')\"><pre>            # If it is an asynchronous view, run it in a subthread.</pre></li>\\n                \\n                  <li onclick=\"toggle(\\'pre2498846750656\\', \\'post2498846750656\\')\"><pre>            if iscoroutinefunction(wrapped_callback):</pre></li>\\n                \\n                  <li onclick=\"toggle(\\'pre2498846750656\\', \\'post2498846750656\\')\"><pre>                wrapped_callback = async_to_sync(wrapped_callback)</pre></li>\\n                \\n                  <li onclick=\"toggle(\\'pre2498846750656\\', \\'post2498846750656\\')\"><pre>            try:</pre></li>\\n                \\n                </ol>\\n              \\n              <ol start=\"197\" class=\"context-line\">\\n                <li onclick=\"toggle(\\'pre2498846750656\\', \\'post2498846750656\\')\"><pre>                response = wrapped_callback(request, *callback_args, **callback_kwargs)\\n                                ^^^^^^^^^^^^^^^^^^^^^^^^^^^^^^^^^^^^^^^^^^^^^^^^^^^^^^^^^^^^</pre> <span>\\xe2\\x80\\xa6</span></li>\\n              </ol>\\n              \\n                <ol start=\\'198\\' class=\"post-context\" id=\"post2498846750656\">\\n                  \\n                  <li onclick=\"toggle(\\'pre2498846750656\\', \\'post2498846750656\\')\"><pre>            except Exception as e:</pre></li>\\n                  \\n                  <li onclick=\"toggle(\\'pre2498846750656\\', \\'post2498846750656\\')\"><pre>                response = self.process_exception_by_middleware(e, request)</pre></li>\\n                  \\n                  <li onclick=\"toggle(\\'pre2498846750656\\', \\'post2498846750656\\')\"><pre>                if response is None:</pre></li>\\n                  \\n                  <li onclick=\"toggle(\\'pre2498846750656\\', \\'post2498846750656\\')\"><pre>                    raise</pre></li>\\n                  \\n                  <li onclick=\"toggle(\\'pre2498846750656\\', \\'post2498846750656\\')\"><pre></pre></li>\\n                  \\n                  <li onclick=\"toggle(\\'pre2498846750656\\', \\'post2498846750656\\')\"><pre>        # Complain if the view returned None (a common error).</pre></li>\\n                  \\n              </ol>\\n              \\n            </div>\\n          \\n\\n          \\n            \\n              <details>\\n                <summary class=\"commands\">Local vars</summary>\\n            \\n            <table class=\"vars\" id=\"v2498846750656\">\\n              <thead>\\n                <tr>\\n                  <th>Variable</th>\\n                  <th>Value</th>\\n                </tr>\\n              </thead>\\n              <tbody>\\n                \\n                  <tr>\\n                    <td>callback</td>\\n                    <td class=\"code\"><pre>&lt;function View.as_view.&lt;locals&gt;.view at 0x00000245CEDAA0C0&gt;</pre></td>\\n                  </tr>\\n                \\n                  <tr>\\n                    <td>callback_args</td>\\n                    <td class=\"code\"><pre>()</pre></td>\\n                  </tr>\\n                \\n                  <tr>\\n                    <td>callback_kwargs</td>\\n                    <td class=\"code\"><pre>{}</pre></td>\\n                  </tr>\\n                \\n                  <tr>\\n                    <td>middleware_method</td>\\n                    <td class=\"code\"><pre>&lt;bound method CsrfViewMiddleware.process_view of &lt;CsrfViewMiddleware get_response=convert_exception_to_response.&lt;locals&gt;.inner&gt;&gt;</pre></td>\\n                  </tr>\\n                \\n                  <tr>\\n                    <td>request</td>\\n                    <td class=\"code\"><pre>&lt;WSGIRequest: POST &#x27;/api/upsert_instagram_user/&#x27;&gt;</pre></td>\\n                  </tr>\\n                \\n                  <tr>\\n                    <td>response</td>\\n                    <td class=\"code\"><pre>None</pre></td>\\n                  </tr>\\n                \\n                  <tr>\\n                    <td>self</td>\\n                    <td class=\"code\"><pre>&lt;django.core.handlers.wsgi.WSGIHandler object at 0x00000245A4A11FD0&gt;</pre></td>\\n                  </tr>\\n                \\n                  <tr>\\n                    <td>wrapped_callback</td>\\n                    <td class=\"code\"><pre>&lt;function View.as_view.&lt;locals&gt;.view at 0x00000245CEDAA0C0&gt;</pre></td>\\n                  </tr>\\n                \\n              </tbody>\\n            </table>\\n            </details>\\n          \\n        </li>\\n      \\n        \\n        <li class=\"frame django\">\\n          \\n            <code class=\"fname\">C:\\\\Python312\\\\Lib\\\\site-packages\\\\django\\\\views\\\\decorators\\\\csrf.py</code>, line 65, in _view_wrapper\\n          \\n\\n          \\n            <div class=\"context\" id=\"c2498846750528\">\\n              \\n                <ol start=\"58\" class=\"pre-context\" id=\"pre2498846750528\">\\n                \\n                  <li onclick=\"toggle(\\'pre2498846750528\\', \\'post2498846750528\\')\"><pre></pre></li>\\n                \\n                  <li onclick=\"toggle(\\'pre2498846750528\\', \\'post2498846750528\\')\"><pre>        async def _view_wrapper(request, *args, **kwargs):</pre></li>\\n                \\n                  <li onclick=\"toggle(\\'pre2498846750528\\', \\'post2498846750528\\')\"><pre>            return await view_func(request, *args, **kwargs)</pre></li>\\n                \\n                  <li onclick=\"toggle(\\'pre2498846750528\\', \\'post2498846750528\\')\"><pre></pre></li>\\n                \\n                  <li onclick=\"toggle(\\'pre2498846750528\\', \\'post2498846750528\\')\"><pre>    else:</pre></li>\\n                \\n                  <li onclick=\"toggle(\\'pre2498846750528\\', \\'post2498846750528\\')\"><pre></pre></li>\\n                \\n                  <li onclick=\"toggle(\\'pre2498846750528\\', \\'post2498846750528\\')\"><pre>        def _view_wrapper(request, *args, **kwargs):</pre></li>\\n                \\n                </ol>\\n              \\n              <ol start=\"65\" class=\"context-line\">\\n                <li onclick=\"toggle(\\'pre2498846750528\\', \\'post2498846750528\\')\"><pre>            return view_func(request, *args, **kwargs)\\n                       ^^^^^^^^^^^^^^^^^^^^^^^^^^^^^^^^^^^</pre> <span>\\xe2\\x80\\xa6</span></li>\\n              </ol>\\n              \\n                <ol start=\\'66\\' class=\"post-context\" id=\"post2498846750528\">\\n                  \\n                  <li onclick=\"toggle(\\'pre2498846750528\\', \\'post2498846750528\\')\"><pre></pre></li>\\n                  \\n                  <li onclick=\"toggle(\\'pre2498846750528\\', \\'post2498846750528\\')\"><pre>    _view_wrapper.csrf_exempt = True</pre></li>\\n                  \\n                  <li onclick=\"toggle(\\'pre2498846750528\\', \\'post2498846750528\\')\"><pre></pre></li>\\n                  \\n                  <li onclick=\"toggle(\\'pre2498846750528\\', \\'post2498846750528\\')\"><pre>    return wraps(view_func)(_view_wrapper)</pre></li>\\n                  \\n              </ol>\\n              \\n            </div>\\n          \\n\\n          \\n            \\n              <details>\\n                <summary class=\"commands\">Local vars</summary>\\n            \\n            <table class=\"vars\" id=\"v2498846750528\">\\n              <thead>\\n                <tr>\\n                  <th>Variable</th>\\n                  <th>Value</th>\\n                </tr>\\n              </thead>\\n              <tbody>\\n                \\n                  <tr>\\n                    <td>args</td>\\n                    <td class=\"code\"><pre>()</pre></td>\\n                  </tr>\\n                \\n                  <tr>\\n                    <td>kwargs</td>\\n                    <td class=\"code\"><pre>{}</pre></td>\\n                  </tr>\\n                \\n                  <tr>\\n                    <td>request</td>\\n                    <td class=\"code\"><pre>&lt;WSGIRequest: POST &#x27;/api/upsert_instagram_user/&#x27;&gt;</pre></td>\\n                  </tr>\\n                \\n                  <tr>\\n                    <td>view_func</td>\\n                    <td class=\"code\"><pre>&lt;function View.as_view.&lt;locals&gt;.view at 0x00000245CEDAA020&gt;</pre></td>\\n                  </tr>\\n                \\n              </tbody>\\n            </table>\\n            </details>\\n          \\n        </li>\\n      \\n        \\n        <li class=\"frame django\">\\n          \\n            <code class=\"fname\">C:\\\\Python312\\\\Lib\\\\site-packages\\\\django\\\\views\\\\generic\\\\base.py</code>, line 104, in view\\n          \\n\\n          \\n            <div class=\"context\" id=\"c2498846748480\">\\n              \\n                <ol start=\"97\" class=\"pre-context\" id=\"pre2498846748480\">\\n                \\n                  <li onclick=\"toggle(\\'pre2498846748480\\', \\'post2498846748480\\')\"><pre>            self = cls(**initkwargs)</pre></li>\\n                \\n                  <li onclick=\"toggle(\\'pre2498846748480\\', \\'post2498846748480\\')\"><pre>            self.setup(request, *args, **kwargs)</pre></li>\\n                \\n                  <li onclick=\"toggle(\\'pre2498846748480\\', \\'post2498846748480\\')\"><pre>            if not hasattr(self, &quot;request&quot;):</pre></li>\\n                \\n                  <li onclick=\"toggle(\\'pre2498846748480\\', \\'post2498846748480\\')\"><pre>                raise AttributeError(</pre></li>\\n                \\n                  <li onclick=\"toggle(\\'pre2498846748480\\', \\'post2498846748480\\')\"><pre>                    &quot;%s instance has no &#x27;request&#x27; attribute. Did you override &quot;</pre></li>\\n                \\n                  <li onclick=\"toggle(\\'pre2498846748480\\', \\'post2498846748480\\')\"><pre>                    &quot;setup() and forget to call super()?&quot; % cls.__name__</pre></li>\\n                \\n                  <li onclick=\"toggle(\\'pre2498846748480\\', \\'post2498846748480\\')\"><pre>                )</pre></li>\\n                \\n                </ol>\\n              \\n              <ol start=\"104\" class=\"context-line\">\\n                <li onclick=\"toggle(\\'pre2498846748480\\', \\'post2498846748480\\')\"><pre>            return self.dispatch(request, *args, **kwargs)\\n                        ^^^^^^^^^^^^^^^^^^^^^^^^^^^^^^^^^^^^^^^</pre> <span>\\xe2\\x80\\xa6</span></li>\\n              </ol>\\n              \\n                <ol start=\\'105\\' class=\"post-context\" id=\"post2498846748480\">\\n                  \\n                  <li onclick=\"toggle(\\'pre2498846748480\\', \\'post2498846748480\\')\"><pre></pre></li>\\n                  \\n                  <li onclick=\"toggle(\\'pre2498846748480\\', \\'post2498846748480\\')\"><pre>        view.view_class = cls</pre></li>\\n                  \\n                  <li onclick=\"toggle(\\'pre2498846748480\\', \\'post2498846748480\\')\"><pre>        view.view_initkwargs = initkwargs</pre></li>\\n                  \\n                  <li onclick=\"toggle(\\'pre2498846748480\\', \\'post2498846748480\\')\"><pre></pre></li>\\n                  \\n                  <li onclick=\"toggle(\\'pre2498846748480\\', \\'post2498846748480\\')\"><pre>        # __name__ and __qualname__ are intentionally left unchanged as</pre></li>\\n                  \\n                  <li onclick=\"toggle(\\'pre2498846748480\\', \\'post2498846748480\\')\"><pre>        # view_class should be used to robustly determine the name of the view</pre></li>\\n                  \\n              </ol>\\n              \\n            </div>\\n          \\n\\n          \\n            \\n              <details>\\n                <summary class=\"commands\">Local vars</summary>\\n            \\n            <table class=\"vars\" id=\"v2498846748480\">\\n              <thead>\\n                <tr>\\n                  <th>Variable</th>\\n                  <th>Value</th>\\n                </tr>\\n              </thead>\\n              <tbody>\\n                \\n                  <tr>\\n                    <td>args</td>\\n                    <td class=\"code\"><pre>()</pre></td>\\n                  </tr>\\n                \\n                  <tr>\\n                    <td>cls</td>\\n                    <td class=\"code\"><pre>&lt;class &#x27;apps.home.api.WrappedAPIView&#x27;&gt;</pre></td>\\n                  </tr>\\n                \\n                  <tr>\\n                    <td>initkwargs</td>\\n                    <td class=\"code\"><pre>{}</pre></td>\\n                  </tr>\\n                \\n                  <tr>\\n                    <td>kwargs</td>\\n                    <td class=\"code\"><pre>{}</pre></td>\\n                  </tr>\\n                \\n                  <tr>\\n                    <td>request</td>\\n                    <td class=\"code\"><pre>&lt;WSGIRequest: POST &#x27;/api/upsert_instagram_user/&#x27;&gt;</pre></td>\\n                  </tr>\\n                \\n                  <tr>\\n                    <td>self</td>\\n                    <td class=\"code\"><pre>&lt;apps.home.api.WrappedAPIView object at 0x00000245A6119D90&gt;</pre></td>\\n                  </tr>\\n                \\n              </tbody>\\n            </table>\\n            </details>\\n          \\n        </li>\\n      \\n        \\n        <li class=\"frame user\">\\n          \\n            <code class=\"fname\">C:\\\\Python312\\\\Lib\\\\site-packages\\\\rest_framework\\\\views.py</code>, line 509, in dispatch\\n          \\n\\n          \\n            <div class=\"context\" id=\"c2498846750464\">\\n              \\n                <ol start=\"502\" class=\"pre-context\" id=\"pre2498846750464\">\\n                \\n                  <li onclick=\"toggle(\\'pre2498846750464\\', \\'post2498846750464\\')\"><pre>                                  self.http_method_not_allowed)</pre></li>\\n                \\n                  <li onclick=\"toggle(\\'pre2498846750464\\', \\'post2498846750464\\')\"><pre>            else:</pre></li>\\n                \\n                  <li onclick=\"toggle(\\'pre2498846750464\\', \\'post2498846750464\\')\"><pre>                handler = self.http_method_not_allowed</pre></li>\\n                \\n                  <li onclick=\"toggle(\\'pre2498846750464\\', \\'post2498846750464\\')\"><pre></pre></li>\\n                \\n                  <li onclick=\"toggle(\\'pre2498846750464\\', \\'post2498846750464\\')\"><pre>            response = handler(request, *args, **kwargs)</pre></li>\\n                \\n                  <li onclick=\"toggle(\\'pre2498846750464\\', \\'post2498846750464\\')\"><pre></pre></li>\\n                \\n                  <li onclick=\"toggle(\\'pre2498846750464\\', \\'post2498846750464\\')\"><pre>        except Exception as exc:</pre></li>\\n                \\n                </ol>\\n              \\n              <ol start=\"509\" class=\"context-line\">\\n                <li onclick=\"toggle(\\'pre2498846750464\\', \\'post2498846750464\\')\"><pre>            response = self.handle_exception(exc)\\n                            ^^^^^^^^^^^^^^^^^^^^^^^^^^</pre> <span>\\xe2\\x80\\xa6</span></li>\\n              </ol>\\n              \\n                <ol start=\\'510\\' class=\"post-context\" id=\"post2498846750464\">\\n                  \\n                  <li onclick=\"toggle(\\'pre2498846750464\\', \\'post2498846750464\\')\"><pre></pre></li>\\n                  \\n                  <li onclick=\"toggle(\\'pre2498846750464\\', \\'post2498846750464\\')\"><pre>        self.response = self.finalize_response(request, response, *args, **kwargs)</pre></li>\\n                  \\n                  <li onclick=\"toggle(\\'pre2498846750464\\', \\'post2498846750464\\')\"><pre>        return self.response</pre></li>\\n                  \\n                  <li onclick=\"toggle(\\'pre2498846750464\\', \\'post2498846750464\\')\"><pre></pre></li>\\n                  \\n                  <li onclick=\"toggle(\\'pre2498846750464\\', \\'post2498846750464\\')\"><pre>    def options(self, request, *args, **kwargs):</pre></li>\\n                  \\n                  <li onclick=\"toggle(\\'pre2498846750464\\', \\'post2498846750464\\')\"><pre>        &quot;&quot;&quot;</pre></li>\\n                  \\n              </ol>\\n              \\n            </div>\\n          \\n\\n          \\n            \\n              <details>\\n                <summary class=\"commands\">Local vars</summary>\\n            \\n            <table class=\"vars\" id=\"v2498846750464\">\\n              <thead>\\n                <tr>\\n                  <th>Variable</th>\\n                  <th>Value</th>\\n                </tr>\\n              </thead>\\n              <tbody>\\n                \\n                  <tr>\\n                    <td>args</td>\\n                    <td class=\"code\"><pre>()</pre></td>\\n                  </tr>\\n                \\n                  <tr>\\n                    <td>handler</td>\\n                    <td class=\"code\"><pre>&lt;bound method api_view.&lt;locals&gt;.decorator.&lt;locals&gt;.handler of &lt;apps.home.api.WrappedAPIView object at 0x00000245A6119D90&gt;&gt;</pre></td>\\n                  </tr>\\n                \\n                  <tr>\\n                    <td>kwargs</td>\\n                    <td class=\"code\"><pre>{}</pre></td>\\n                  </tr>\\n                \\n                  <tr>\\n                    <td>request</td>\\n                    <td class=\"code\"><pre>&lt;rest_framework.request.Request: POST &#x27;/api/upsert_instagram_user/&#x27;&gt;</pre></td>\\n                  </tr>\\n                \\n                  <tr>\\n                    <td>self</td>\\n                    <td class=\"code\"><pre>&lt;apps.home.api.WrappedAPIView object at 0x00000245A6119D90&gt;</pre></td>\\n                  </tr>\\n                \\n              </tbody>\\n            </table>\\n            </details>\\n          \\n        </li>\\n      \\n        \\n        <li class=\"frame user\">\\n          \\n            <code class=\"fname\">C:\\\\Python312\\\\Lib\\\\site-packages\\\\rest_framework\\\\views.py</code>, line 469, in handle_exception\\n          \\n\\n          \\n            <div class=\"context\" id=\"c2498846750400\">\\n              \\n                <ol start=\"462\" class=\"pre-context\" id=\"pre2498846750400\">\\n                \\n                  <li onclick=\"toggle(\\'pre2498846750400\\', \\'post2498846750400\\')\"><pre></pre></li>\\n                \\n                  <li onclick=\"toggle(\\'pre2498846750400\\', \\'post2498846750400\\')\"><pre>        exception_handler = self.get_exception_handler()</pre></li>\\n                \\n                  <li onclick=\"toggle(\\'pre2498846750400\\', \\'post2498846750400\\')\"><pre></pre></li>\\n                \\n                  <li onclick=\"toggle(\\'pre2498846750400\\', \\'post2498846750400\\')\"><pre>        context = self.get_exception_handler_context()</pre></li>\\n                \\n                  <li onclick=\"toggle(\\'pre2498846750400\\', \\'post2498846750400\\')\"><pre>        response = exception_handler(exc, context)</pre></li>\\n                \\n                  <li onclick=\"toggle(\\'pre2498846750400\\', \\'post2498846750400\\')\"><pre></pre></li>\\n                \\n                  <li onclick=\"toggle(\\'pre2498846750400\\', \\'post2498846750400\\')\"><pre>        if response is None:</pre></li>\\n                \\n                </ol>\\n              \\n              <ol start=\"469\" class=\"context-line\">\\n                <li onclick=\"toggle(\\'pre2498846750400\\', \\'post2498846750400\\')\"><pre>            self.raise_uncaught_exception(exc)\\n                 ^^^^^^^^^^^^^^^^^^^^^^^^^^^^^^^^^^</pre> <span>\\xe2\\x80\\xa6</span></li>\\n              </ol>\\n              \\n                <ol start=\\'470\\' class=\"post-context\" id=\"post2498846750400\">\\n                  \\n                  <li onclick=\"toggle(\\'pre2498846750400\\', \\'post2498846750400\\')\"><pre></pre></li>\\n                  \\n                  <li onclick=\"toggle(\\'pre2498846750400\\', \\'post2498846750400\\')\"><pre>        response.exception = True</pre></li>\\n                  \\n                  <li onclick=\"toggle(\\'pre2498846750400\\', \\'post2498846750400\\')\"><pre>        return response</pre></li>\\n                  \\n                  <li onclick=\"toggle(\\'pre2498846750400\\', \\'post2498846750400\\')\"><pre></pre></li>\\n                  \\n                  <li onclick=\"toggle(\\'pre2498846750400\\', \\'post2498846750400\\')\"><pre>    def raise_uncaught_exception(self, exc):</pre></li>\\n                  \\n                  <li onclick=\"toggle(\\'pre2498846750400\\', \\'post2498846750400\\')\"><pre>        if settings.DEBUG:</pre></li>\\n                  \\n              </ol>\\n              \\n            </div>\\n          \\n\\n          \\n            \\n              <details>\\n                <summary class=\"commands\">Local vars</summary>\\n            \\n            <table class=\"vars\" id=\"v2498846750400\">\\n              <thead>\\n                <tr>\\n                  <th>Variable</th>\\n                  <th>Value</th>\\n                </tr>\\n              </thead>\\n              <tbody>\\n                \\n                  <tr>\\n                    <td>context</td>\\n                    <td class=\"code\"><pre>{&#x27;args&#x27;: (),\\n &#x27;kwargs&#x27;: {},\\n &#x27;request&#x27;: &lt;rest_framework.request.Request: POST &#x27;/api/upsert_instagram_user/&#x27;&gt;,\\n &#x27;view&#x27;: &lt;apps.home.api.WrappedAPIView object at 0x00000245A6119D90&gt;}</pre></td>\\n                  </tr>\\n                \\n                  <tr>\\n                    <td>exc</td>\\n                    <td class=\"code\"><pre>TypeError(&#x27;eval() arg 1 must be a string, bytes or code object&#x27;)</pre></td>\\n                  </tr>\\n                \\n                  <tr>\\n                    <td>exception_handler</td>\\n                    <td class=\"code\"><pre>&lt;function exception_handler at 0x00000245A778E160&gt;</pre></td>\\n                  </tr>\\n                \\n                  <tr>\\n                    <td>response</td>\\n                    <td class=\"code\"><pre>None</pre></td>\\n                  </tr>\\n                \\n                  <tr>\\n                    <td>self</td>\\n                    <td class=\"code\"><pre>&lt;apps.home.api.WrappedAPIView object at 0x00000245A6119D90&gt;</pre></td>\\n                  </tr>\\n                \\n              </tbody>\\n            </table>\\n            </details>\\n          \\n        </li>\\n      \\n        \\n        <li class=\"frame user\">\\n          \\n            <code class=\"fname\">C:\\\\Python312\\\\Lib\\\\site-packages\\\\rest_framework\\\\views.py</code>, line 480, in raise_uncaught_exception\\n          \\n\\n          \\n            <div class=\"context\" id=\"c2498846750336\">\\n              \\n                <ol start=\"473\" class=\"pre-context\" id=\"pre2498846750336\">\\n                \\n                  <li onclick=\"toggle(\\'pre2498846750336\\', \\'post2498846750336\\')\"><pre></pre></li>\\n                \\n                  <li onclick=\"toggle(\\'pre2498846750336\\', \\'post2498846750336\\')\"><pre>    def raise_uncaught_exception(self, exc):</pre></li>\\n                \\n                  <li onclick=\"toggle(\\'pre2498846750336\\', \\'post2498846750336\\')\"><pre>        if settings.DEBUG:</pre></li>\\n                \\n                  <li onclick=\"toggle(\\'pre2498846750336\\', \\'post2498846750336\\')\"><pre>            request = self.request</pre></li>\\n                \\n                  <li onclick=\"toggle(\\'pre2498846750336\\', \\'post2498846750336\\')\"><pre>            renderer_format = getattr(request.accepted_renderer, &#x27;format&#x27;)</pre></li>\\n                \\n                  <li onclick=\"toggle(\\'pre2498846750336\\', \\'post2498846750336\\')\"><pre>            use_plaintext_traceback = renderer_format not in (&#x27;html&#x27;, &#x27;api&#x27;, &#x27;admin&#x27;)</pre></li>\\n                \\n                  <li onclick=\"toggle(\\'pre2498846750336\\', \\'post2498846750336\\')\"><pre>            request.force_plaintext_errors(use_plaintext_traceback)</pre></li>\\n                \\n                </ol>\\n              \\n              <ol start=\"480\" class=\"context-line\">\\n                <li onclick=\"toggle(\\'pre2498846750336\\', \\'post2498846750336\\')\"><pre>        raise exc\\n             ^^^^^^^^^</pre> <span>\\xe2\\x80\\xa6</span></li>\\n              </ol>\\n              \\n                <ol start=\\'481\\' class=\"post-context\" id=\"post2498846750336\">\\n                  \\n                  <li onclick=\"toggle(\\'pre2498846750336\\', \\'post2498846750336\\')\"><pre></pre></li>\\n                  \\n                  <li onclick=\"toggle(\\'pre2498846750336\\', \\'post2498846750336\\')\"><pre>    # Note: Views are made CSRF exempt from within `as_view` as to prevent</pre></li>\\n                  \\n                  <li onclick=\"toggle(\\'pre2498846750336\\', \\'post2498846750336\\')\"><pre>    # accidental removal of this exemption in cases where `dispatch` needs to</pre></li>\\n                  \\n                  <li onclick=\"toggle(\\'pre2498846750336\\', \\'post2498846750336\\')\"><pre>    # be overridden.</pre></li>\\n                  \\n                  <li onclick=\"toggle(\\'pre2498846750336\\', \\'post2498846750336\\')\"><pre>    def dispatch(self, request, *args, **kwargs):</pre></li>\\n                  \\n                  <li onclick=\"toggle(\\'pre2498846750336\\', \\'post2498846750336\\')\"><pre>        &quot;&quot;&quot;</pre></li>\\n                  \\n              </ol>\\n              \\n            </div>\\n          \\n\\n          \\n            \\n              <details>\\n                <summary class=\"commands\">Local vars</summary>\\n            \\n            <table class=\"vars\" id=\"v2498846750336\">\\n              <thead>\\n                <tr>\\n                  <th>Variable</th>\\n                  <th>Value</th>\\n                </tr>\\n              </thead>\\n              <tbody>\\n                \\n                  <tr>\\n                    <td>exc</td>\\n                    <td class=\"code\"><pre>TypeError(&#x27;eval() arg 1 must be a string, bytes or code object&#x27;)</pre></td>\\n                  </tr>\\n                \\n                  <tr>\\n                    <td>renderer_format</td>\\n                    <td class=\"code\"><pre>&#x27;json&#x27;</pre></td>\\n                  </tr>\\n                \\n                  <tr>\\n                    <td>request</td>\\n                    <td class=\"code\"><pre>&lt;rest_framework.request.Request: POST &#x27;/api/upsert_instagram_user/&#x27;&gt;</pre></td>\\n                  </tr>\\n                \\n                  <tr>\\n                    <td>self</td>\\n                    <td class=\"code\"><pre>&lt;apps.home.api.WrappedAPIView object at 0x00000245A6119D90&gt;</pre></td>\\n                  </tr>\\n                \\n                  <tr>\\n                    <td>use_plaintext_traceback</td>\\n                    <td class=\"code\"><pre>True</pre></td>\\n                  </tr>\\n                \\n              </tbody>\\n            </table>\\n            </details>\\n          \\n        </li>\\n      \\n        \\n        <li class=\"frame user\">\\n          \\n            <code class=\"fname\">C:\\\\Python312\\\\Lib\\\\site-packages\\\\rest_framework\\\\views.py</code>, line 506, in dispatch\\n          \\n\\n          \\n            <div class=\"context\" id=\"c2498846750208\">\\n              \\n                <ol start=\"499\" class=\"pre-context\" id=\"pre2498846750208\">\\n                \\n                  <li onclick=\"toggle(\\'pre2498846750208\\', \\'post2498846750208\\')\"><pre>            # Get the appropriate handler method</pre></li>\\n                \\n                  <li onclick=\"toggle(\\'pre2498846750208\\', \\'post2498846750208\\')\"><pre>            if request.method.lower() in self.http_method_names:</pre></li>\\n                \\n                  <li onclick=\"toggle(\\'pre2498846750208\\', \\'post2498846750208\\')\"><pre>                handler = getattr(self, request.method.lower(),</pre></li>\\n                \\n                  <li onclick=\"toggle(\\'pre2498846750208\\', \\'post2498846750208\\')\"><pre>                                  self.http_method_not_allowed)</pre></li>\\n                \\n                  <li onclick=\"toggle(\\'pre2498846750208\\', \\'post2498846750208\\')\"><pre>            else:</pre></li>\\n                \\n                  <li onclick=\"toggle(\\'pre2498846750208\\', \\'post2498846750208\\')\"><pre>                handler = self.http_method_not_allowed</pre></li>\\n                \\n                  <li onclick=\"toggle(\\'pre2498846750208\\', \\'post2498846750208\\')\"><pre></pre></li>\\n                \\n                </ol>\\n              \\n              <ol start=\"506\" class=\"context-line\">\\n                <li onclick=\"toggle(\\'pre2498846750208\\', \\'post2498846750208\\')\"><pre>            response = handler(request, *args, **kwargs)\\n                            ^^^^^^^^^^^^^^^^^^^^^^^^^^^^^^^^^</pre> <span>\\xe2\\x80\\xa6</span></li>\\n              </ol>\\n              \\n                <ol start=\\'507\\' class=\"post-context\" id=\"post2498846750208\">\\n                  \\n                  <li onclick=\"toggle(\\'pre2498846750208\\', \\'post2498846750208\\')\"><pre></pre></li>\\n                  \\n                  <li onclick=\"toggle(\\'pre2498846750208\\', \\'post2498846750208\\')\"><pre>        except Exception as exc:</pre></li>\\n                  \\n                  <li onclick=\"toggle(\\'pre2498846750208\\', \\'post2498846750208\\')\"><pre>            response = self.handle_exception(exc)</pre></li>\\n                  \\n                  <li onclick=\"toggle(\\'pre2498846750208\\', \\'post2498846750208\\')\"><pre></pre></li>\\n                  \\n                  <li onclick=\"toggle(\\'pre2498846750208\\', \\'post2498846750208\\')\"><pre>        self.response = self.finalize_response(request, response, *args, **kwargs)</pre></li>\\n                  \\n                  <li onclick=\"toggle(\\'pre2498846750208\\', \\'post2498846750208\\')\"><pre>        return self.response</pre></li>\\n                  \\n              </ol>\\n              \\n            </div>\\n          \\n\\n          \\n            \\n              <details>\\n                <summary class=\"commands\">Local vars</summary>\\n            \\n            <table class=\"vars\" id=\"v2498846750208\">\\n              <thead>\\n                <tr>\\n                  <th>Variable</th>\\n                  <th>Value</th>\\n                </tr>\\n              </thead>\\n              <tbody>\\n                \\n                  <tr>\\n                    <td>args</td>\\n                    <td class=\"code\"><pre>()</pre></td>\\n                  </tr>\\n                \\n                  <tr>\\n                    <td>handler</td>\\n                    <td class=\"code\"><pre>&lt;bound method api_view.&lt;locals&gt;.decorator.&lt;locals&gt;.handler of &lt;apps.home.api.WrappedAPIView object at 0x00000245A6119D90&gt;&gt;</pre></td>\\n                  </tr>\\n                \\n                  <tr>\\n                    <td>kwargs</td>\\n                    <td class=\"code\"><pre>{}</pre></td>\\n                  </tr>\\n                \\n                  <tr>\\n                    <td>request</td>\\n                    <td class=\"code\"><pre>&lt;rest_framework.request.Request: POST &#x27;/api/upsert_instagram_user/&#x27;&gt;</pre></td>\\n                  </tr>\\n                \\n                  <tr>\\n                    <td>self</td>\\n                    <td class=\"code\"><pre>&lt;apps.home.api.WrappedAPIView object at 0x00000245A6119D90&gt;</pre></td>\\n                  </tr>\\n                \\n              </tbody>\\n            </table>\\n            </details>\\n          \\n        </li>\\n      \\n        \\n        <li class=\"frame user\">\\n          \\n            <code class=\"fname\">C:\\\\Python312\\\\Lib\\\\site-packages\\\\rest_framework\\\\decorators.py</code>, line 50, in handler\\n          \\n\\n          \\n            <div class=\"context\" id=\"c2498846750080\">\\n              \\n                <ol start=\"43\" class=\"pre-context\" id=\"pre2498846750080\">\\n                \\n                  <li onclick=\"toggle(\\'pre2498846750080\\', \\'post2498846750080\\')\"><pre>        assert isinstance(http_method_names, (list, tuple)), \\\\</pre></li>\\n                \\n                  <li onclick=\"toggle(\\'pre2498846750080\\', \\'post2498846750080\\')\"><pre>            &#x27;@api_view expected a list of strings, received %s&#x27; % type(http_method_names).__name__</pre></li>\\n                \\n                  <li onclick=\"toggle(\\'pre2498846750080\\', \\'post2498846750080\\')\"><pre></pre></li>\\n                \\n                  <li onclick=\"toggle(\\'pre2498846750080\\', \\'post2498846750080\\')\"><pre>        allowed_methods = set(http_method_names) | {&#x27;options&#x27;}</pre></li>\\n                \\n                  <li onclick=\"toggle(\\'pre2498846750080\\', \\'post2498846750080\\')\"><pre>        WrappedAPIView.http_method_names = [method.lower() for method in allowed_methods]</pre></li>\\n                \\n                  <li onclick=\"toggle(\\'pre2498846750080\\', \\'post2498846750080\\')\"><pre></pre></li>\\n                \\n                  <li onclick=\"toggle(\\'pre2498846750080\\', \\'post2498846750080\\')\"><pre>        def handler(self, *args, **kwargs):</pre></li>\\n                \\n                </ol>\\n              \\n              <ol start=\"50\" class=\"context-line\">\\n                <li onclick=\"toggle(\\'pre2498846750080\\', \\'post2498846750080\\')\"><pre>            return func(*args, **kwargs)\\n                       ^^^^^^^^^^^^^^^^^^^^^</pre> <span>\\xe2\\x80\\xa6</span></li>\\n              </ol>\\n              \\n                <ol start=\\'51\\' class=\"post-context\" id=\"post2498846750080\">\\n                  \\n                  <li onclick=\"toggle(\\'pre2498846750080\\', \\'post2498846750080\\')\"><pre></pre></li>\\n                  \\n                  <li onclick=\"toggle(\\'pre2498846750080\\', \\'post2498846750080\\')\"><pre>        for method in http_method_names:</pre></li>\\n                  \\n                  <li onclick=\"toggle(\\'pre2498846750080\\', \\'post2498846750080\\')\"><pre>            setattr(WrappedAPIView, method.lower(), handler)</pre></li>\\n                  \\n                  <li onclick=\"toggle(\\'pre2498846750080\\', \\'post2498846750080\\')\"><pre></pre></li>\\n                  \\n                  <li onclick=\"toggle(\\'pre2498846750080\\', \\'post2498846750080\\')\"><pre>        WrappedAPIView.__name__ = func.__name__</pre></li>\\n                  \\n                  <li onclick=\"toggle(\\'pre2498846750080\\', \\'post2498846750080\\')\"><pre>        WrappedAPIView.__module__ = func.__module__</pre></li>\\n                  \\n              </ol>\\n              \\n            </div>\\n          \\n\\n          \\n            \\n              <details>\\n                <summary class=\"commands\">Local vars</summary>\\n            \\n            <table class=\"vars\" id=\"v2498846750080\">\\n              <thead>\\n                <tr>\\n                  <th>Variable</th>\\n                  <th>Value</th>\\n                </tr>\\n              </thead>\\n              <tbody>\\n                \\n                  <tr>\\n                    <td>args</td>\\n                    <td class=\"code\"><pre>(&lt;rest_framework.request.Request: POST &#x27;/api/upsert_instagram_user/&#x27;&gt;,)</pre></td>\\n                  </tr>\\n                \\n                  <tr>\\n                    <td>func</td>\\n                    <td class=\"code\"><pre>&lt;function upsert_instagram_user at 0x00000245CEDA9EE0&gt;</pre></td>\\n                  </tr>\\n                \\n                  <tr>\\n                    <td>kwargs</td>\\n                    <td class=\"code\"><pre>{}</pre></td>\\n                  </tr>\\n                \\n                  <tr>\\n                    <td>self</td>\\n                    <td class=\"code\"><pre>&lt;apps.home.api.WrappedAPIView object at 0x00000245A6119D90&gt;</pre></td>\\n                  </tr>\\n                \\n              </tbody>\\n            </table>\\n            </details>\\n          \\n        </li>\\n      \\n        \\n        <li class=\"frame user\">\\n          \\n            <code class=\"fname\">C:\\\\socialmedialab\\\\apps\\\\home\\\\api.py</code>, line 212, in upsert_instagram_user\\n          \\n\\n          \\n            <div class=\"context\" id=\"c2498846750016\">\\n              \\n                <ol start=\"205\" class=\"pre-context\" id=\"pre2498846750016\">\\n                \\n                  <li onclick=\"toggle(\\'pre2498846750016\\', \\'post2498846750016\\')\"><pre>    #     file.write(str(data))</pre></li>\\n                \\n                  <li onclick=\"toggle(\\'pre2498846750016\\', \\'post2498846750016\\')\"><pre>    #print(data[&#x27;info&#x27;])</pre></li>\\n                \\n                  <li onclick=\"toggle(\\'pre2498846750016\\', \\'post2498846750016\\')\"><pre>    #return Response(user_info)</pre></li>\\n                \\n                  <li onclick=\"toggle(\\'pre2498846750016\\', \\'post2498846750016\\')\"><pre>    #user_info = user_info.split(&#x27;_&#x27;)</pre></li>\\n                \\n                  <li onclick=\"toggle(\\'pre2498846750016\\', \\'post2498846750016\\')\"><pre>    # Define the query</pre></li>\\n                \\n                  <li onclick=\"toggle(\\'pre2498846750016\\', \\'post2498846750016\\')\"><pre>    connection = make_connection()</pre></li>\\n                \\n                  <li onclick=\"toggle(\\'pre2498846750016\\', \\'post2498846750016\\')\"><pre>    cur = connection.cursor()</pre></li>\\n                \\n                </ol>\\n              \\n              <ol start=\"212\" class=\"context-line\">\\n                <li onclick=\"toggle(\\'pre2498846750016\\', \\'post2498846750016\\')\"><pre>    user_info = eval(user_info)\\n                     ^^^^^^^^^^^^^^^</pre> <span>\\xe2\\x80\\xa6</span></li>\\n              </ol>\\n              \\n                <ol start=\\'213\\' class=\"post-context\" id=\"post2498846750016\">\\n                  \\n                  <li onclick=\"toggle(\\'pre2498846750016\\', \\'post2498846750016\\')\"><pre>    query = f&quot;&quot;&quot;INSERT INTO home_instagram_users (username, userid, mediacount, followers, followees, bio, url) VALUES </pre></li>\\n                  \\n                  <li onclick=\"toggle(\\'pre2498846750016\\', \\'post2498846750016\\')\"><pre>    (&#x27;{user_info[0]}&#x27;, {int(user_info[1])}, {int(user_info[2])}, {int(user_info[3])}, {int(user_info[4])}, &#x27;{user_info[5]}&#x27;, &#x27;{user_info[6]}&#x27;) </pre></li>\\n                  \\n                  <li onclick=\"toggle(\\'pre2498846750016\\', \\'post2498846750016\\')\"><pre>    ON CONFLICT (userid) DO UPDATE</pre></li>\\n                  \\n                  <li onclick=\"toggle(\\'pre2498846750016\\', \\'post2498846750016\\')\"><pre>    SET mediacount = EXCLUDED.mediacount, followers = EXCLUDED.followers, followees = EXCLUDED.followees, bio = EXCLUDED.bio, url = EXCLUDED.url;</pre></li>\\n                  \\n                  <li onclick=\"toggle(\\'pre2498846750016\\', \\'post2498846750016\\')\"><pre>    &quot;&quot;&quot;</pre></li>\\n                  \\n                  <li onclick=\"toggle(\\'pre2498846750016\\', \\'post2498846750016\\')\"><pre>    # Execute the query</pre></li>\\n                  \\n              </ol>\\n              \\n            </div>\\n          \\n\\n          \\n            \\n              <details>\\n                <summary class=\"commands\">Local vars</summary>\\n            \\n            <table class=\"vars\" id=\"v2498846750016\">\\n              <thead>\\n                <tr>\\n                  <th>Variable</th>\\n                  <th>Value</th>\\n                </tr>\\n              </thead>\\n              <tbody>\\n                \\n                  <tr>\\n                    <td>connection</td>\\n                    <td class=\"code\"><pre>&lt;connection object at 0x00000245CEDF8F20; dsn: &#x27;user=postgres password=xxx dbname=updata host=localhost port=5433&#x27;, closed: 0&gt;</pre></td>\\n                  </tr>\\n                \\n                  <tr>\\n                    <td>cur</td>\\n                    <td class=\"code\"><pre>&lt;cursor object at 0x00000245CEDC4820; closed: 0&gt;</pre></td>\\n                  </tr>\\n                \\n                  <tr>\\n                    <td>request</td>\\n                    <td class=\"code\"><pre>&lt;rest_framework.request.Request: POST &#x27;/api/upsert_instagram_user/&#x27;&gt;</pre></td>\\n                  </tr>\\n                \\n                  <tr>\\n                    <td>user_info</td>\\n                    <td class=\"code\"><pre>[&#x27;pakhsh_omde_varzeshi&#x27;,\\n 62169974357,\\n 363,\\n &#x27;3070&#x27;,\\n &#x27;705&#x27;,\\n &#x27;\\xd9\\xbe\\xd8\\xae\\xd8\\xb4:\\xd8\\xac\\xd8\\xb2\\xdb\\x8c\\xd8\\xb1\\xd9\\x87 \\xd9\\x82\\xd8\\xb4\\xd9\\x85 \\xd8\\xaf\\xd8\\xb1\\xda\\xaf\\xd9\\x87\\xd8\\xa7\\xd9\\x86 \\xd8\\xa8\\xd8\\xa7\\xd8\\xb2\\xd8\\xa7\\xd8\\xb1 \\xd8\\xb2\\xd9\\x85\\xd8\\xb1\\xd8\\xaf \\xda\\xaf\\xd8\\xb0\\xd8\\xb13\\xd9\\xbe\\xd9\\x84\\xd8\\xa7\\xda\\xa9D58&#x27;,\\n &#x27;&#x27;]</pre></td>\\n                  </tr>\\n                \\n              </tbody>\\n            </table>\\n            </details>\\n          \\n        </li>\\n      \\n    </ul>\\n  </div>\\n\\n  <form action=\"https://dpaste.com/\" name=\"pasteform\" id=\"pasteform\" method=\"post\">\\n  <div id=\"pastebinTraceback\" class=\"pastebin\">\\n    <input type=\"hidden\" name=\"language\" value=\"PythonConsole\">\\n    <input type=\"hidden\" name=\"title\"\\n      value=\"TypeError at /api/upsert_instagram_user/\">\\n    <input type=\"hidden\" name=\"source\" value=\"Django Dpaste Agent\">\\n    <input type=\"hidden\" name=\"poster\" value=\"Django\">\\n    <textarea name=\"content\" id=\"traceback_area\" cols=\"140\" rows=\"25\">\\nEnvironment:\\n\\n\\nRequest Method: POST\\nRequest URL: http://65.21.173.197/api/upsert_instagram_user/\\n\\nDjango Version: 5.0.3\\nPython Version: 3.12.2\\nInstalled Applications:\\n[&#x27;django.contrib.admin&#x27;,\\n &#x27;django.contrib.auth&#x27;,\\n &#x27;django.contrib.contenttypes&#x27;,\\n &#x27;django.contrib.sessions&#x27;,\\n &#x27;django.contrib.messages&#x27;,\\n &#x27;django.contrib.staticfiles&#x27;,\\n &#x27;jalali_date&#x27;,\\n &#x27;django_jalali&#x27;,\\n &#x27;debug_toolbar&#x27;,\\n &#x27;template_profiler_panel&#x27;,\\n &#x27;apps.home&#x27;,\\n &#x27;django_extensions&#x27;,\\n &#x27;django.contrib.postgres&#x27;,\\n &#x27;wkhtmltopdf&#x27;,\\n &#x27;django.contrib.humanize&#x27;,\\n &#x27;corsheaders&#x27;]\\nInstalled Middleware:\\n[&#x27;debug_toolbar.middleware.DebugToolbarMiddleware&#x27;,\\n &#x27;django.middleware.security.SecurityMiddleware&#x27;,\\n &#x27;whitenoise.middleware.WhiteNoiseMiddleware&#x27;,\\n &#x27;django.contrib.sessions.middleware.SessionMiddleware&#x27;,\\n &#x27;django.middleware.common.CommonMiddleware&#x27;,\\n &#x27;django.middleware.csrf.CsrfViewMiddleware&#x27;,\\n &#x27;django.contrib.auth.middleware.AuthenticationMiddleware&#x27;,\\n &#x27;django.contrib.messages.middleware.MessageMiddleware&#x27;,\\n &#x27;django.middleware.clickjacking.XFrameOptionsMiddleware&#x27;,\\n &#x27;corsheaders.middleware.CorsMiddleware&#x27;,\\n &#x27;django.middleware.common.CommonMiddleware&#x27;]\\n\\n\\n\\nTraceback (most recent call last):\\n  File \"C:\\\\Python312\\\\Lib\\\\site-packages\\\\django\\\\core\\\\handlers\\\\exception.py\", line 55, in inner\\n    response = get_response(request)\\n               ^^^^^^^^^^^^^^^^^^^^^\\n  File \"C:\\\\Python312\\\\Lib\\\\site-packages\\\\django\\\\core\\\\handlers\\\\base.py\", line 197, in _get_response\\n    response = wrapped_callback(request, *callback_args, **callback_kwargs)\\n               ^^^^^^^^^^^^^^^^^^^^^^^^^^^^^^^^^^^^^^^^^^^^^^^^^^^^^^^^^^^^\\n  File \"C:\\\\Python312\\\\Lib\\\\site-packages\\\\django\\\\views\\\\decorators\\\\csrf.py\", line 65, in _view_wrapper\\n    return view_func(request, *args, **kwargs)\\n           ^^^^^^^^^^^^^^^^^^^^^^^^^^^^^^^^^^^\\n  File \"C:\\\\Python312\\\\Lib\\\\site-packages\\\\django\\\\views\\\\generic\\\\base.py\", line 104, in view\\n    return self.dispatch(request, *args, **kwargs)\\n           ^^^^^^^^^^^^^^^^^^^^^^^^^^^^^^^^^^^^^^^\\n  File \"C:\\\\Python312\\\\Lib\\\\site-packages\\\\rest_framework\\\\views.py\", line 509, in dispatch\\n    response = self.handle_exception(exc)\\n               ^^^^^^^^^^^^^^^^^^^^^^^^^^\\n  File \"C:\\\\Python312\\\\Lib\\\\site-packages\\\\rest_framework\\\\views.py\", line 469, in handle_exception\\n    self.raise_uncaught_exception(exc)\\n    ^^^^^^^^^^^^^^^^^^^^^^^^^^^^^^^^^^\\n  File \"C:\\\\Python312\\\\Lib\\\\site-packages\\\\rest_framework\\\\views.py\", line 480, in raise_uncaught_exception\\n    raise exc\\n    ^^^^^^^^^\\n  File \"C:\\\\Python312\\\\Lib\\\\site-packages\\\\rest_framework\\\\views.py\", line 506, in dispatch\\n    response = handler(request, *args, **kwargs)\\n               ^^^^^^^^^^^^^^^^^^^^^^^^^^^^^^^^^\\n  File \"C:\\\\Python312\\\\Lib\\\\site-packages\\\\rest_framework\\\\decorators.py\", line 50, in handler\\n    return func(*args, **kwargs)\\n           ^^^^^^^^^^^^^^^^^^^^^\\n  File \"C:\\\\socialmedialab\\\\apps\\\\home\\\\api.py\", line 212, in upsert_instagram_user\\n    user_info = eval(user_info)\\n                ^^^^^^^^^^^^^^^\\n\\nException Type: TypeError at /api/upsert_instagram_user/\\nException Value: eval() arg 1 must be a string, bytes or code object\\n</textarea>\\n  <br><br>\\n  <input type=\"submit\" value=\"Share this traceback on a public website\">\\n  </div>\\n</form>\\n\\n</div>\\n\\n\\n<div id=\"requestinfo\">\\n  <h2>Request information</h2>\\n\\n\\n  \\n    <h3 id=\"user-info\">USER</h3>\\n    <p>AnonymousUser</p>\\n  \\n\\n  <h3 id=\"get-info\">GET</h3>\\n  \\n    <p>No GET data</p>\\n  \\n\\n  <h3 id=\"post-info\">POST</h3>\\n  \\n    <p>No POST data</p>\\n  \\n\\n  <h3 id=\"files-info\">FILES</h3>\\n  \\n    <p>No FILES data</p>\\n  \\n\\n  <h3 id=\"cookie-info\">COOKIES</h3>\\n  \\n    <p>No cookie data</p>\\n  \\n\\n  <h3 id=\"meta-info\">META</h3>\\n  <table class=\"req\">\\n    <thead>\\n      <tr>\\n        <th>Variable</th>\\n        <th>Value</th>\\n      </tr>\\n    </thead>\\n    <tbody>\\n      \\n        <tr>\\n          <td>APPL_MD_PATH</td>\\n          <td class=\"code\"><pre>&#x27;/LM/W3SVC/2/ROOT&#x27;</pre></td>\\n        </tr>\\n      \\n        <tr>\\n          <td>APPL_PHYSICAL_PATH</td>\\n          <td class=\"code\"><pre>&#x27;C:\\\\\\\\socialmedialab\\\\\\\\&#x27;</pre></td>\\n        </tr>\\n      \\n        <tr>\\n          <td>APP_POOL_CONFIG</td>\\n          <td class=\"code\"><pre>&#x27;C:\\\\\\\\inetpub\\\\\\\\temp\\\\\\\\apppools\\\\\\\\socialmedialab\\\\\\\\socialmedialab.config&#x27;</pre></td>\\n        </tr>\\n      \\n        <tr>\\n          <td>APP_POOL_ID</td>\\n          <td class=\"code\"><pre>&#x27;socialmedialab&#x27;</pre></td>\\n        </tr>\\n      \\n        <tr>\\n          <td>AUTH_PASSWORD</td>\\n          <td class=\"code\"><pre>&#x27;********************&#x27;</pre></td>\\n        </tr>\\n      \\n        <tr>\\n          <td>AUTH_TYPE</td>\\n          <td class=\"code\"><pre>&#x27;&#x27;</pre></td>\\n        </tr>\\n      \\n        <tr>\\n          <td>AUTH_USER</td>\\n          <td class=\"code\"><pre>&#x27;&#x27;</pre></td>\\n        </tr>\\n      \\n        <tr>\\n          <td>CERT_COOKIE</td>\\n          <td class=\"code\"><pre>&#x27;&#x27;</pre></td>\\n        </tr>\\n      \\n        <tr>\\n          <td>CERT_FLAGS</td>\\n          <td class=\"code\"><pre>&#x27;&#x27;</pre></td>\\n        </tr>\\n      \\n        <tr>\\n          <td>CERT_ISSUER</td>\\n          <td class=\"code\"><pre>&#x27;&#x27;</pre></td>\\n        </tr>\\n      \\n        <tr>\\n          <td>CERT_SERIALNUMBER</td>\\n          <td class=\"code\"><pre>&#x27;&#x27;</pre></td>\\n        </tr>\\n      \\n        <tr>\\n          <td>CERT_SUBJECT</td>\\n          <td class=\"code\"><pre>&#x27;&#x27;</pre></td>\\n        </tr>\\n      \\n        <tr>\\n          <td>CONTENT_LENGTH</td>\\n          <td class=\"code\"><pre>&#x27;283&#x27;</pre></td>\\n        </tr>\\n      \\n        <tr>\\n          <td>CONTENT_TYPE</td>\\n          <td class=\"code\"><pre>&#x27;application/json&#x27;</pre></td>\\n        </tr>\\n      \\n        <tr>\\n          <td>DOCUMENT_ROOT</td>\\n          <td class=\"code\"><pre>&#x27;C:\\\\\\\\socialmedialab&#x27;</pre></td>\\n        </tr>\\n      \\n        <tr>\\n          <td>GATEWAY_INTERFACE</td>\\n          <td class=\"code\"><pre>&#x27;CGI/1.1&#x27;</pre></td>\\n        </tr>\\n      \\n        <tr>\\n          <td>HTTPS</td>\\n          <td class=\"code\"><pre>&#x27;off&#x27;</pre></td>\\n        </tr>\\n      \\n        <tr>\\n          <td>HTTPS_KEYSIZE</td>\\n          <td class=\"code\"><pre>&#x27;********************&#x27;</pre></td>\\n        </tr>\\n      \\n        <tr>\\n          <td>HTTPS_SECRETKEYSIZE</td>\\n          <td class=\"code\"><pre>&#x27;********************&#x27;</pre></td>\\n        </tr>\\n      \\n        <tr>\\n          <td>HTTPS_SERVER_ISSUER</td>\\n          <td class=\"code\"><pre>&#x27;&#x27;</pre></td>\\n        </tr>\\n      \\n        <tr>\\n          <td>HTTPS_SERVER_SUBJECT</td>\\n          <td class=\"code\"><pre>&#x27;&#x27;</pre></td>\\n        </tr>\\n      \\n        <tr>\\n          <td>HTTP_ACCEPT</td>\\n          <td class=\"code\"><pre>&#x27;*/*&#x27;</pre></td>\\n        </tr>\\n      \\n        <tr>\\n          <td>HTTP_ACCEPT_ENCODING</td>\\n          <td class=\"code\"><pre>&#x27;gzip, deflate&#x27;</pre></td>\\n        </tr>\\n      \\n        <tr>\\n          <td>HTTP_CONNECTION</td>\\n          <td class=\"code\"><pre>&#x27;keep-alive&#x27;</pre></td>\\n        </tr>\\n      \\n        <tr>\\n          <td>HTTP_CONTENT_LENGTH</td>\\n          <td class=\"code\"><pre>&#x27;283&#x27;</pre></td>\\n        </tr>\\n      \\n        <tr>\\n          <td>HTTP_CONTENT_TYPE</td>\\n          <td class=\"code\"><pre>&#x27;application/json&#x27;</pre></td>\\n        </tr>\\n      \\n        <tr>\\n          <td>HTTP_HOST</td>\\n          <td class=\"code\"><pre>&#x27;65.21.173.197&#x27;</pre></td>\\n        </tr>\\n      \\n        <tr>\\n          <td>HTTP_USER_AGENT</td>\\n          <td class=\"code\"><pre>&#x27;python-requests/2.28.2&#x27;</pre></td>\\n        </tr>\\n      \\n        <tr>\\n          <td>INSTANCE_ID</td>\\n          <td class=\"code\"><pre>&#x27;2&#x27;</pre></td>\\n        </tr>\\n      \\n        <tr>\\n          <td>INSTANCE_META_PATH</td>\\n          <td class=\"code\"><pre>&#x27;/LM/W3SVC/2&#x27;</pre></td>\\n        </tr>\\n      \\n        <tr>\\n          <td>INSTANCE_NAME</td>\\n          <td class=\"code\"><pre>&#x27;SOCIALMEDIALAB&#x27;</pre></td>\\n        </tr>\\n      \\n        <tr>\\n          <td>LOCAL_ADDR</td>\\n          <td class=\"code\"><pre>&#x27;65.21.173.197&#x27;</pre></td>\\n        </tr>\\n      \\n        <tr>\\n          <td>LOGON_USER</td>\\n          <td class=\"code\"><pre>&#x27;&#x27;</pre></td>\\n        </tr>\\n      \\n        <tr>\\n          <td>PATH_INFO</td>\\n          <td class=\"code\"><pre>&#x27;/api/upsert_instagram_user/&#x27;</pre></td>\\n        </tr>\\n      \\n        <tr>\\n          <td>PATH_TRANSLATED</td>\\n          <td class=\"code\"><pre>&#x27;C:\\\\\\\\socialmedialab\\\\\\\\api\\\\\\\\upsert_instagram_user\\\\\\\\&#x27;</pre></td>\\n        </tr>\\n      \\n        <tr>\\n          <td>QUERY_STRING</td>\\n          <td class=\"code\"><pre>&#x27;&#x27;</pre></td>\\n        </tr>\\n      \\n        <tr>\\n          <td>REMOTE_ADDR</td>\\n          <td class=\"code\"><pre>&#x27;2.189.224.181&#x27;</pre></td>\\n        </tr>\\n      \\n        <tr>\\n          <td>REMOTE_HOST</td>\\n          <td class=\"code\"><pre>&#x27;2.189.224.181&#x27;</pre></td>\\n        </tr>\\n      \\n        <tr>\\n          <td>REMOTE_PORT</td>\\n          <td class=\"code\"><pre>&#x27;55685&#x27;</pre></td>\\n        </tr>\\n      \\n        <tr>\\n          <td>REMOTE_USER</td>\\n          <td class=\"code\"><pre>&#x27;&#x27;</pre></td>\\n        </tr>\\n      \\n        <tr>\\n          <td>REQUEST_METHOD</td>\\n          <td class=\"code\"><pre>&#x27;POST&#x27;</pre></td>\\n        </tr>\\n      \\n        <tr>\\n          <td>REQUEST_URI</td>\\n          <td class=\"code\"><pre>&#x27;/api/upsert_instagram_user/&#x27;</pre></td>\\n        </tr>\\n      \\n        <tr>\\n          <td>SCRIPT_FILENAME</td>\\n          <td class=\"code\"><pre>&#x27;C:\\\\\\\\socialmedialab\\\\\\\\api\\\\\\\\upsert_instagram_user\\\\\\\\&#x27;</pre></td>\\n        </tr>\\n      \\n        <tr>\\n          <td>SCRIPT_NAME</td>\\n          <td class=\"code\"><pre>&#x27;&#x27;</pre></td>\\n        </tr>\\n      \\n        <tr>\\n          <td>SERVER_NAME</td>\\n          <td class=\"code\"><pre>&#x27;65.21.173.197&#x27;</pre></td>\\n        </tr>\\n      \\n        <tr>\\n          <td>SERVER_PORT</td>\\n          <td class=\"code\"><pre>&#x27;80&#x27;</pre></td>\\n        </tr>\\n      \\n        <tr>\\n          <td>SERVER_PORT_SECURE</td>\\n          <td class=\"code\"><pre>&#x27;0&#x27;</pre></td>\\n        </tr>\\n      \\n        <tr>\\n          <td>SERVER_PROTOCOL</td>\\n          <td class=\"code\"><pre>&#x27;HTTP/1.1&#x27;</pre></td>\\n        </tr>\\n      \\n        <tr>\\n          <td>SERVER_SOFTWARE</td>\\n          <td class=\"code\"><pre>&#x27;Microsoft-IIS/10.0&#x27;</pre></td>\\n        </tr>\\n      \\n        <tr>\\n          <td>URL</td>\\n          <td class=\"code\"><pre>&#x27;/api/upsert_instagram_user/&#x27;</pre></td>\\n        </tr>\\n      \\n        <tr>\\n          <td>wsgi.errors</td>\\n          <td class=\"code\"><pre>&lt;_io.StringIO object at 0x00000245A34F7280&gt;</pre></td>\\n        </tr>\\n      \\n        <tr>\\n          <td>wsgi.input</td>\\n          <td class=\"code\"><pre>&lt;_io.BytesIO object at 0x00000245A40CA340&gt;</pre></td>\\n        </tr>\\n      \\n        <tr>\\n          <td>wsgi.multiprocess</td>\\n          <td class=\"code\"><pre>True</pre></td>\\n        </tr>\\n      \\n        <tr>\\n          <td>wsgi.multithread</td>\\n          <td class=\"code\"><pre>False</pre></td>\\n        </tr>\\n      \\n        <tr>\\n          <td>wsgi.path_info</td>\\n          <td class=\"code\"><pre>b&#x27;/api/upsert_instagram_user/&#x27;</pre></td>\\n        </tr>\\n      \\n        <tr>\\n          <td>wsgi.query_string</td>\\n          <td class=\"code\"><pre>b&#x27;&#x27;</pre></td>\\n        </tr>\\n      \\n        <tr>\\n          <td>wsgi.run_once</td>\\n          <td class=\"code\"><pre>False</pre></td>\\n        </tr>\\n      \\n        <tr>\\n          <td>wsgi.script_name</td>\\n          <td class=\"code\"><pre>b&#x27;&#x27;</pre></td>\\n        </tr>\\n      \\n        <tr>\\n          <td>wsgi.url_scheme</td>\\n          <td class=\"code\"><pre>&#x27;http&#x27;</pre></td>\\n        </tr>\\n      \\n        <tr>\\n          <td>wsgi.version</td>\\n          <td class=\"code\"><pre>(1, 0)</pre></td>\\n        </tr>\\n      \\n    </tbody>\\n  </table>\\n\\n\\n  <h3 id=\"settings-info\">Settings</h3>\\n  <h4>Using settings module <code>core.settings</code></h4>\\n  <table class=\"req\">\\n    <thead>\\n      <tr>\\n        <th>Setting</th>\\n        <th>Value</th>\\n      </tr>\\n    </thead>\\n    <tbody>\\n      \\n        <tr>\\n          <td>ABSOLUTE_URL_OVERRIDES</td>\\n          <td class=\"code\"><pre>{}</pre></td>\\n        </tr>\\n      \\n        <tr>\\n          <td>ADMINS</td>\\n          <td class=\"code\"><pre>[]</pre></td>\\n        </tr>\\n      \\n        <tr>\\n          <td>ALLOWED_HOSTS</td>\\n          <td class=\"code\"><pre>[&#x27;www.updataco.ir&#x27;, &#x27;localhost&#x27;, &#x27;127.0.0.1&#x27;, &#x27;updataco.ir&#x27;, &#x27;65.21.173.197&#x27;]</pre></td>\\n        </tr>\\n      \\n        <tr>\\n          <td>APPEND_SLASH</td>\\n          <td class=\"code\"><pre>True</pre></td>\\n        </tr>\\n      \\n        <tr>\\n          <td>AUTHENTICATION_BACKENDS</td>\\n          <td class=\"code\"><pre>[&#x27;django.contrib.auth.backends.ModelBackend&#x27;]</pre></td>\\n        </tr>\\n      \\n        <tr>\\n          <td>AUTH_PASSWORD_VALIDATORS</td>\\n          <td class=\"code\"><pre>&#x27;********************&#x27;</pre></td>\\n        </tr>\\n      \\n        <tr>\\n          <td>AUTH_USER_MODEL</td>\\n          <td class=\"code\"><pre>&#x27;auth.User&#x27;</pre></td>\\n        </tr>\\n      \\n        <tr>\\n          <td>BASE_DIR</td>\\n          <td class=\"code\"><pre>Path(&#x27;C:\\\\\\\\socialmedialab\\\\\\\\core&#x27;)</pre></td>\\n        </tr>\\n      \\n        <tr>\\n          <td>CACHES</td>\\n          <td class=\"code\"><pre>{&#x27;default&#x27;: {&#x27;BACKEND&#x27;: &#x27;django.core.cache.backends.dummy.DummyCache&#x27;}}</pre></td>\\n        </tr>\\n      \\n        <tr>\\n          <td>CACHE_MIDDLEWARE_ALIAS</td>\\n          <td class=\"code\"><pre>&#x27;default&#x27;</pre></td>\\n        </tr>\\n      \\n        <tr>\\n          <td>CACHE_MIDDLEWARE_KEY_PREFIX</td>\\n          <td class=\"code\"><pre>&#x27;********************&#x27;</pre></td>\\n        </tr>\\n      \\n        <tr>\\n          <td>CACHE_MIDDLEWARE_SECONDS</td>\\n          <td class=\"code\"><pre>600</pre></td>\\n        </tr>\\n      \\n        <tr>\\n          <td>CORE_DIR</td>\\n          <td class=\"code\"><pre>&#x27;C:\\\\\\\\socialmedialab&#x27;</pre></td>\\n        </tr>\\n      \\n        <tr>\\n          <td>CORS_ALLOWED_ORIGINS</td>\\n          <td class=\"code\"><pre>[&#x27;http://localhost:4200&#x27;, &#x27;http://127.0.0.1:4200&#x27;]</pre></td>\\n        </tr>\\n      \\n        <tr>\\n          <td>CORS_ALLOW_CREDENTIALS</td>\\n          <td class=\"code\"><pre>True</pre></td>\\n        </tr>\\n      \\n        <tr>\\n          <td>CORS_ALLOW_HEADERS</td>\\n          <td class=\"code\"><pre>(&#x27;accept&#x27;,\\n &#x27;authorization&#x27;,\\n &#x27;content-type&#x27;,\\n &#x27;user-agent&#x27;,\\n &#x27;x-csrftoken&#x27;,\\n &#x27;x-requested-with&#x27;,\\n &#x27;Access-Control-Allow-Origin&#x27;)</pre></td>\\n        </tr>\\n      \\n        <tr>\\n          <td>CORS_EXPOSE_HEADERS</td>\\n          <td class=\"code\"><pre>[&#x27;Content-type&#x27;]</pre></td>\\n        </tr>\\n      \\n        <tr>\\n          <td>CORS_ORIGIN_ALLOW_ALL</td>\\n          <td class=\"code\"><pre>True</pre></td>\\n        </tr>\\n      \\n        <tr>\\n          <td>CSRF_COOKIE_AGE</td>\\n          <td class=\"code\"><pre>31449600</pre></td>\\n        </tr>\\n      \\n        <tr>\\n          <td>CSRF_COOKIE_DOMAIN</td>\\n          <td class=\"code\"><pre>None</pre></td>\\n        </tr>\\n      \\n        <tr>\\n          <td>CSRF_COOKIE_HTTPONLY</td>\\n          <td class=\"code\"><pre>False</pre></td>\\n        </tr>\\n      \\n        <tr>\\n          <td>CSRF_COOKIE_NAME</td>\\n          <td class=\"code\"><pre>&#x27;csrftoken&#x27;</pre></td>\\n        </tr>\\n      \\n        <tr>\\n          <td>CSRF_COOKIE_PATH</td>\\n          <td class=\"code\"><pre>&#x27;/&#x27;</pre></td>\\n        </tr>\\n      \\n        <tr>\\n          <td>CSRF_COOKIE_SAMESITE</td>\\n          <td class=\"code\"><pre>&#x27;Lax&#x27;</pre></td>\\n        </tr>\\n      \\n        <tr>\\n          <td>CSRF_COOKIE_SECURE</td>\\n          <td class=\"code\"><pre>False</pre></td>\\n        </tr>\\n      \\n        <tr>\\n          <td>CSRF_FAILURE_VIEW</td>\\n          <td class=\"code\"><pre>&#x27;django.views.csrf.csrf_failure&#x27;</pre></td>\\n        </tr>\\n      \\n        <tr>\\n          <td>CSRF_HEADER_NAME</td>\\n          <td class=\"code\"><pre>&#x27;HTTP_X_CSRFTOKEN&#x27;</pre></td>\\n        </tr>\\n      \\n        <tr>\\n          <td>CSRF_TRUSTED_ORIGINS</td>\\n          <td class=\"code\"><pre>[]</pre></td>\\n        </tr>\\n      \\n        <tr>\\n          <td>CSRF_USE_SESSIONS</td>\\n          <td class=\"code\"><pre>False</pre></td>\\n        </tr>\\n      \\n        <tr>\\n          <td>DATABASES</td>\\n          <td class=\"code\"><pre>{&#x27;default&#x27;: {&#x27;ATOMIC_REQUESTS&#x27;: False,\\n             &#x27;AUTOCOMMIT&#x27;: True,\\n             &#x27;CONN_HEALTH_CHECKS&#x27;: False,\\n             &#x27;CONN_MAX_AGE&#x27;: None,\\n             &#x27;ENGINE&#x27;: &#x27;django.db.backends.postgresql&#x27;,\\n             &#x27;HOST&#x27;: &#x27;localhost&#x27;,\\n             &#x27;NAME&#x27;: &#x27;updata&#x27;,\\n             &#x27;OPTIONS&#x27;: {},\\n             &#x27;PASSWORD&#x27;: &#x27;********************&#x27;,\\n             &#x27;PORT&#x27;: &#x27;5433&#x27;,\\n             &#x27;TEST&#x27;: {&#x27;CHARSET&#x27;: None,\\n                      &#x27;COLLATION&#x27;: None,\\n                      &#x27;MIGRATE&#x27;: True,\\n                      &#x27;MIRROR&#x27;: None,\\n                      &#x27;NAME&#x27;: None},\\n             &#x27;TIME_ZONE&#x27;: None,\\n             &#x27;USER&#x27;: &#x27;postgres&#x27;}}</pre></td>\\n        </tr>\\n      \\n        <tr>\\n          <td>DATABASE_ROUTERS</td>\\n          <td class=\"code\"><pre>[]</pre></td>\\n        </tr>\\n      \\n        <tr>\\n          <td>DATA_UPLOAD_MAX_MEMORY_SIZE</td>\\n          <td class=\"code\"><pre>2621440</pre></td>\\n        </tr>\\n      \\n        <tr>\\n          <td>DATA_UPLOAD_MAX_NUMBER_FIELDS</td>\\n          <td class=\"code\"><pre>1000</pre></td>\\n        </tr>\\n      \\n        <tr>\\n          <td>DATA_UPLOAD_MAX_NUMBER_FILES</td>\\n          <td class=\"code\"><pre>100</pre></td>\\n        </tr>\\n      \\n        <tr>\\n          <td>DATETIME_FORMAT</td>\\n          <td class=\"code\"><pre>&#x27;N j, Y, P&#x27;</pre></td>\\n        </tr>\\n      \\n        <tr>\\n          <td>DATETIME_INPUT_FORMATS</td>\\n          <td class=\"code\"><pre>[&#x27;%Y-%m-%d %H:%M:%S&#x27;,\\n &#x27;%Y-%m-%d %H:%M:%S.%f&#x27;,\\n &#x27;%Y-%m-%d %H:%M&#x27;,\\n &#x27;%m/%d/%Y %H:%M:%S&#x27;,\\n &#x27;%m/%d/%Y %H:%M:%S.%f&#x27;,\\n &#x27;%m/%d/%Y %H:%M&#x27;,\\n &#x27;%m/%d/%y %H:%M:%S&#x27;,\\n &#x27;%m/%d/%y %H:%M:%S.%f&#x27;,\\n &#x27;%m/%d/%y %H:%M&#x27;]</pre></td>\\n        </tr>\\n      \\n        <tr>\\n          <td>DATE_FORMAT</td>\\n          <td class=\"code\"><pre>&#x27;N j, Y&#x27;</pre></td>\\n        </tr>\\n      \\n        <tr>\\n          <td>DATE_INPUT_FORMATS</td>\\n          <td class=\"code\"><pre>[&#x27;%Y-%m-%d&#x27;,\\n &#x27;%m/%d/%Y&#x27;,\\n &#x27;%m/%d/%y&#x27;,\\n &#x27;%b %d %Y&#x27;,\\n &#x27;%b %d, %Y&#x27;,\\n &#x27;%d %b %Y&#x27;,\\n &#x27;%d %b, %Y&#x27;,\\n &#x27;%B %d %Y&#x27;,\\n &#x27;%B %d, %Y&#x27;,\\n &#x27;%d %B %Y&#x27;,\\n &#x27;%d %B, %Y&#x27;]</pre></td>\\n        </tr>\\n      \\n        <tr>\\n          <td>DEBUG</td>\\n          <td class=\"code\"><pre>True</pre></td>\\n        </tr>\\n      \\n        <tr>\\n          <td>DEBUG_PROPAGATE_EXCEPTIONS</td>\\n          <td class=\"code\"><pre>False</pre></td>\\n        </tr>\\n      \\n        <tr>\\n          <td>DEBUG_TOOLBAR_PANELS</td>\\n          <td class=\"code\"><pre>[&#x27;debug_toolbar.panels.history.HistoryPanel&#x27;,\\n &#x27;debug_toolbar.panels.versions.VersionsPanel&#x27;,\\n &#x27;debug_toolbar.panels.timer.TimerPanel&#x27;,\\n &#x27;debug_toolbar.panels.settings.SettingsPanel&#x27;,\\n &#x27;debug_toolbar.panels.headers.HeadersPanel&#x27;,\\n &#x27;debug_toolbar.panels.request.RequestPanel&#x27;,\\n &#x27;debug_toolbar.panels.sql.SQLPanel&#x27;,\\n &#x27;debug_toolbar.panels.staticfiles.StaticFilesPanel&#x27;,\\n &#x27;debug_toolbar.panels.templates.TemplatesPanel&#x27;,\\n &#x27;debug_toolbar.panels.cache.CachePanel&#x27;,\\n &#x27;debug_toolbar.panels.signals.SignalsPanel&#x27;,\\n &#x27;debug_toolbar.panels.logging.LoggingPanel&#x27;,\\n &#x27;debug_toolbar.panels.redirects.RedirectsPanel&#x27;,\\n &#x27;debug_toolbar.panels.profiling.ProfilingPanel&#x27;,\\n &#x27;template_profiler_panel.panels.template.TemplateProfilerPanel&#x27;]</pre></td>\\n        </tr>\\n      \\n        <tr>\\n          <td>DECIMAL_SEPARATOR</td>\\n          <td class=\"code\"><pre>&#x27;.&#x27;</pre></td>\\n        </tr>\\n      \\n        <tr>\\n          <td>DEFAULT_AUTO_FIELD</td>\\n          <td class=\"code\"><pre>&#x27;django.db.models.AutoField&#x27;</pre></td>\\n        </tr>\\n      \\n        <tr>\\n          <td>DEFAULT_CHARSET</td>\\n          <td class=\"code\"><pre>&#x27;utf-8&#x27;</pre></td>\\n        </tr>\\n      \\n        <tr>\\n          <td>DEFAULT_EXCEPTION_REPORTER</td>\\n          <td class=\"code\"><pre>&#x27;django.views.debug.ExceptionReporter&#x27;</pre></td>\\n        </tr>\\n      \\n        <tr>\\n          <td>DEFAULT_EXCEPTION_REPORTER_FILTER</td>\\n          <td class=\"code\"><pre>&#x27;django.views.debug.SafeExceptionReporterFilter&#x27;</pre></td>\\n        </tr>\\n      \\n        <tr>\\n          <td>DEFAULT_FILE_STORAGE</td>\\n          <td class=\"code\"><pre>&#x27;django.core.files.storage.FileSystemStorage&#x27;</pre></td>\\n        </tr>\\n      \\n        <tr>\\n          <td>DEFAULT_FROM_EMAIL</td>\\n          <td class=\"code\"><pre>&#x27;webmaster@localhost&#x27;</pre></td>\\n        </tr>\\n      \\n        <tr>\\n          <td>DEFAULT_INDEX_TABLESPACE</td>\\n          <td class=\"code\"><pre>&#x27;&#x27;</pre></td>\\n        </tr>\\n      \\n        <tr>\\n          <td>DEFAULT_TABLESPACE</td>\\n          <td class=\"code\"><pre>&#x27;&#x27;</pre></td>\\n        </tr>\\n      \\n        <tr>\\n          <td>DISALLOWED_USER_AGENTS</td>\\n          <td class=\"code\"><pre>[]</pre></td>\\n        </tr>\\n      \\n        <tr>\\n          <td>EMAIL_BACKEND</td>\\n          <td class=\"code\"><pre>&#x27;django.core.mail.backends.smtp.EmailBackend&#x27;</pre></td>\\n        </tr>\\n      \\n        <tr>\\n          <td>EMAIL_HOST</td>\\n          <td class=\"code\"><pre>&#x27;localhost&#x27;</pre></td>\\n        </tr>\\n      \\n        <tr>\\n          <td>EMAIL_HOST_PASSWORD</td>\\n          <td class=\"code\"><pre>&#x27;********************&#x27;</pre></td>\\n        </tr>\\n      \\n        <tr>\\n          <td>EMAIL_HOST_USER</td>\\n          <td class=\"code\"><pre>&#x27;&#x27;</pre></td>\\n        </tr>\\n      \\n        <tr>\\n          <td>EMAIL_PORT</td>\\n          <td class=\"code\"><pre>25</pre></td>\\n        </tr>\\n      \\n        <tr>\\n          <td>EMAIL_SSL_CERTFILE</td>\\n          <td class=\"code\"><pre>None</pre></td>\\n        </tr>\\n      \\n        <tr>\\n          <td>EMAIL_SSL_KEYFILE</td>\\n          <td class=\"code\"><pre>&#x27;********************&#x27;</pre></td>\\n        </tr>\\n      \\n        <tr>\\n          <td>EMAIL_SUBJECT_PREFIX</td>\\n          <td class=\"code\"><pre>&#x27;[Django] &#x27;</pre></td>\\n        </tr>\\n      \\n        <tr>\\n          <td>EMAIL_TIMEOUT</td>\\n          <td class=\"code\"><pre>None</pre></td>\\n        </tr>\\n      \\n        <tr>\\n          <td>EMAIL_USE_LOCALTIME</td>\\n          <td class=\"code\"><pre>False</pre></td>\\n        </tr>\\n      \\n        <tr>\\n          <td>EMAIL_USE_SSL</td>\\n          <td class=\"code\"><pre>False</pre></td>\\n        </tr>\\n      \\n        <tr>\\n          <td>EMAIL_USE_TLS</td>\\n          <td class=\"code\"><pre>False</pre></td>\\n        </tr>\\n      \\n        <tr>\\n          <td>FILE_UPLOAD_DIRECTORY_PERMISSIONS</td>\\n          <td class=\"code\"><pre>None</pre></td>\\n        </tr>\\n      \\n        <tr>\\n          <td>FILE_UPLOAD_HANDLERS</td>\\n          <td class=\"code\"><pre>[&#x27;django.core.files.uploadhandler.MemoryFileUploadHandler&#x27;,\\n &#x27;django.core.files.uploadhandler.TemporaryFileUploadHandler&#x27;]</pre></td>\\n        </tr>\\n      \\n        <tr>\\n          <td>FILE_UPLOAD_MAX_MEMORY_SIZE</td>\\n          <td class=\"code\"><pre>2621440</pre></td>\\n        </tr>\\n      \\n        <tr>\\n          <td>FILE_UPLOAD_PERMISSIONS</td>\\n          <td class=\"code\"><pre>420</pre></td>\\n        </tr>\\n      \\n        <tr>\\n          <td>FILE_UPLOAD_TEMP_DIR</td>\\n          <td class=\"code\"><pre>None</pre></td>\\n        </tr>\\n      \\n        <tr>\\n          <td>FIRST_DAY_OF_WEEK</td>\\n          <td class=\"code\"><pre>0</pre></td>\\n        </tr>\\n      \\n        <tr>\\n          <td>FIXTURE_DIRS</td>\\n          <td class=\"code\"><pre>[]</pre></td>\\n        </tr>\\n      \\n        <tr>\\n          <td>FORCE_SCRIPT_NAME</td>\\n          <td class=\"code\"><pre>None</pre></td>\\n        </tr>\\n      \\n        <tr>\\n          <td>FORMAT_MODULE_PATH</td>\\n          <td class=\"code\"><pre>None</pre></td>\\n        </tr>\\n      \\n        <tr>\\n          <td>FORMS_URLFIELD_ASSUME_HTTPS</td>\\n          <td class=\"code\"><pre>False</pre></td>\\n        </tr>\\n      \\n        <tr>\\n          <td>FORM_RENDERER</td>\\n          <td class=\"code\"><pre>&#x27;django.forms.renderers.DjangoTemplates&#x27;</pre></td>\\n        </tr>\\n      \\n        <tr>\\n          <td>IGNORABLE_404_URLS</td>\\n          <td class=\"code\"><pre>[]</pre></td>\\n        </tr>\\n      \\n        <tr>\\n          <td>INSTALLED_APPS</td>\\n          <td class=\"code\"><pre>[&#x27;django.contrib.admin&#x27;,\\n &#x27;django.contrib.auth&#x27;,\\n &#x27;django.contrib.contenttypes&#x27;,\\n &#x27;django.contrib.sessions&#x27;,\\n &#x27;django.contrib.messages&#x27;,\\n &#x27;django.contrib.staticfiles&#x27;,\\n &#x27;jalali_date&#x27;,\\n &#x27;django_jalali&#x27;,\\n &#x27;debug_toolbar&#x27;,\\n &#x27;template_profiler_panel&#x27;,\\n &#x27;apps.home&#x27;,\\n &#x27;django_extensions&#x27;,\\n &#x27;django.contrib.postgres&#x27;,\\n &#x27;wkhtmltopdf&#x27;,\\n &#x27;django.contrib.humanize&#x27;,\\n &#x27;corsheaders&#x27;]</pre></td>\\n        </tr>\\n      \\n        <tr>\\n          <td>INTERNAL_IPS</td>\\n          <td class=\"code\"><pre>[&#x27;http://localhost/&#x27;,\\n &#x27;127.0.0.1&#x27;,\\n &#x27;localhost&#x27;,\\n &#x27;::1&#x27;,\\n &#x27;http://127.0.0.1:8000/&#x27;,\\n &#x27;127.0.0.1:8000/&#x27;]</pre></td>\\n        </tr>\\n      \\n        <tr>\\n          <td>JALALI_DATE_DEFAULTS</td>\\n          <td class=\"code\"><pre>{&#x27;LIST_DISPLAY_AUTO_CONVERT&#x27;: False,\\n &#x27;Static&#x27;: {&#x27;css&#x27;: {&#x27;all&#x27;: [&#x27;admin/jquery.ui.datepicker.jalali/themes/base/jquery-ui.min.css&#x27;]},\\n            &#x27;js&#x27;: [&#x27;admin/js/django_jalali.min.js&#x27;]},\\n &#x27;Strftime&#x27;: {&#x27;date&#x27;: &#x27;%y/%m/%d&#x27;, &#x27;datetime&#x27;: &#x27;%H:%M:%S _ %y/%m/%d&#x27;}}</pre></td>\\n        </tr>\\n      \\n        <tr>\\n          <td>LANGUAGES</td>\\n          <td class=\"code\"><pre>[(&#x27;af&#x27;, &#x27;Afrikaans&#x27;),\\n (&#x27;ar&#x27;, &#x27;Arabic&#x27;),\\n (&#x27;ar-dz&#x27;, &#x27;Algerian Arabic&#x27;),\\n (&#x27;ast&#x27;, &#x27;Asturian&#x27;),\\n (&#x27;az&#x27;, &#x27;Azerbaijani&#x27;),\\n (&#x27;bg&#x27;, &#x27;Bulgarian&#x27;),\\n (&#x27;be&#x27;, &#x27;Belarusian&#x27;),\\n (&#x27;bn&#x27;, &#x27;Bengali&#x27;),\\n (&#x27;br&#x27;, &#x27;Breton&#x27;),\\n (&#x27;bs&#x27;, &#x27;Bosnian&#x27;),\\n (&#x27;ca&#x27;, &#x27;Catalan&#x27;),\\n (&#x27;ckb&#x27;, &#x27;Central Kurdish (Sorani)&#x27;),\\n (&#x27;cs&#x27;, &#x27;Czech&#x27;),\\n (&#x27;cy&#x27;, &#x27;Welsh&#x27;),\\n (&#x27;da&#x27;, &#x27;Danish&#x27;),\\n (&#x27;de&#x27;, &#x27;German&#x27;),\\n (&#x27;dsb&#x27;, &#x27;Lower Sorbian&#x27;),\\n (&#x27;el&#x27;, &#x27;Greek&#x27;),\\n (&#x27;en&#x27;, &#x27;English&#x27;),\\n (&#x27;en-au&#x27;, &#x27;Australian English&#x27;),\\n (&#x27;en-gb&#x27;, &#x27;British English&#x27;),\\n (&#x27;eo&#x27;, &#x27;Esperanto&#x27;),\\n (&#x27;es&#x27;, &#x27;Spanish&#x27;),\\n (&#x27;es-ar&#x27;, &#x27;Argentinian Spanish&#x27;),\\n (&#x27;es-co&#x27;, &#x27;Colombian Spanish&#x27;),\\n (&#x27;es-mx&#x27;, &#x27;Mexican Spanish&#x27;),\\n (&#x27;es-ni&#x27;, &#x27;Nicaraguan Spanish&#x27;),\\n (&#x27;es-ve&#x27;, &#x27;Venezuelan Spanish&#x27;),\\n (&#x27;et&#x27;, &#x27;Estonian&#x27;),\\n (&#x27;eu&#x27;, &#x27;Basque&#x27;),\\n (&#x27;fa&#x27;, &#x27;Persian&#x27;),\\n (&#x27;fi&#x27;, &#x27;Finnish&#x27;),\\n (&#x27;fr&#x27;, &#x27;French&#x27;),\\n (&#x27;fy&#x27;, &#x27;Frisian&#x27;),\\n (&#x27;ga&#x27;, &#x27;Irish&#x27;),\\n (&#x27;gd&#x27;, &#x27;Scottish Gaelic&#x27;),\\n (&#x27;gl&#x27;, &#x27;Galician&#x27;),\\n (&#x27;he&#x27;, &#x27;Hebrew&#x27;),\\n (&#x27;hi&#x27;, &#x27;Hindi&#x27;),\\n (&#x27;hr&#x27;, &#x27;Croatian&#x27;),\\n (&#x27;hsb&#x27;, &#x27;Upper Sorbian&#x27;),\\n (&#x27;hu&#x27;, &#x27;Hungarian&#x27;),\\n (&#x27;hy&#x27;, &#x27;Armenian&#x27;),\\n (&#x27;ia&#x27;, &#x27;Interlingua&#x27;),\\n (&#x27;id&#x27;, &#x27;Indonesian&#x27;),\\n (&#x27;ig&#x27;, &#x27;Igbo&#x27;),\\n (&#x27;io&#x27;, &#x27;Ido&#x27;),\\n (&#x27;is&#x27;, &#x27;Icelandic&#x27;),\\n (&#x27;it&#x27;, &#x27;Italian&#x27;),\\n (&#x27;ja&#x27;, &#x27;Japanese&#x27;),\\n (&#x27;ka&#x27;, &#x27;Georgian&#x27;),\\n (&#x27;kab&#x27;, &#x27;Kabyle&#x27;),\\n (&#x27;kk&#x27;, &#x27;Kazakh&#x27;),\\n (&#x27;km&#x27;, &#x27;Khmer&#x27;),\\n (&#x27;kn&#x27;, &#x27;Kannada&#x27;),\\n (&#x27;ko&#x27;, &#x27;Korean&#x27;),\\n (&#x27;ky&#x27;, &#x27;Kyrgyz&#x27;),\\n (&#x27;lb&#x27;, &#x27;Luxembourgish&#x27;),\\n (&#x27;lt&#x27;, &#x27;Lithuanian&#x27;),\\n (&#x27;lv&#x27;, &#x27;Latvian&#x27;),\\n (&#x27;mk&#x27;, &#x27;Macedonian&#x27;),\\n (&#x27;ml&#x27;, &#x27;Malayalam&#x27;),\\n (&#x27;mn&#x27;, &#x27;Mongolian&#x27;),\\n (&#x27;mr&#x27;, &#x27;Marathi&#x27;),\\n (&#x27;ms&#x27;, &#x27;Malay&#x27;),\\n (&#x27;my&#x27;, &#x27;Burmese&#x27;),\\n (&#x27;nb&#x27;, &#x27;Norwegian Bokm\\xc3\\xa5l&#x27;),\\n (&#x27;ne&#x27;, &#x27;Nepali&#x27;),\\n (&#x27;nl&#x27;, &#x27;Dutch&#x27;),\\n (&#x27;nn&#x27;, &#x27;Norwegian Nynorsk&#x27;),\\n (&#x27;os&#x27;, &#x27;Ossetic&#x27;),\\n (&#x27;pa&#x27;, &#x27;Punjabi&#x27;),\\n (&#x27;pl&#x27;, &#x27;Polish&#x27;),\\n (&#x27;pt&#x27;, &#x27;Portuguese&#x27;),\\n (&#x27;pt-br&#x27;, &#x27;Brazilian Portuguese&#x27;),\\n (&#x27;ro&#x27;, &#x27;Romanian&#x27;),\\n (&#x27;ru&#x27;, &#x27;Russian&#x27;),\\n (&#x27;sk&#x27;, &#x27;Slovak&#x27;),\\n (&#x27;sl&#x27;, &#x27;Slovenian&#x27;),\\n (&#x27;sq&#x27;, &#x27;Albanian&#x27;),\\n (&#x27;sr&#x27;, &#x27;Serbian&#x27;),\\n (&#x27;sr-latn&#x27;, &#x27;Serbian Latin&#x27;),\\n (&#x27;sv&#x27;, &#x27;Swedish&#x27;),\\n (&#x27;sw&#x27;, &#x27;Swahili&#x27;),\\n (&#x27;ta&#x27;, &#x27;Tamil&#x27;),\\n (&#x27;te&#x27;, &#x27;Telugu&#x27;),\\n (&#x27;tg&#x27;, &#x27;Tajik&#x27;),\\n (&#x27;th&#x27;, &#x27;Thai&#x27;),\\n (&#x27;tk&#x27;, &#x27;Turkmen&#x27;),\\n (&#x27;tr&#x27;, &#x27;Turkish&#x27;),\\n (&#x27;tt&#x27;, &#x27;Tatar&#x27;),\\n (&#x27;udm&#x27;, &#x27;Udmurt&#x27;),\\n (&#x27;ug&#x27;, &#x27;Uyghur&#x27;),\\n (&#x27;uk&#x27;, &#x27;Ukrainian&#x27;),\\n (&#x27;ur&#x27;, &#x27;Urdu&#x27;),\\n (&#x27;uz&#x27;, &#x27;Uzbek&#x27;),\\n (&#x27;vi&#x27;, &#x27;Vietnamese&#x27;),\\n (&#x27;zh-hans&#x27;, &#x27;Simplified Chinese&#x27;),\\n (&#x27;zh-hant&#x27;, &#x27;Traditional Chinese&#x27;)]</pre></td>\\n        </tr>\\n      \\n        <tr>\\n          <td>LANGUAGES_BIDI</td>\\n          <td class=\"code\"><pre>[&#x27;he&#x27;, &#x27;ar&#x27;, &#x27;ar-dz&#x27;, &#x27;ckb&#x27;, &#x27;fa&#x27;, &#x27;ug&#x27;, &#x27;ur&#x27;]</pre></td>\\n        </tr>\\n      \\n        <tr>\\n          <td>LANGUAGE_CODE</td>\\n          <td class=\"code\"><pre>&#x27;fa-IR&#x27;</pre></td>\\n        </tr>\\n      \\n        <tr>\\n          <td>LANGUAGE_COOKIE_AGE</td>\\n          <td class=\"code\"><pre>None</pre></td>\\n        </tr>\\n      \\n        <tr>\\n          <td>LANGUAGE_COOKIE_DOMAIN</td>\\n          <td class=\"code\"><pre>None</pre></td>\\n        </tr>\\n      \\n        <tr>\\n          <td>LANGUAGE_COOKIE_HTTPONLY</td>\\n          <td class=\"code\"><pre>False</pre></td>\\n        </tr>\\n      \\n        <tr>\\n          <td>LANGUAGE_COOKIE_NAME</td>\\n          <td class=\"code\"><pre>&#x27;django_language&#x27;</pre></td>\\n        </tr>\\n      \\n        <tr>\\n          <td>LANGUAGE_COOKIE_PATH</td>\\n          <td class=\"code\"><pre>&#x27;/&#x27;</pre></td>\\n        </tr>\\n      \\n        <tr>\\n          <td>LANGUAGE_COOKIE_SAMESITE</td>\\n          <td class=\"code\"><pre>None</pre></td>\\n        </tr>\\n      \\n        <tr>\\n          <td>LANGUAGE_COOKIE_SECURE</td>\\n          <td class=\"code\"><pre>False</pre></td>\\n        </tr>\\n      \\n        <tr>\\n          <td>LOCALE_PATHS</td>\\n          <td class=\"code\"><pre>[]</pre></td>\\n        </tr>\\n      \\n        <tr>\\n          <td>LOGGING</td>\\n          <td class=\"code\"><pre>{}</pre></td>\\n        </tr>\\n      \\n        <tr>\\n          <td>LOGGING_CONFIG</td>\\n          <td class=\"code\"><pre>&#x27;logging.config.dictConfig&#x27;</pre></td>\\n        </tr>\\n      \\n        <tr>\\n          <td>LOGIN_REDIRECT_URL</td>\\n          <td class=\"code\"><pre>&#x27;home&#x27;</pre></td>\\n        </tr>\\n      \\n        <tr>\\n          <td>LOGIN_URL</td>\\n          <td class=\"code\"><pre>&#x27;/accounts/login/&#x27;</pre></td>\\n        </tr>\\n      \\n        <tr>\\n          <td>LOGOUT_REDIRECT_URL</td>\\n          <td class=\"code\"><pre>&#x27;home&#x27;</pre></td>\\n        </tr>\\n      \\n        <tr>\\n          <td>MANAGERS</td>\\n          <td class=\"code\"><pre>[]</pre></td>\\n        </tr>\\n      \\n        <tr>\\n          <td>MEDIA_ROOT</td>\\n          <td class=\"code\"><pre>&#x27;C:\\\\\\\\socialmedialab\\\\\\\\media&#x27;</pre></td>\\n        </tr>\\n      \\n        <tr>\\n          <td>MEDIA_URL</td>\\n          <td class=\"code\"><pre>&#x27;/&#x27;</pre></td>\\n        </tr>\\n      \\n        <tr>\\n          <td>MESSAGE_STORAGE</td>\\n          <td class=\"code\"><pre>&#x27;django.contrib.messages.storage.fallback.FallbackStorage&#x27;</pre></td>\\n        </tr>\\n      \\n        <tr>\\n          <td>MIDDLEWARE</td>\\n          <td class=\"code\"><pre>[&#x27;debug_toolbar.middleware.DebugToolbarMiddleware&#x27;,\\n &#x27;django.middleware.security.SecurityMiddleware&#x27;,\\n &#x27;whitenoise.middleware.WhiteNoiseMiddleware&#x27;,\\n &#x27;django.contrib.sessions.middleware.SessionMiddleware&#x27;,\\n &#x27;django.middleware.common.CommonMiddleware&#x27;,\\n &#x27;django.middleware.csrf.CsrfViewMiddleware&#x27;,\\n &#x27;django.contrib.auth.middleware.AuthenticationMiddleware&#x27;,\\n &#x27;django.contrib.messages.middleware.MessageMiddleware&#x27;,\\n &#x27;django.middleware.clickjacking.XFrameOptionsMiddleware&#x27;,\\n &#x27;corsheaders.middleware.CorsMiddleware&#x27;,\\n &#x27;django.middleware.common.CommonMiddleware&#x27;]</pre></td>\\n        </tr>\\n      \\n        <tr>\\n          <td>MIGRATION_MODULES</td>\\n          <td class=\"code\"><pre>{}</pre></td>\\n        </tr>\\n      \\n        <tr>\\n          <td>MONTH_DAY_FORMAT</td>\\n          <td class=\"code\"><pre>&#x27;F j&#x27;</pre></td>\\n        </tr>\\n      \\n        <tr>\\n          <td>NUMBER_GROUPING</td>\\n          <td class=\"code\"><pre>0</pre></td>\\n        </tr>\\n      \\n        <tr>\\n          <td>PASSWORD_HASHERS</td>\\n          <td class=\"code\"><pre>&#x27;********************&#x27;</pre></td>\\n        </tr>\\n      \\n        <tr>\\n          <td>PASSWORD_RESET_TIMEOUT</td>\\n          <td class=\"code\"><pre>&#x27;********************&#x27;</pre></td>\\n        </tr>\\n      \\n        <tr>\\n          <td>PREPEND_WWW</td>\\n          <td class=\"code\"><pre>False</pre></td>\\n        </tr>\\n      \\n        <tr>\\n          <td>ROOT_URLCONF</td>\\n          <td class=\"code\"><pre>&#x27;core.urls&#x27;</pre></td>\\n        </tr>\\n      \\n        <tr>\\n          <td>SECRET_KEY</td>\\n          <td class=\"code\"><pre>&#x27;********************&#x27;</pre></td>\\n        </tr>\\n      \\n        <tr>\\n          <td>SECRET_KEY_FALLBACKS</td>\\n          <td class=\"code\"><pre>&#x27;********************&#x27;</pre></td>\\n        </tr>\\n      \\n        <tr>\\n          <td>SECURE_CONTENT_TYPE_NOSNIFF</td>\\n          <td class=\"code\"><pre>True</pre></td>\\n        </tr>\\n      \\n        <tr>\\n          <td>SECURE_CROSS_ORIGIN_OPENER_POLICY</td>\\n          <td class=\"code\"><pre>&#x27;same-origin&#x27;</pre></td>\\n        </tr>\\n      \\n        <tr>\\n          <td>SECURE_HSTS_INCLUDE_SUBDOMAINS</td>\\n          <td class=\"code\"><pre>False</pre></td>\\n        </tr>\\n      \\n        <tr>\\n          <td>SECURE_HSTS_PRELOAD</td>\\n          <td class=\"code\"><pre>False</pre></td>\\n        </tr>\\n      \\n        <tr>\\n          <td>SECURE_HSTS_SECONDS</td>\\n          <td class=\"code\"><pre>0</pre></td>\\n        </tr>\\n      \\n        <tr>\\n          <td>SECURE_PROXY_SSL_HEADER</td>\\n          <td class=\"code\"><pre>None</pre></td>\\n        </tr>\\n      \\n        <tr>\\n          <td>SECURE_REDIRECT_EXEMPT</td>\\n          <td class=\"code\"><pre>[]</pre></td>\\n        </tr>\\n      \\n        <tr>\\n          <td>SECURE_REFERRER_POLICY</td>\\n          <td class=\"code\"><pre>&#x27;same-origin&#x27;</pre></td>\\n        </tr>\\n      \\n        <tr>\\n          <td>SECURE_SSL_HOST</td>\\n          <td class=\"code\"><pre>None</pre></td>\\n        </tr>\\n      \\n        <tr>\\n          <td>SECURE_SSL_REDIRECT</td>\\n          <td class=\"code\"><pre>False</pre></td>\\n        </tr>\\n      \\n        <tr>\\n          <td>SERVER_EMAIL</td>\\n          <td class=\"code\"><pre>&#x27;root@localhost&#x27;</pre></td>\\n        </tr>\\n      \\n        <tr>\\n          <td>SESSION_CACHE_ALIAS</td>\\n          <td class=\"code\"><pre>&#x27;default&#x27;</pre></td>\\n        </tr>\\n      \\n        <tr>\\n          <td>SESSION_COOKIE_AGE</td>\\n          <td class=\"code\"><pre>1209600</pre></td>\\n        </tr>\\n      \\n        <tr>\\n          <td>SESSION_COOKIE_DOMAIN</td>\\n          <td class=\"code\"><pre>None</pre></td>\\n        </tr>\\n      \\n        <tr>\\n          <td>SESSION_COOKIE_HTTPONLY</td>\\n          <td class=\"code\"><pre>True</pre></td>\\n        </tr>\\n      \\n        <tr>\\n          <td>SESSION_COOKIE_NAME</td>\\n          <td class=\"code\"><pre>&#x27;sessionid&#x27;</pre></td>\\n        </tr>\\n      \\n        <tr>\\n          <td>SESSION_COOKIE_PATH</td>\\n          <td class=\"code\"><pre>&#x27;/&#x27;</pre></td>\\n        </tr>\\n      \\n        <tr>\\n          <td>SESSION_COOKIE_SAMESITE</td>\\n          <td class=\"code\"><pre>&#x27;Lax&#x27;</pre></td>\\n        </tr>\\n      \\n        <tr>\\n          <td>SESSION_COOKIE_SECURE</td>\\n          <td class=\"code\"><pre>False</pre></td>\\n        </tr>\\n      \\n        <tr>\\n          <td>SESSION_ENGINE</td>\\n          <td class=\"code\"><pre>&#x27;django.contrib.sessions.backends.db&#x27;</pre></td>\\n        </tr>\\n      \\n        <tr>\\n          <td>SESSION_EXPIRE_AT_BROWSER_CLOSE</td>\\n          <td class=\"code\"><pre>False</pre></td>\\n        </tr>\\n      \\n        <tr>\\n          <td>SESSION_FILE_PATH</td>\\n          <td class=\"code\"><pre>None</pre></td>\\n        </tr>\\n      \\n        <tr>\\n          <td>SESSION_SAVE_EVERY_REQUEST</td>\\n          <td class=\"code\"><pre>False</pre></td>\\n        </tr>\\n      \\n        <tr>\\n          <td>SESSION_SERIALIZER</td>\\n          <td class=\"code\"><pre>&#x27;django.contrib.sessions.serializers.JSONSerializer&#x27;</pre></td>\\n        </tr>\\n      \\n        <tr>\\n          <td>SETTINGS_MODULE</td>\\n          <td class=\"code\"><pre>&#x27;core.settings&#x27;</pre></td>\\n        </tr>\\n      \\n        <tr>\\n          <td>SHORT_DATETIME_FORMAT</td>\\n          <td class=\"code\"><pre>&#x27;m/d/Y P&#x27;</pre></td>\\n        </tr>\\n      \\n        <tr>\\n          <td>SHORT_DATE_FORMAT</td>\\n          <td class=\"code\"><pre>&#x27;m/d/Y&#x27;</pre></td>\\n        </tr>\\n      \\n        <tr>\\n          <td>SIGNING_BACKEND</td>\\n          <td class=\"code\"><pre>&#x27;django.core.signing.TimestampSigner&#x27;</pre></td>\\n        </tr>\\n      \\n        <tr>\\n          <td>SILENCED_SYSTEM_CHECKS</td>\\n          <td class=\"code\"><pre>[]</pre></td>\\n        </tr>\\n      \\n        <tr>\\n          <td>STATICFILES_DIRS</td>\\n          <td class=\"code\"><pre>(&#x27;C:\\\\\\\\socialmedialab\\\\\\\\apps/static&#x27;,)</pre></td>\\n        </tr>\\n      \\n        <tr>\\n          <td>STATICFILES_FINDERS</td>\\n          <td class=\"code\"><pre>[&#x27;django.contrib.staticfiles.finders.FileSystemFinder&#x27;,\\n &#x27;django.contrib.staticfiles.finders.AppDirectoriesFinder&#x27;]</pre></td>\\n        </tr>\\n      \\n        <tr>\\n          <td>STATICFILES_STORAGE</td>\\n          <td class=\"code\"><pre>&#x27;django.contrib.staticfiles.storage.StaticFilesStorage&#x27;</pre></td>\\n        </tr>\\n      \\n        <tr>\\n          <td>STATIC_ROOT</td>\\n          <td class=\"code\"><pre>&#x27;C:\\\\\\\\socialmedialab\\\\\\\\staticfiles&#x27;</pre></td>\\n        </tr>\\n      \\n        <tr>\\n          <td>STATIC_URL</td>\\n          <td class=\"code\"><pre>&#x27;/static/&#x27;</pre></td>\\n        </tr>\\n      \\n        <tr>\\n          <td>STORAGES</td>\\n          <td class=\"code\"><pre>{&#x27;default&#x27;: {&#x27;BACKEND&#x27;: &#x27;django.core.files.storage.FileSystemStorage&#x27;},\\n &#x27;staticfiles&#x27;: {&#x27;BACKEND&#x27;: &#x27;django.contrib.staticfiles.storage.StaticFilesStorage&#x27;}}</pre></td>\\n        </tr>\\n      \\n        <tr>\\n          <td>TEMPLATES</td>\\n          <td class=\"code\"><pre>[{&#x27;BACKEND&#x27;: &#x27;django.template.backends.django.DjangoTemplates&#x27;,\\n  &#x27;DIRS&#x27;: [&#x27;C:\\\\\\\\socialmedialab\\\\\\\\apps/templates&#x27;],\\n  &#x27;OPTIONS&#x27;: {&#x27;context_processors&#x27;: [&#x27;django.template.context_processors.debug&#x27;,\\n                                     &#x27;django.template.context_processors.request&#x27;,\\n                                     &#x27;django.contrib.auth.context_processors.auth&#x27;,\\n                                     &#x27;django.contrib.messages.context_processors.messages&#x27;,\\n                                     &#x27;apps.home.context_processors.group_processor&#x27;],\\n              &#x27;loaders&#x27;: [(&#x27;django.template.loaders.cached.Loader&#x27;,\\n                           [&#x27;django.template.loaders.filesystem.Loader&#x27;,\\n                            &#x27;django.template.loaders.app_directories.Loader&#x27;])]}}]</pre></td>\\n        </tr>\\n      \\n        <tr>\\n          <td>TEMPLATE_DIR</td>\\n          <td class=\"code\"><pre>&#x27;C:\\\\\\\\socialmedialab\\\\\\\\apps/templates&#x27;</pre></td>\\n        </tr>\\n      \\n        <tr>\\n          <td>TEST_NON_SERIALIZED_APPS</td>\\n          <td class=\"code\"><pre>[]</pre></td>\\n        </tr>\\n      \\n        <tr>\\n          <td>TEST_RUNNER</td>\\n          <td class=\"code\"><pre>&#x27;django.test.runner.DiscoverRunner&#x27;</pre></td>\\n        </tr>\\n      \\n        <tr>\\n          <td>THOUSAND_SEPARATOR</td>\\n          <td class=\"code\"><pre>&#x27;,&#x27;</pre></td>\\n        </tr>\\n      \\n        <tr>\\n          <td>TIME_FORMAT</td>\\n          <td class=\"code\"><pre>&#x27;P&#x27;</pre></td>\\n        </tr>\\n      \\n        <tr>\\n          <td>TIME_INPUT_FORMATS</td>\\n          <td class=\"code\"><pre>[&#x27;%H:%M:%S&#x27;, &#x27;%H:%M:%S.%f&#x27;, &#x27;%H:%M&#x27;]</pre></td>\\n        </tr>\\n      \\n        <tr>\\n          <td>TIME_ZONE</td>\\n          <td class=\"code\"><pre>&#x27;UTC&#x27;</pre></td>\\n        </tr>\\n      \\n        <tr>\\n          <td>USE_I18N</td>\\n          <td class=\"code\"><pre>True</pre></td>\\n        </tr>\\n      \\n        <tr>\\n          <td>USE_L10N</td>\\n          <td class=\"code\"><pre>True</pre></td>\\n        </tr>\\n      \\n        <tr>\\n          <td>USE_THOUSAND_SEPARATOR</td>\\n          <td class=\"code\"><pre>False</pre></td>\\n        </tr>\\n      \\n        <tr>\\n          <td>USE_TZ</td>\\n          <td class=\"code\"><pre>True</pre></td>\\n        </tr>\\n      \\n        <tr>\\n          <td>USE_X_FORWARDED_HOST</td>\\n          <td class=\"code\"><pre>False</pre></td>\\n        </tr>\\n      \\n        <tr>\\n          <td>USE_X_FORWARDED_PORT</td>\\n          <td class=\"code\"><pre>False</pre></td>\\n        </tr>\\n      \\n        <tr>\\n          <td>WSGI_APPLICATION</td>\\n          <td class=\"code\"><pre>&#x27;core.wsgi.application&#x27;</pre></td>\\n        </tr>\\n      \\n        <tr>\\n          <td>X_FRAME_OPTIONS</td>\\n          <td class=\"code\"><pre>&#x27;DENY&#x27;</pre></td>\\n        </tr>\\n      \\n        <tr>\\n          <td>YEAR_MONTH_FORMAT</td>\\n          <td class=\"code\"><pre>&#x27;F Y&#x27;</pre></td>\\n        </tr>\\n      \\n    </tbody>\\n  </table>\\n\\n</div>\\n\\n  <div id=\"explanation\">\\n    <p>\\n      You\\xe2\\x80\\x99re seeing this error because you have <code>DEBUG = True</code> in your\\n      Django settings file. Change that to <code>False</code>, and Django will\\n      display a standard page generated by the handler for this status code.\\n    </p>\\n  </div>\\n\\n</body>\\n</html>\\n'"
      ]
     },
     "execution_count": 239,
     "metadata": {},
     "output_type": "execute_result"
    }
   ],
   "source": [
    "response.content"
   ]
  },
  {
   "cell_type": "code",
   "execution_count": 40,
   "metadata": {},
   "outputs": [],
   "source": [
    "import datetime\n",
    "import pandas as pd\n",
    "df = pd.DataFrame([[str(datetime.datetime(2022, 11, 25, 2, 39, 16)),\n",
    "'api test',\n",
    "'58520',\n",
    "0,\n",
    "0,\n",
    "'1656306448131915776',\n",
    "'',\n",
    "1,\n",
    "'',\n",
    "2\n",
    "],\n",
    "[str(datetime.datetime(2022, 11, 25, 2, 39, 16)),\n",
    "'test api',\n",
    "'5120',\n",
    "0,\n",
    "0,\n",
    "'1013464688875761665',\n",
    "'',\n",
    "1,\n",
    "'',\n",
    "2\n",
    "]])"
   ]
  },
  {
   "cell_type": "code",
   "execution_count": 25,
   "metadata": {},
   "outputs": [],
   "source": [
    "def insert_multiple_tweets_with_api(list_of_samples):\n",
    "\n",
    "    url = 'http://65.21.173.197/api/insert_multiple_tweets/'\n",
    "    data_to_send = {'list_of_tweets': list_of_samples}\n",
    "    response = requests.post(url, json=data_to_send)\n",
    "    print(response.content)\n",
    "    return response.json()['updated']"
   ]
  },
  {
   "cell_type": "code",
   "execution_count": 18,
   "metadata": {},
   "outputs": [
    {
     "ename": "NameError",
     "evalue": "name 'df' is not defined",
     "output_type": "error",
     "traceback": [
      "\u001b[1;31m---------------------------------------------------------------------------\u001b[0m",
      "\u001b[1;31mNameError\u001b[0m                                 Traceback (most recent call last)",
      "\u001b[1;32m<ipython-input-18-5cadbf46c401>\u001b[0m in \u001b[0;36m<module>\u001b[1;34m\u001b[0m\n\u001b[1;32m----> 1\u001b[1;33m \u001b[0minsert_multiple_tweets_with_api\u001b[0m\u001b[1;33m(\u001b[0m\u001b[0mdf\u001b[0m\u001b[1;33m.\u001b[0m\u001b[0mvalues\u001b[0m\u001b[1;33m.\u001b[0m\u001b[0mtolist\u001b[0m\u001b[1;33m(\u001b[0m\u001b[1;33m)\u001b[0m\u001b[1;33m)\u001b[0m\u001b[1;33m\u001b[0m\u001b[1;33m\u001b[0m\u001b[0m\n\u001b[0m",
      "\u001b[1;31mNameError\u001b[0m: name 'df' is not defined"
     ]
    }
   ],
   "source": [
    "insert_multiple_tweets_with_api(df.values.tolist())"
   ]
  },
  {
   "cell_type": "code",
   "execution_count": 37,
   "metadata": {},
   "outputs": [],
   "source": [
    "tweets = [['2024-04-02T02:26:06.000Z', 'سردار پامنقلی در حالی که ۷ طبقه زیر زمین رفته بود گفت هر وقت بخواهیم #مقابله_به_مثل میکنیم، سپس ۲ طبقه دیگه هم رفت پائین تر. ', '1774986636939710704', '0', '0', '1745599403006853120', 'مقابله_به_مثل', '-1', '1', '', '2'], ['2024-04-02T02:25:56.000Z', 'به ذره گر نظر لطف بوتراب کند\\nبه آسمان رود و کار آفتاب کند\\n#بر_دشمن_امیرالمومنین_لعنت', '1774986594350506121', '0', '0', '1773755674176200704', 'بر_دشمن_امیرالمومنین_لعنت', '-1', '0', '', '2'], ['2024-04-02T02:25:46.000Z', 'این دقیقا حکایت قورباغه و آب جوشه ما داریم همین الانش هم توانمندی هامون رو از دست میدیم . سال هفتاد چند درصد ملت داوطلب جنگ با اسرائیل میشدن امروز چند درصد ؟ دشمن آرام آرام نفوذ کرده هشتگ بی ناموس بودن هر روسری باز شده هر اختلاس یک تیربود. واژه جنگ خیلی وقته معنیش رو از دست داده', '1774986553971933213', '0', '0', '1748705133590974464', '', '-1', '1', '', '2'], ['2024-04-02T02:25:42.000Z', 'اللهم صل علی محمد و آل محمد و عجل فرجهم', '1774986533952528483', '0', '0', '1725460137333116928', '', '-1', '0', '', '2'], ['2024-04-02T02:25:24.000Z', 'چرا بابا جان، لیکوره. ویسکی فقط از ترکیب غلات و مخمر تهیه می\\u200cشه. لیکور رسماً از همه چی.  یگرمایستر با ترکیبی از سبزی\\u200cهای معطر، شکر، الکل و آب به دست میاد و هیچ جور نمی\\u200cشه روش اسم ویسکی گذاشت.', '1774986459390288253', '0', '0', '1770400377214529536', '', '-1', '1', '', '2']]"
   ]
  },
  {
   "cell_type": "code",
   "execution_count": 46,
   "metadata": {},
   "outputs": [
    {
     "name": "stdout",
     "output_type": "stream",
     "text": [
      "b'{\"updated\":0}'\n"
     ]
    },
    {
     "data": {
      "text/plain": [
       "0"
      ]
     },
     "execution_count": 46,
     "metadata": {},
     "output_type": "execute_result"
    }
   ],
   "source": [
    "import requests\n",
    "import json\n",
    "import pprint\n",
    "insert_multiple_tweets_with_api(tweets)"
   ]
  },
  {
   "cell_type": "code",
   "execution_count": 28,
   "metadata": {
    "collapsed": true,
    "jupyter": {
     "outputs_hidden": true
    }
   },
   "outputs": [
    {
     "data": {
      "text/plain": [
       "['2024-04-02T02:26:06.000Z',\n",
       " 'سردار پامنقلی در حالی که ۷ طبقه زیر زمین رفته بود گفت هر وقت بخواهیم #مقابله_به_مثل میکنیم، سپس ۲ طبقه دیگه هم رفت پائین تر. ',\n",
       " '1774986636939710704',\n",
       " '0',\n",
       " '0',\n",
       " '1745599403006853120',\n",
       " 'مقابله_به_مثل',\n",
       " '-1',\n",
       " '1',\n",
       " '',\n",
       " '2']"
      ]
     },
     "execution_count": 28,
     "metadata": {},
     "output_type": "execute_result"
    }
   ],
   "source": [
    "tweets[0]"
   ]
  },
  {
   "cell_type": "code",
   "execution_count": 95,
   "metadata": {},
   "outputs": [],
   "source": [
    "def insert_telegram_post_to_db_with_api(record):\n",
    "\n",
    "    url = 'http://65.21.173.197/api/insert_telegram_post/'\n",
    "    data_to_send = {'record': record}\n",
    "    response = requests.post(url, json=data_to_send)\n",
    "    with open('res.html', 'w+') as file:\n",
    "        file.write(str(res))\n",
    "    return response.json()['updated']"
   ]
  },
  {
   "cell_type": "code",
   "execution_count": 96,
   "metadata": {},
   "outputs": [],
   "source": [
    "record = ('2024-04-02 04:42:00+00:00', 'ایرنا:اثرات مخرب رژیم\\u200cهای کم کربوهیدارت بر بدن ورزشکاران حرفه\\u200cای \\n تهران- ایرنا- مهنوش صارمی متخصص فیزیولوژی ورزشی با اشاره به تمایل رایج در جامعه برای به حداقل رساندن بافت چربی به\\u200cخصوص در ناحیه شکم گفت: متاسفانه رژیم\\u200cهای کم کربوهیدرات تاثیرات بدی بر عملکرد بدن ورزشکاران اعم از حرفه\\u200cای و غیرحرفه\\u200cای خواهد داشت. \\n ✍ @UpdataNews', 170066, 1, 0, 1942010435, '', -1, '_', '', 1, '')\n",
    "res = insert_telegram_post_to_db_with_api(record)"
   ]
  },
  {
   "cell_type": "code",
   "execution_count": 3,
   "metadata": {},
   "outputs": [],
   "source": [
    "def news_without_ents_with_api():\n",
    "    url = 'http://65.21.173.197/api/news_without_ents/'\n",
    "    response = requests.get(url)\n",
    "    with open('res.html', 'w+') as file:\n",
    "        file.write(str(response.content))\n",
    "    return response.json()['records']"
   ]
  },
  {
   "cell_type": "code",
   "execution_count": 5,
   "metadata": {},
   "outputs": [],
   "source": [
    "def extract_ents_and_update_with_api(recs, med):\n",
    "    url = 'http://65.21.173.197/api/extract_ents_and_update/'\n",
    "    data_to_send = {'recs': recs, 'med': med}\n",
    "    response = requests.post(url, json=data_to_send)\n",
    "    with open('res.html', 'w+') as file:\n",
    "        file.write(str(response.content))\n",
    "    return response.json()['ents_updated']"
   ]
  },
  {
   "cell_type": "code",
   "execution_count": 48,
   "metadata": {},
   "outputs": [],
   "source": [
    "def daily_first_page_links():   \n",
    "    while True:\n",
    "        try:\n",
    "            print('get daily page link...')\n",
    "            today_link = f'https://www.icana.ir/Rss1/'\n",
    "            soup = BeautifulSoup(requests.get(today_link, verify = False).text, 'lxml')\n",
    "            #print('oup ... ========\\n',soup)\n",
    "            break\n",
    "        except:\n",
    "            print('nothing to get ... try again ...')\n",
    "            print(f'I am sleeping as {today_link} is not reachable right now.')\n",
    "            time.sleep(35*50)\n",
    "    ids = [x.find('guid').text for x in soup.findAll('item')]\n",
    "    ids = [x.find('guid').text for x in soup.findAll('item')]\n",
    "    return ids"
   ]
  },
  {
   "cell_type": "code",
   "execution_count": 67,
   "metadata": {},
   "outputs": [],
   "source": [
    "from datetime import datetime\n",
    "\n",
    "def to_datetime(time_string):\n",
    "    #time_string = \"Thu, 02 May 2024 11:44:00 GMT\"\n",
    "    # Convert string to datetime object\n",
    "    # The format '%a, %d %b %Y %H:%M:%S GMT' corresponds to the given time string format\n",
    "    datetime_object = datetime.strptime(time_string, '%a, %d %b %Y %H:%M:%S GMT')\n",
    "    return datetime_object"
   ]
  },
  {
   "cell_type": "code",
   "execution_count": 80,
   "metadata": {
    "collapsed": true,
    "jupyter": {
     "outputs_hidden": true
    }
   },
   "outputs": [
    {
     "name": "stderr",
     "output_type": "stream",
     "text": [
      "C:\\Users\\ali\\Anaconda3\\lib\\site-packages\\urllib3\\connectionpool.py:1068: InsecureRequestWarning: Unverified HTTPS request is being made to host 'www.icana.ir'. Adding certificate verification is strongly advised. See: https://urllib3.readthedocs.io/en/1.26.x/advanced-usage.html#ssl-warnings\n",
      "  InsecureRequestWarning,\n"
     ]
    },
    {
     "ename": "NameError",
     "evalue": "name 'agency' is not defined",
     "output_type": "error",
     "traceback": [
      "\u001b[1;31m---------------------------------------------------------------------------\u001b[0m",
      "\u001b[1;31mNameError\u001b[0m                                 Traceback (most recent call last)",
      "\u001b[1;32m<ipython-input-80-68cf1c9c60ea>\u001b[0m in \u001b[0;36m<module>\u001b[1;34m\u001b[0m\n\u001b[0;32m     10\u001b[0m     \u001b[0mtags\u001b[0m \u001b[1;33m=\u001b[0m \u001b[0mitem\u001b[0m\u001b[1;33m.\u001b[0m\u001b[0mfind\u001b[0m\u001b[1;33m(\u001b[0m\u001b[1;34m'keywords'\u001b[0m\u001b[1;33m)\u001b[0m\u001b[1;33m.\u001b[0m\u001b[0mtext\u001b[0m\u001b[1;33m\u001b[0m\u001b[1;33m\u001b[0m\u001b[0m\n\u001b[0;32m     11\u001b[0m     \u001b[0mimg_url\u001b[0m \u001b[1;33m=\u001b[0m \u001b[0mitem\u001b[0m\u001b[1;33m.\u001b[0m\u001b[0mfind\u001b[0m\u001b[1;33m(\u001b[0m\u001b[1;34m'enclosure'\u001b[0m\u001b[1;33m)\u001b[0m\u001b[1;33m[\u001b[0m\u001b[1;34m'url'\u001b[0m\u001b[1;33m]\u001b[0m\u001b[1;33m\u001b[0m\u001b[1;33m\u001b[0m\u001b[0m\n\u001b[1;32m---> 12\u001b[1;33m     out.append({'agency': agency, 'head': head, 'description': description, \n\u001b[0m\u001b[0;32m     13\u001b[0m             'body': None, 'c1': c1, 'c2': '', 'created_at': str(created_at), 'tags': tags, 'sentiment': 4, 'entities': '', 'link': page_link, 'img': img_url})\n",
      "\u001b[1;31mNameError\u001b[0m: name 'agency' is not defined"
     ]
    }
   ],
   "source": [
    "agency = 'مجلس'\n",
    "today_link = f'https://www.icana.ir/Rss1/'\n",
    "soup = BeautifulSoup(requests.get(today_link, verify = False).text, 'lxml')\n",
    "out = []\n",
    "for item in soup.findAll('item'):\n",
    "    page_link = item.find('guid').text\n",
    "    head = item.find('title').text\n",
    "    description = item.find('description').text\n",
    "    created_at = to_datetime(item.find('pubdate').text)\n",
    "    c1 = item.find('category').text\n",
    "    tags = item.find('keywords').text\n",
    "    img_url = item.find('enclosure')['url']\n",
    "    body = full_text_provider(link)\n",
    "    out.append({'agency': agency, 'head': head, 'description': description, \n",
    "            'body': body, 'c1': c1, 'c2': '', 'created_at': str(created_at), 'tags': tags, 'sentiment': 4, 'entities': '', 'link': page_link, 'img': img_url})"
   ]
  },
  {
   "cell_type": "code",
   "execution_count": 89,
   "metadata": {},
   "outputs": [],
   "source": [
    "def full_text_provider(link):\n",
    "    #link = 'https://icana.ir/%D8%AE%D8%A8%D8%B1/%D9%85%D8%AE%D8%A7%D9%84%D9%81%D8%AA-%D9%85%D8%AC%D9%85%D8%B9-%D9%86%D9%85%D8%A7%DB%8C%D9%86%D8%AF%DA%AF%D8%A7%D9%86-%D8%A7%D8%B3%D8%AA%D8%A7%D9%86-%D8%AA%D9%87%D8%B1%D8%A7%D9%86-%D8%A8%D8%A7-%D8%AA%D9%82%D8%B3%DB%8C%D9%85-%D8%B4%D9%87%D8%B1%D8%B1%DB%8C-%D8%A8%D9%87-2-%D8%A8%D8%AE%D8%B4-%D8%AF%D8%B1-%D8%AC%D8%B1%DB%8C%D8%A7%D9%86-%D8%AA%D9%81%DA%A9%DB%8C%DA%A9-%D8%A7%D8%B3%D8%AA%D8%A7%D9%86-%D8%AA%D9%87%D8%B1%D8%A7%D9%86%E2%81%84-%D9%BE%DB%8C%DA%AF%DB%8C%D8%B1%DB%8C-%D8%B1%D9%87%D8%A7%D8%B4%D8%AF%DA%AF%DB%8C-%D9%86%D8%B1%D8%AE-%D9%86%D8%A7%D9%86-%D8%A7%D8%B2-%D8%A7%D8%B3%D8%AA%D8%A7%D9%86%D8%AF%D8%A7%D8%B1%DB%8C-%D8%AA%D9%87%D8%B1%D8%A7%D9%86'\n",
    "    soup = BeautifulSoup(requests.get(link, verify = False).text)\n",
    "    body = soup.find(attrs={'class': 'news-content'}).text\n",
    "    return body.strip('\\n')"
   ]
  },
  {
   "cell_type": "code",
   "execution_count": 90,
   "metadata": {},
   "outputs": [
    {
     "name": "stderr",
     "output_type": "stream",
     "text": [
      "C:\\Users\\ali\\Anaconda3\\lib\\site-packages\\urllib3\\connectionpool.py:1068: InsecureRequestWarning: Unverified HTTPS request is being made to host 'icana.ir'. Adding certificate verification is strongly advised. See: https://urllib3.readthedocs.io/en/1.26.x/advanced-usage.html#ssl-warnings\n",
      "  InsecureRequestWarning,\n"
     ]
    },
    {
     "data": {
      "text/plain": [
       "'علی خضریان در گفت و گو با خبرنگار خبرگزاری خانه ملت، در تشریح نظارت میدانی خود به همراه سیدمحمود نبویان و سیدعلی یزدی خواه دیگر نمایندگان تهران و همچنین شهردار منطقه ۲۰ و مسئولان فرمانداری شهرستان ری که از محله فیروزآبادی شهرری صورت گرفت، گفت: بعد از بازدید میدانی از این محله و محلات مجاور آن، نشستی با حضور اقشار مختلف مردم جهت رسیدگی به موضوعات و درخواست\\u200cهای مردمی در حسینیه دامغانی\\u200cها برگزار شد.\\nنماینده مردم تهران، ری، شمیرانات، اسلامشهر و پردیس در مجلس شورای اسلامی ادامه داد: یکی از اصلی\\u200cترین دغدغه\\u200cها و نگرانی\\u200cهای مردم شهرستان ری که به شیوه\\u200cهای مختلف نسبت به انعکاس آن به مجمع نمایندگان استان تهران اقدام کرده\\u200cاند، موضوع تقسیم شهرری در جریان تفکیک استان تهران است.\\nوی در ادامه این تصمیم را برخلاف حفظ هویت تاریخی شهرری دانست و افزود: مجمع نمایندگان استان تهران نیز مخالفت خود را نسبت به این تصمیم ابراز داشته و معتقد است این موضوع آسیب جدی به هویت این منطقه به عنوان قبله تهران خواهد زد.\\nخضریان در ادامه تصریح کرد: با توجه به اهمیت موضوع بهداشت و سلامت مردم در شهرستان ری، بررسی ارتقای شاخص\\u200cهای سلامت در دستور کار این نظارت میدانی قرار گرفت که بر مبنای آن، وضعیت بیمارستان\\u200cهای فیروزآبادی و شهدای هفتم تیر شهرری مورد ارزیابی قرار گرفتند؛ خوشبختانه بخش\\u200cهای توسعه\\u200cای بیمارستان فیروزآبادی در حال احداث است و مقرر شد مجمع نمایندگان استان تهران نیز در زمینه تأمین بودجه توسعه این بیمارستان از طریق دستگاه\\u200cهای اجرایی اقدام کند.\\nسخنگوی مجمع نمایندگان استان تهران اضافه کرد: همچنین طرح توسعه بیمارستان شهدای هفتم تیر در زمین همجوار بیمارستان فعلی نیز مصوب شده که پیگیری تسریع آغاز عملیات اجرای این پروژه در دستور کار مجمع نمایندگان استان تهران قرار خواهد گرفت.\\n\\nوی همچنین تصریح کرد: ساخت بیمارستان قلب شماره ۲ شهید رجایی در شهرستان ری و بیمارستان الهام واقع در کهریزک، پیگیری احداث بیمارستانی در جوار حرم حضرت عبدالعظیم(ع) از سوی تولیت آستان این حرم مطهر مورد پیگیری مجمع نمایندگان استان تهران است. همچنین بیمارستان ۵۰۲ تختخوابی روانپزشکی در امین آباد با رفع موانع و پیگیری\\u200cهای مجمع نمایندگان استان تهران جهت تجهیز در سال جاری به بهره برداری می\\u200cرسد.\\nخضریان با اشاره به یکی از ایرادات محیطی منطقه ۲۰ تهران به لحاظ تأمین روشنایی معابر و بوستان\\u200cها که باعث شده است این منطقه یکی از مناطق خاموش تهران باشد، گفت: بر اساس گزارش شهردار این منطقه، ظرف ۶ ماه گذشته ۶۰۰ پایه چراغ و برج نوری در این منطقه نصب شده که با توجه به عدم رفع نیاز این منطقه مقرر شد ظرف ۶ ماه آینده نیز ۶۰۰ پایه چراغ و برج نوری دیگر نصب شده و معابر و بوستان های منطقه ۲۰ تهران به لحاظ روشنایی به استاندارد برسد.\\nاین نماینده مردم در مجلس یازدهم همچنین به وضعیت نامناسب معابر منطقه ۲۰ شهرداری تهران به لحاظ آسفالت اشاره و بیان کرد: بر همین اساس مقرر شد در سال جاری ۱۰۵ هزار تن آسفالت ریزی در این منطقه صورت گیرد و معابر آن اصلاح شود که گزارش این موضوع به صورت فصلی در اختیار مجمع نمایندگان استان تهران قرار می\\u200cگیرد.\\nوی افزود: موضوع نوسازی مخازن زباله، جمع آوری زباله\\u200cها و نظافت محله\\u200cها از دیگر موضوعات مطرح شده در این بازدید نظارتی بود که به همت شهرداری، ۷۰۰ مخزن نوسازی شده در این منطقه مستقر می\\u200cشود. موضوع جمع آوری انهار و اتصال اماکن، منازل و ساختمان\\u200cهای اداری و تجاری در نیمه نخست سال جاری به سیستم اگوی فاضلاب شهری نیز در دستور کار قرار می\\u200cگیرد.\\nخضریان ادامه داد: با توجه به گلایه\\u200cهای مردم نسبت به بافت قدیمی و مخروبه شدن بخشی از دیوارهای اطراف امام\\u200cزاده عبدالله(ع) شهرری مقرر شد این موضوع طی قراردادی با برآورد اولیه ۱۵ میلیارد تومانی برای دیوارکشی، نورپردازی و کاشی کاری اسلامی در دستور کار شهرداری منطقه ۲۰ تهران قرار گیرد و در سال جاری به بهره برداری برسد.\\nسخنگوی مجمع نمایندگان استان تهران یکی دیگر از مطالبات مردمی را موضوع توسعه خط مترو، تسریع در پایان احداث خط ۶ متروی تهران در شهرری دانست و عنوان کرد: بر اساس قول مساعد مسئولان شهرداری تهران، ایستگاه واقع در منطقه فدائیان اسلام و ایستگاه ضلع شرقی حرم باید تا پایان سال جاری به اتمام برسد که این موضوع تا به سرانجام رسیدن از سوی نمایندگان مردم در مجلس پیگیری خواهد شد.\\nوی همچنین با اشاره به موضوع افزایش امنیت منطقه شهرری که از مطالبات عموم مردم بود، بیان داشت: مقرر شد دو کلانتری در منطقه قلعه گبری شهرری و کهریزک به سرانه کلانتری\\u200cهای شهرستان ری افزوده شود و تا پایان سال جاری افتتاح شوند. همچنین تجهیز و ارتقای کلانتری فشافویه که در سال گذشته با پیگیری\\u200cهای مجمع نمایندگان استان تهران در تأمین بودجه ساخت افتتاح شد نیز در دستور کار قرار خواهد گرفت.\\nخضریان یکی دیگر از مطالبات به حق مردمی در شهرستان ری را مسأله ساماندهی اتباع غیرمجاز از سوی فرمانداری شهرستان ری عنوان کرد و افزود: مقرر شد این موضوع در اسرع وقت از سوی فرمانداری مورد برنامه ریزی قرار گیرد و با هماهنگی سازمان ملی مهاجرت، اقدامات لازم با زمان بندی مشخص تحت نظر مجمع نمایندگان استان تهران انجام شود.\\n\\n\\nاین نماینده مردم در مجلس یازدهم در ادامه با تأکید بر ضرورت ایجاد زیرساخت های گردشگری منطقه ۲۰ تهران به ویژه در حوالی حرم مطهر حضرت عبدالعظیم حسنی(ع) جهت حفظ کرامت و تأمین نیازهای زائران این بقعه متبرکه، گفت: در این نشست قرار شد احداث زائرسرایی از سوی تولیت آستان در جوار این حرم مطهر در دستور کار قرار گیرد و فرمانداری ری نیز زمینه مطالعات لازم برای ساخت ۲ هتل با سرمایه گذاری خصوصی را در این شهرستان فراهم کند.\\nوی افزود: موضوع دیگری که در این منطقه همچون برخی مناطق دیگر تهران مورد اعتراض مردم واقع شده است، موضوع شرایط بی نظمی است که در نرخ گذاری نان وجود دارد به طوری که بر اساس ادعای نانوایان و مستندات موجود، تعیین نرخ نان از سال ۱۴۰۰ به بعد صورت نگرفته و تقریباً این نرخ گذاری به صورت سلیقه\\u200cای انجام می\\u200cشود که به صنف مذکور فشار وارد می\\u200cکند و در ادامه منجر به اعتراضات مردمی می\\u200cشود.\\nخضریان همچنین با انتقاد از رهاشدگی نرخ نان از سوی دولت که باعث ایجاد تعارضاتی میان نانوایان و مردم شده است، ادامه داد: از سوی دیگر عرضه آرد با ۴ نرخ متفاوت ۶۰۰، ۸۰۰، ۱۲ هزار و ۱۷ هزار و ۵۰۰ تومانی صورت می\\u200cگیرد که مشخص نیست قیمت نان بر اساس کدام نرخ آرد تعیین شده و همین موضوع تنازعات میان نانوایان و مردم را افزایش داده است.\\nسخنگوی مجمع نمایندگان استان تهران در پایان خاطرنشان کرد: مقرر شد فرماندار شهرری جلسه تخصصی با اتحادیه صنف نانوایان این شهرستان ظرف ۱۰ روز آینده برگزار کرده و ضمن ارائه گزارش مسائل و مشکلات آنها به مجمع نمایندگان استان تهران، این موضوع را از متولیان امر در استانداری تهران پیگیری کند.\\n\\n\\n\\xa0\\nپایان پیام'"
      ]
     },
     "execution_count": 90,
     "metadata": {},
     "output_type": "execute_result"
    }
   ],
   "source": [
    "link = 'https://icana.ir/%D8%AE%D8%A8%D8%B1/%D9%85%D8%AE%D8%A7%D9%84%D9%81%D8%AA-%D9%85%D8%AC%D9%85%D8%B9-%D9%86%D9%85%D8%A7%DB%8C%D9%86%D8%AF%DA%AF%D8%A7%D9%86-%D8%A7%D8%B3%D8%AA%D8%A7%D9%86-%D8%AA%D9%87%D8%B1%D8%A7%D9%86-%D8%A8%D8%A7-%D8%AA%D9%82%D8%B3%DB%8C%D9%85-%D8%B4%D9%87%D8%B1%D8%B1%DB%8C-%D8%A8%D9%87-2-%D8%A8%D8%AE%D8%B4-%D8%AF%D8%B1-%D8%AC%D8%B1%DB%8C%D8%A7%D9%86-%D8%AA%D9%81%DA%A9%DB%8C%DA%A9-%D8%A7%D8%B3%D8%AA%D8%A7%D9%86-%D8%AA%D9%87%D8%B1%D8%A7%D9%86%E2%81%84-%D9%BE%DB%8C%DA%AF%DB%8C%D8%B1%DB%8C-%D8%B1%D9%87%D8%A7%D8%B4%D8%AF%DA%AF%DB%8C-%D9%86%D8%B1%D8%AE-%D9%86%D8%A7%D9%86-%D8%A7%D8%B2-%D8%A7%D8%B3%D8%AA%D8%A7%D9%86%D8%AF%D8%A7%D8%B1%DB%8C-%D8%AA%D9%87%D8%B1%D8%A7%D9%86'\n",
    "full_text_provider(link)"
   ]
  },
  {
   "cell_type": "code",
   "execution_count": 152,
   "metadata": {},
   "outputs": [],
   "source": [
    "def update_sentiments_and_topics_with_api(update_query, recs):\n",
    "    url = 'http://65.21.173.197/api/update_sentiments_and_topics/'\n",
    "    data_to_send = {'update_query': update_query, 'recs': recs}\n",
    "    response = requests.post(url, json=data_to_send)\n",
    "    with open('res.html', 'w+') as file:\n",
    "        file.write(str(response.content))\n",
    "    return response.json()['records']"
   ]
  },
  {
   "cell_type": "code",
   "execution_count": 164,
   "metadata": {},
   "outputs": [
    {
     "data": {
      "text/plain": [
       "10"
      ]
     },
     "execution_count": 164,
     "metadata": {},
     "output_type": "execute_result"
    }
   ],
   "source": [
    "recs = [('1775372395366289836', 0.0, 'سیاسی'), ('1775372384544936353', 1.0, 'بدون تاپیک'), ('1775372327871529422', 0.0, 'بدون تاپیک'), ('1775372298079355235', 1.0, 'مذهبی'), ('1775372470125490387', 0.0, 'سیاسی'), ('1775372452895281188', 2.0, 'سیاسی'), ('1775372626136838294', 0.0, 'سیاسی'), ('1775372943855665350', 0.0, 'سیاسی'), ('1775372825832161328', 2.0, 'تغذیه و خوراکی'), ('1775373359217271065', 1.0, 'بدون تاپیک')]\n",
    "update_sentiments_and_topics_with_api('twitter_update_query', recs)"
   ]
  },
  {
   "cell_type": "raw",
   "metadata": {},
   "source": [
    "import pandas as pd\n",
    "\n",
    "# Create a sample DataFrame\n",
    "df = pd.DataFrame({\n",
    "    \"column1\": [1, 2, 3],\n",
    "    \"column2\": [\"A\", \"B\", \"C\"]\n",
    "})\n",
    "\n",
    "# Convert the DataFrame to a JSON string\n",
    "json_str = df.to_json()\n",
    "\n",
    "pd.read_json(json_str)"
   ]
  },
  {
   "cell_type": "code",
   "execution_count": 168,
   "metadata": {},
   "outputs": [],
   "source": [
    "def insert_to_sport_table_with_api(med, list_of_records):\n",
    "    url = 'http://65.21.173.197/api/insert_to_sport_table/'\n",
    "    data_to_send = {'med': med, 'list_of_records': list_of_records}\n",
    "    response = requests.post(url, json=data_to_send)\n",
    "    with open('res.html', 'w+') as file:\n",
    "        file.write(str(response.content))\n",
    "    return response.json()['records']"
   ]
  },
  {
   "cell_type": "code",
   "execution_count": 172,
   "metadata": {},
   "outputs": [
    {
     "data": {
      "text/plain": [
       "0"
      ]
     },
     "execution_count": 172,
     "metadata": {},
     "output_type": "execute_result"
    }
   ],
   "source": [
    "recs =  [['reel/C5QRHn9Ie9R/', '-'], ['reel/C5OM-m1ssoq/', '-'], ['p/C5SZ6pctIDS/', '-'], ['reel/C5SXFnAivJZ/', '-'], ['reel/C5RTnGiKsP7/', '-'], ['reel/C5O_9-5NW4A/', '-'], ['reel/C5Rd7d9IBhu/', '-'], ['p/C5RBCzCol_D/', '-'], ['reel/C5RLuUKxEqi/', '-'], ['p/C5RVkasIEhZ/', '-']]\n",
    "insert_to_sport_table_with_api('instagram', recs)"
   ]
  },
  {
   "cell_type": "code",
   "execution_count": 162,
   "metadata": {},
   "outputs": [],
   "source": [
    "def extract_ents_and_update_with_api(recs):\n",
    "    url = 'http://65.21.173.197/api/extract_ents_and_update/'\n",
    "    data_to_send = {'recs': recs}\n",
    "    response = requests.post(url, json=data_to_send)\n",
    "    with open('res.html', 'w+') as file:\n",
    "        file.write(str(response.content))\n",
    "    return response.json()['ents_updated']"
   ]
  },
  {
   "cell_type": "code",
   "execution_count": 163,
   "metadata": {},
   "outputs": [
    {
     "data": {
      "text/plain": [
       "'Done!'"
      ]
     },
     "execution_count": 163,
     "metadata": {},
     "output_type": "execute_result"
    }
   ],
   "source": [
    "recs = [[3760602, ''], [3760603, ''], [3760601, 'ایرنا:انتقام یووه از لاتزیو در جام حذفی/ بانوی پیر نصف راه صعود به فینال را رفت \\n تهران- ایرنا- یوونتوس در بازی رفت مرحله نیمه\\u200cنهایی جام حذفی ایتالیا برابر لاتزیو به برتری رسید تا علاوه بر گرفتن انتقام شکست در سری\\u200cآ، نیمی از راه صعود به فینال را هم طی کند. \\n ✍ @UpdataNews'], [3760586, 'آمریکا مسئول تمام اقدامات اسرائیل است\\n\\nنماینده ایران در شورای امنیت:\\n🔹این یک اقدام تروریستی است که رژیم صهیونیستی که با نقض مشنور بین الملل سازمان ملل متحد و همچنین نقض حاکمیت ارضی سوریه صورت گرفته است.\\n\\n🔹اقدام رژیم صهیونیستی در حمله به ساختمان سفارت ایران، سبب شد تا بسیاری از افراد در زیر آوار محبوس شوند.\\n@TasnimNews'], [3760585, '🗞 صفحه اول روزنا مه\\u200cها را اینجا مشاهده کنید\\n👉 @NewspaperTasnim'], [3760584, '🗓#تقویم\\n \\n🔹امروز چهارشنبه ۱۵ فروردین ۱۴۰۳\\n@Tasni mNews'], [3760577, '🗓 #تقویم| چهارشنبه ۱۵ فروردین ۱۴۰۳\\n\\n@Farsna'], [3760583, 'روسیه: غربی\\u200cها نه\\u200cتنها اسرایی ل را محکوم نکردند بلکه ایران را متهم می\\u200cکنند\\n\\nنماینده روسیه در شورای امنیت خطاب به نماینده فرانسه: \\n🔹شما هیچ کلمه\\u200cای در محکوم\\u200cکردن نقض قوانین بین\\u200cالمللی توسط اسرائیل نگفتید، اگر کنسولگری خودتان هدف قرار می\\u200cگرفت هم واکنش\\u200cتان همین بود؟\\n\\n🔹آمریکا همیشه به اطلاعات دست اولش افتخار می\\u200cکند اما در خصوص حمله به کنسولگری ایران اطلاعاتی به\\u200cدست نیاورده و این باورکردنی نیست. \\n\\n🔹غربی\\u200cها نه\\u200cتنها حملۀ اسراییل را محکوم نکردند بلکه ایران را متهم هم می\\u200cکنند. نمی\\u200cشود به قربانیان بگویید اگر به آن\\u200cها حمله شد، واکنشی نشان ندهند.\\n@TasnimNews'], [3760574, 'زندگى به معناى پيدا كردن خود نيست ...\\nبه معناى ساختن خود است!\\n\\n@BestEnglishSMS'], [3760573, '']]\n",
    "extract_ents_and_update_with_api(recs)"
   ]
  },
  {
   "cell_type": "code",
   "execution_count": 155,
   "metadata": {},
   "outputs": [
    {
     "data": {
      "text/plain": [
       "1"
      ]
     },
     "execution_count": 155,
     "metadata": {},
     "output_type": "execute_result"
    }
   ],
   "source": [
    "list_of_records = [[3760576, '-']]\n",
    "insert_to_sport_table_with_api('telegram', list_of_records)"
   ]
  },
  {
   "cell_type": "code",
   "execution_count": 80,
   "metadata": {},
   "outputs": [],
   "source": [
    "def get_list_of_telegram_chans_and_groups_with_api():\n",
    "\n",
    "    url = 'http://65.21.173.197/api/get_list_of_telegram_chans_and_groups/'\n",
    "    response = requests.get(url)\n",
    "    return response.json()['chans_groups']"
   ]
  },
  {
   "cell_type": "code",
   "execution_count": 84,
   "metadata": {},
   "outputs": [],
   "source": [
    "from datetime import datetime\n",
    "\n",
    "def to_datetime(date_string):\n",
    "    #date_string = '2024-04-02 04:42:00+00:00'\n",
    "\n",
    "    # Define the format of your input string\n",
    "    format_string = '%Y-%m-%d %H:%M:%S%z'\n",
    "\n",
    "    # Convert the string to a datetime object\n",
    "    datetime_object = datetime.strptime(date_string, format_string)\n",
    "\n",
    "    return datetime_object"
   ]
  },
  {
   "cell_type": "code",
   "execution_count": 85,
   "metadata": {},
   "outputs": [
    {
     "data": {
      "text/plain": [
       "datetime.datetime(2024, 4, 2, 4, 42, tzinfo=datetime.timezone.utc)"
      ]
     },
     "execution_count": 85,
     "metadata": {},
     "output_type": "execute_result"
    }
   ],
   "source": [
    "to_datetime('2024-04-02 04:42:00+00:00')"
   ]
  },
  {
   "cell_type": "code",
   "execution_count": 214,
   "metadata": {},
   "outputs": [],
   "source": [
    "recs = [['t', 'tio', 458696, '2023-02-09 06:00:08-08', 'jjhjklj']]\n",
    "def insert_telegram_chans_and_groups_with_api(recs):\n",
    "    url = 'http://65.21.173.197/api/insert_telegram_chans_and_groups/'\n",
    "    data_to_send = {'recs': recs}\n",
    "    response = requests.post(url, json=data_to_send)\n",
    "    with open('res.html', 'w+') as file:\n",
    "        file.write(str(response.content))\n",
    "    return response.json()['inserted']"
   ]
  },
  {
   "cell_type": "code",
   "execution_count": 222,
   "metadata": {},
   "outputs": [
    {
     "data": {
      "text/plain": [
       "[[1, 2], [5, 6]]"
      ]
     },
     "execution_count": 222,
     "metadata": {},
     "output_type": "execute_result"
    }
   ],
   "source": [
    "pd.DataFrame([[1,2], [5,6]]).values.tolist()"
   ]
  },
  {
   "cell_type": "code",
   "execution_count": 204,
   "metadata": {},
   "outputs": [],
   "source": [
    "def insert_to_sport_table_with_api(med, list_of_records):\n",
    "    url = 'http://65.21.173.197/api/insert_to_sport_table/'\n",
    "    data_to_send = {'med': med, 'list_of_records': list_of_records}\n",
    "    response = requests.post(url, json=data_to_send)\n",
    "    with open('res.html', 'w+') as file:\n",
    "        file.write(str(response.content))\n",
    "    return response.json()['records']"
   ]
  },
  {
   "cell_type": "code",
   "execution_count": 205,
   "metadata": {},
   "outputs": [
    {
     "ename": "JSONDecodeError",
     "evalue": "Expecting value: line 1 column 1 (char 0)",
     "output_type": "error",
     "traceback": [
      "\u001b[1;31m---------------------------------------------------------------------------\u001b[0m",
      "\u001b[1;31mJSONDecodeError\u001b[0m                           Traceback (most recent call last)",
      "\u001b[1;32m~\\Anaconda3\\lib\\site-packages\\requests\\models.py\u001b[0m in \u001b[0;36mjson\u001b[1;34m(self, **kwargs)\u001b[0m\n\u001b[0;32m    970\u001b[0m         \u001b[1;32mtry\u001b[0m\u001b[1;33m:\u001b[0m\u001b[1;33m\u001b[0m\u001b[1;33m\u001b[0m\u001b[0m\n\u001b[1;32m--> 971\u001b[1;33m             \u001b[1;32mreturn\u001b[0m \u001b[0mcomplexjson\u001b[0m\u001b[1;33m.\u001b[0m\u001b[0mloads\u001b[0m\u001b[1;33m(\u001b[0m\u001b[0mself\u001b[0m\u001b[1;33m.\u001b[0m\u001b[0mtext\u001b[0m\u001b[1;33m,\u001b[0m \u001b[1;33m**\u001b[0m\u001b[0mkwargs\u001b[0m\u001b[1;33m)\u001b[0m\u001b[1;33m\u001b[0m\u001b[1;33m\u001b[0m\u001b[0m\n\u001b[0m\u001b[0;32m    972\u001b[0m         \u001b[1;32mexcept\u001b[0m \u001b[0mJSONDecodeError\u001b[0m \u001b[1;32mas\u001b[0m \u001b[0me\u001b[0m\u001b[1;33m:\u001b[0m\u001b[1;33m\u001b[0m\u001b[1;33m\u001b[0m\u001b[0m\n",
      "\u001b[1;32m~\\Anaconda3\\lib\\site-packages\\simplejson\\__init__.py\u001b[0m in \u001b[0;36mloads\u001b[1;34m(s, encoding, cls, object_hook, parse_float, parse_int, parse_constant, object_pairs_hook, use_decimal, allow_nan, **kw)\u001b[0m\n\u001b[0;32m    513\u001b[0m             and not use_decimal and not allow_nan and not kw):\n\u001b[1;32m--> 514\u001b[1;33m         \u001b[1;32mreturn\u001b[0m \u001b[0m_default_decoder\u001b[0m\u001b[1;33m.\u001b[0m\u001b[0mdecode\u001b[0m\u001b[1;33m(\u001b[0m\u001b[0ms\u001b[0m\u001b[1;33m)\u001b[0m\u001b[1;33m\u001b[0m\u001b[1;33m\u001b[0m\u001b[0m\n\u001b[0m\u001b[0;32m    515\u001b[0m     \u001b[1;32mif\u001b[0m \u001b[0mcls\u001b[0m \u001b[1;32mis\u001b[0m \u001b[1;32mNone\u001b[0m\u001b[1;33m:\u001b[0m\u001b[1;33m\u001b[0m\u001b[1;33m\u001b[0m\u001b[0m\n",
      "\u001b[1;32m~\\Anaconda3\\lib\\site-packages\\simplejson\\decoder.py\u001b[0m in \u001b[0;36mdecode\u001b[1;34m(self, s, _w, _PY3)\u001b[0m\n\u001b[0;32m    385\u001b[0m             \u001b[0ms\u001b[0m \u001b[1;33m=\u001b[0m \u001b[0mstr\u001b[0m\u001b[1;33m(\u001b[0m\u001b[0ms\u001b[0m\u001b[1;33m,\u001b[0m \u001b[0mself\u001b[0m\u001b[1;33m.\u001b[0m\u001b[0mencoding\u001b[0m\u001b[1;33m)\u001b[0m\u001b[1;33m\u001b[0m\u001b[1;33m\u001b[0m\u001b[0m\n\u001b[1;32m--> 386\u001b[1;33m         \u001b[0mobj\u001b[0m\u001b[1;33m,\u001b[0m \u001b[0mend\u001b[0m \u001b[1;33m=\u001b[0m \u001b[0mself\u001b[0m\u001b[1;33m.\u001b[0m\u001b[0mraw_decode\u001b[0m\u001b[1;33m(\u001b[0m\u001b[0ms\u001b[0m\u001b[1;33m)\u001b[0m\u001b[1;33m\u001b[0m\u001b[1;33m\u001b[0m\u001b[0m\n\u001b[0m\u001b[0;32m    387\u001b[0m         \u001b[0mend\u001b[0m \u001b[1;33m=\u001b[0m \u001b[0m_w\u001b[0m\u001b[1;33m(\u001b[0m\u001b[0ms\u001b[0m\u001b[1;33m,\u001b[0m \u001b[0mend\u001b[0m\u001b[1;33m)\u001b[0m\u001b[1;33m.\u001b[0m\u001b[0mend\u001b[0m\u001b[1;33m(\u001b[0m\u001b[1;33m)\u001b[0m\u001b[1;33m\u001b[0m\u001b[1;33m\u001b[0m\u001b[0m\n",
      "\u001b[1;32m~\\Anaconda3\\lib\\site-packages\\simplejson\\decoder.py\u001b[0m in \u001b[0;36mraw_decode\u001b[1;34m(self, s, idx, _w, _PY3)\u001b[0m\n\u001b[0;32m    415\u001b[0m                 \u001b[0midx\u001b[0m \u001b[1;33m+=\u001b[0m \u001b[1;36m3\u001b[0m\u001b[1;33m\u001b[0m\u001b[1;33m\u001b[0m\u001b[0m\n\u001b[1;32m--> 416\u001b[1;33m         \u001b[1;32mreturn\u001b[0m \u001b[0mself\u001b[0m\u001b[1;33m.\u001b[0m\u001b[0mscan_once\u001b[0m\u001b[1;33m(\u001b[0m\u001b[0ms\u001b[0m\u001b[1;33m,\u001b[0m \u001b[0midx\u001b[0m\u001b[1;33m=\u001b[0m\u001b[0m_w\u001b[0m\u001b[1;33m(\u001b[0m\u001b[0ms\u001b[0m\u001b[1;33m,\u001b[0m \u001b[0midx\u001b[0m\u001b[1;33m)\u001b[0m\u001b[1;33m.\u001b[0m\u001b[0mend\u001b[0m\u001b[1;33m(\u001b[0m\u001b[1;33m)\u001b[0m\u001b[1;33m)\u001b[0m\u001b[1;33m\u001b[0m\u001b[1;33m\u001b[0m\u001b[0m\n\u001b[0m",
      "\u001b[1;31mJSONDecodeError\u001b[0m: Expecting value: line 1 column 1 (char 0)",
      "\nDuring handling of the above exception, another exception occurred:\n",
      "\u001b[1;31mJSONDecodeError\u001b[0m                           Traceback (most recent call last)",
      "\u001b[1;32m<ipython-input-205-8959a7959935>\u001b[0m in \u001b[0;36m<module>\u001b[1;34m\u001b[0m\n\u001b[0;32m      1\u001b[0m \u001b[0mrecords\u001b[0m \u001b[1;33m=\u001b[0m \u001b[1;33m[\u001b[0m\u001b[1;33m(\u001b[0m\u001b[1;36m3741384\u001b[0m\u001b[1;33m,\u001b[0m \u001b[1;33m[\u001b[0m\u001b[1;34m'اخبار ورزش'\u001b[0m\u001b[1;33m,\u001b[0m \u001b[1;34m'کشتی'\u001b[0m\u001b[1;33m]\u001b[0m\u001b[1;33m)\u001b[0m\u001b[1;33m,\u001b[0m \u001b[1;33m(\u001b[0m\u001b[1;36m3741377\u001b[0m\u001b[1;33m,\u001b[0m \u001b[1;33m[\u001b[0m\u001b[1;34m'اینفلوینسر ورزشی'\u001b[0m\u001b[1;33m,\u001b[0m \u001b[1;34m'فوتبال'\u001b[0m\u001b[1;33m]\u001b[0m\u001b[1;33m)\u001b[0m\u001b[1;33m,\u001b[0m \u001b[1;33m(\u001b[0m\u001b[1;36m3741374\u001b[0m\u001b[1;33m,\u001b[0m \u001b[1;33m[\u001b[0m\u001b[1;34m'اینفلوینسر ورزشی'\u001b[0m\u001b[1;33m,\u001b[0m \u001b[1;34m'فوتبال'\u001b[0m\u001b[1;33m]\u001b[0m\u001b[1;33m)\u001b[0m\u001b[1;33m]\u001b[0m\u001b[1;33m\u001b[0m\u001b[1;33m\u001b[0m\u001b[0m\n\u001b[1;32m----> 2\u001b[1;33m \u001b[0minsert_to_sport_table_with_api\u001b[0m\u001b[1;33m(\u001b[0m\u001b[1;34m'telegram'\u001b[0m\u001b[1;33m,\u001b[0m \u001b[0mrecords\u001b[0m\u001b[1;33m)\u001b[0m\u001b[1;33m\u001b[0m\u001b[1;33m\u001b[0m\u001b[0m\n\u001b[0m",
      "\u001b[1;32m<ipython-input-204-9a3ec354035e>\u001b[0m in \u001b[0;36minsert_to_sport_table_with_api\u001b[1;34m(med, list_of_records)\u001b[0m\n\u001b[0;32m      5\u001b[0m     \u001b[1;32mwith\u001b[0m \u001b[0mopen\u001b[0m\u001b[1;33m(\u001b[0m\u001b[1;34m'res.html'\u001b[0m\u001b[1;33m,\u001b[0m \u001b[1;34m'w+'\u001b[0m\u001b[1;33m)\u001b[0m \u001b[1;32mas\u001b[0m \u001b[0mfile\u001b[0m\u001b[1;33m:\u001b[0m\u001b[1;33m\u001b[0m\u001b[1;33m\u001b[0m\u001b[0m\n\u001b[0;32m      6\u001b[0m         \u001b[0mfile\u001b[0m\u001b[1;33m.\u001b[0m\u001b[0mwrite\u001b[0m\u001b[1;33m(\u001b[0m\u001b[0mstr\u001b[0m\u001b[1;33m(\u001b[0m\u001b[0mresponse\u001b[0m\u001b[1;33m.\u001b[0m\u001b[0mcontent\u001b[0m\u001b[1;33m)\u001b[0m\u001b[1;33m)\u001b[0m\u001b[1;33m\u001b[0m\u001b[1;33m\u001b[0m\u001b[0m\n\u001b[1;32m----> 7\u001b[1;33m     \u001b[1;32mreturn\u001b[0m \u001b[0mresponse\u001b[0m\u001b[1;33m.\u001b[0m\u001b[0mjson\u001b[0m\u001b[1;33m(\u001b[0m\u001b[1;33m)\u001b[0m\u001b[1;33m[\u001b[0m\u001b[1;34m'records'\u001b[0m\u001b[1;33m]\u001b[0m\u001b[1;33m\u001b[0m\u001b[1;33m\u001b[0m\u001b[0m\n\u001b[0m",
      "\u001b[1;32m~\\Anaconda3\\lib\\site-packages\\requests\\models.py\u001b[0m in \u001b[0;36mjson\u001b[1;34m(self, **kwargs)\u001b[0m\n\u001b[0;32m    973\u001b[0m             \u001b[1;31m# Catch JSON-related errors and raise as requests.JSONDecodeError\u001b[0m\u001b[1;33m\u001b[0m\u001b[1;33m\u001b[0m\u001b[1;33m\u001b[0m\u001b[0m\n\u001b[0;32m    974\u001b[0m             \u001b[1;31m# This aliases json.JSONDecodeError and simplejson.JSONDecodeError\u001b[0m\u001b[1;33m\u001b[0m\u001b[1;33m\u001b[0m\u001b[1;33m\u001b[0m\u001b[0m\n\u001b[1;32m--> 975\u001b[1;33m             \u001b[1;32mraise\u001b[0m \u001b[0mRequestsJSONDecodeError\u001b[0m\u001b[1;33m(\u001b[0m\u001b[0me\u001b[0m\u001b[1;33m.\u001b[0m\u001b[0mmsg\u001b[0m\u001b[1;33m,\u001b[0m \u001b[0me\u001b[0m\u001b[1;33m.\u001b[0m\u001b[0mdoc\u001b[0m\u001b[1;33m,\u001b[0m \u001b[0me\u001b[0m\u001b[1;33m.\u001b[0m\u001b[0mpos\u001b[0m\u001b[1;33m)\u001b[0m\u001b[1;33m\u001b[0m\u001b[1;33m\u001b[0m\u001b[0m\n\u001b[0m\u001b[0;32m    976\u001b[0m \u001b[1;33m\u001b[0m\u001b[0m\n\u001b[0;32m    977\u001b[0m     \u001b[1;33m@\u001b[0m\u001b[0mproperty\u001b[0m\u001b[1;33m\u001b[0m\u001b[1;33m\u001b[0m\u001b[0m\n",
      "\u001b[1;31mJSONDecodeError\u001b[0m: Expecting value: line 1 column 1 (char 0)"
     ]
    }
   ],
   "source": [
    "records = [(3741384, ['اخبار ورزش', 'کشتی']), (3741377, ['اینفلوینسر ورزشی', 'فوتبال']), (3741374, ['اینفلوینسر ورزشی', 'فوتبال'])]\n",
    "insert_to_sport_table_with_api('telegram', records)"
   ]
  },
  {
   "cell_type": "code",
   "execution_count": 223,
   "metadata": {},
   "outputs": [],
   "source": [
    "def insert_batch_of_posts(list_of_dicts):\n",
    "    url = 'http://65.21.173.197/api/instagram_batch/'\n",
    "    header = {'Content-Type': 'application/json'}\n",
    "    # Send the POST request\n",
    "    print('-'*100)\n",
    "    print(list_of_dicts)\n",
    "    print('-'*100)\n",
    "    while True:\n",
    "        try:\n",
    "            response = requests.post(url, json=list_of_dicts, timeout = 50, auth=HTTPBasicAuth('ali10', 'up180223'))\n",
    "            print(response.json(), 'inserted............................................', response.status_code)\n",
    "            if response.status_code == 504 or response.status_code == 500:\n",
    "                #print(response.text)\n",
    "                raise ValueError(f'due to {response.status_code} insert failed...')\n",
    "            break\n",
    "        except Exception as E:\n",
    "            print(str(E))\n",
    "            break"
   ]
  },
  {
   "cell_type": "code",
   "execution_count": 224,
   "metadata": {},
   "outputs": [],
   "source": [
    "list_of_dicts = [{'shortcode': 'p/C5jZxt-pt59/', 'date_utc': '2024-04-09 19:53:36+00:00', 'caption': 'الهی برقصاند خدا به ساز تو جهانی را...نفس من\\nسفر عالی وبینظیری که بعد از چند ماه دلتنکی برام ساختی کلی حال دلمو خوب کرد پرنسس قلب طلایی من\\nمملو از سوپرایز وزیبایی وخاطره خداروشکر دارمت موفق ترین باشی\\nسلامت وشاد ودرآرامش درپناه خدا باشی\\nیاردبستانی رفیق نابم هم کنارمون بود کلی خوش گذشت کنارش\\nممنون عشقم هرکاری بیش از توانت برامون انجام میدی دختر مهربون خانواده دوست من 😍😘🙏\\nاز همون لحظه که کنارم بودی دلتنگتم اما شیرینی آرامش وموفقیتت صبوریمو زیاد میکنه بمونی برامون نازنینم 😘🙏🤲🤲', 'likes': '1019', 'comments': '147', 'userid': 478892530, 'hashtags': '', 'mentions': '', 'tagged_users': '', 'sentiment': -1, 'topic': '', 'url': '', 'type_': '', 'location': ''}, {'shortcode': 'p/C5jZxt-pt59/', 'date_utc': '2024-04-09 19:53:36+00:00', 'caption': 'الهی برقصاند خدا به ساز تو جهانی را...نفس من\\nسفر عالی وبینظیری که بعد از چند ماه دلتنکی برام ساختی کلی حال دلمو خوب کرد پرنسس قلب طلایی من\\nمملو از سوپرایز وزیبایی وخاطره خداروشکر دارمت موفق ترین باشی\\nسلامت وشاد ودرآرامش درپناه خدا باشی\\nیاردبستانی رفیق نابم هم کنارمون بود کلی خوش گذشت کنارش\\nممنون عشقم هرکاری بیش از توانت برامون انجام میدی دختر مهربون خانواده دوست من 😍😘🙏\\nاز همون لحظه که کنارم بودی دلتنگتم اما شیرینی آرامش وموفقیتت صبوریمو زیاد میکنه بمونی برامون نازنینم 😘🙏🤲🤲', 'likes': '1019', 'comments': '147', 'userid': 478892530, 'hashtags': '', 'mentions': '', 'tagged_users': '', 'sentiment': -1, 'topic': '', 'url': '', 'type_': '', 'location': ''}, {'shortcode': 'reel/C5goU8pBl4V/', 'date_utc': '2024-04-08 18:54:10+00:00', 'caption': '', 'likes': '171', 'comments': '11', 'userid': 478892530, 'hashtags': '', 'mentions': '', 'tagged_users': '', 'sentiment': -1, 'topic': '', 'url': '', 'type_': '', 'location': ''}, {'shortcode': 'reel/C5goU8pBl4V/', 'date_utc': '2024-04-08 18:54:10+00:00', 'caption': '', 'likes': '171', 'comments': '11', 'userid': 478892530, 'hashtags': '', 'mentions': '', 'tagged_users': '', 'sentiment': -1, 'topic': '', 'url': '', 'type_': '', 'location': ''}, {'shortcode': 'reel/C5gkpmwhuFJ/', 'date_utc': '2024-04-08 18:13:44+00:00', 'caption': '', 'likes': '245', 'comments': '19', 'userid': 478892530, 'hashtags': '', 'mentions': '', 'tagged_users': '', 'sentiment': -1, 'topic': '', 'url': '', 'type_': '', 'location': ''}, {'shortcode': 'reel/C5gkpmwhuFJ/', 'date_utc': '2024-04-08 18:13:44+00:00', 'caption': '', 'likes': '245', 'comments': '19', 'userid': 478892530, 'hashtags': '', 'mentions': '', 'tagged_users': '', 'sentiment': -1, 'topic': '', 'url': '', 'type_': '', 'location': ''}]"
   ]
  },
  {
   "cell_type": "code",
   "execution_count": 226,
   "metadata": {},
   "outputs": [
    {
     "name": "stdout",
     "output_type": "stream",
     "text": [
      "----------------------------------------------------------------------------------------------------\n",
      "[{'shortcode': 'p/C5jZxt-pt59/', 'date_utc': '2024-04-09 19:53:36+00:00', 'caption': 'الهی برقصاند خدا به ساز تو جهانی را...نفس من\\nسفر عالی وبینظیری که بعد از چند ماه دلتنکی برام ساختی کلی حال دلمو خوب کرد پرنسس قلب طلایی من\\nمملو از سوپرایز وزیبایی وخاطره خداروشکر دارمت موفق ترین باشی\\nسلامت وشاد ودرآرامش درپناه خدا باشی\\nیاردبستانی رفیق نابم هم کنارمون بود کلی خوش گذشت کنارش\\nممنون عشقم هرکاری بیش از توانت برامون انجام میدی دختر مهربون خانواده دوست من 😍😘🙏\\nاز همون لحظه که کنارم بودی دلتنگتم اما شیرینی آرامش وموفقیتت صبوریمو زیاد میکنه بمونی برامون نازنینم 😘🙏🤲🤲', 'likes': '1019', 'comments': '147', 'userid': 478892530, 'hashtags': '', 'mentions': '', 'tagged_users': '', 'sentiment': -1, 'topic': '', 'url': '', 'type_': '', 'location': ''}, {'shortcode': 'p/C5jZxt-pt59/', 'date_utc': '2024-04-09 19:53:36+00:00', 'caption': 'الهی برقصاند خدا به ساز تو جهانی را...نفس من\\nسفر عالی وبینظیری که بعد از چند ماه دلتنکی برام ساختی کلی حال دلمو خوب کرد پرنسس قلب طلایی من\\nمملو از سوپرایز وزیبایی وخاطره خداروشکر دارمت موفق ترین باشی\\nسلامت وشاد ودرآرامش درپناه خدا باشی\\nیاردبستانی رفیق نابم هم کنارمون بود کلی خوش گذشت کنارش\\nممنون عشقم هرکاری بیش از توانت برامون انجام میدی دختر مهربون خانواده دوست من 😍😘🙏\\nاز همون لحظه که کنارم بودی دلتنگتم اما شیرینی آرامش وموفقیتت صبوریمو زیاد میکنه بمونی برامون نازنینم 😘🙏🤲🤲', 'likes': '1019', 'comments': '147', 'userid': 478892530, 'hashtags': '', 'mentions': '', 'tagged_users': '', 'sentiment': -1, 'topic': '', 'url': '', 'type_': '', 'location': ''}, {'shortcode': 'reel/C5goU8pBl4V/', 'date_utc': '2024-04-08 18:54:10+00:00', 'caption': '', 'likes': '171', 'comments': '11', 'userid': 478892530, 'hashtags': '', 'mentions': '', 'tagged_users': '', 'sentiment': -1, 'topic': '', 'url': '', 'type_': '', 'location': ''}, {'shortcode': 'reel/C5goU8pBl4V/', 'date_utc': '2024-04-08 18:54:10+00:00', 'caption': '', 'likes': '171', 'comments': '11', 'userid': 478892530, 'hashtags': '', 'mentions': '', 'tagged_users': '', 'sentiment': -1, 'topic': '', 'url': '', 'type_': '', 'location': ''}, {'shortcode': 'reel/C5gkpmwhuFJ/', 'date_utc': '2024-04-08 18:13:44+00:00', 'caption': '', 'likes': '245', 'comments': '19', 'userid': 478892530, 'hashtags': '', 'mentions': '', 'tagged_users': '', 'sentiment': -1, 'topic': '', 'url': '', 'type_': '', 'location': ''}, {'shortcode': 'reel/C5gkpmwhuFJ/', 'date_utc': '2024-04-08 18:13:44+00:00', 'caption': '', 'likes': '245', 'comments': '19', 'userid': 478892530, 'hashtags': '', 'mentions': '', 'tagged_users': '', 'sentiment': -1, 'topic': '', 'url': '', 'type_': '', 'location': ''}]\n",
      "----------------------------------------------------------------------------------------------------\n",
      "[{'shortcode': ['instagram_posts با این shortcode از قبل موجود است.']}, {'shortcode': ['instagram_posts با این shortcode از قبل موجود است.']}, {}, {}, {}, {}] inserted............................................ 400\n"
     ]
    }
   ],
   "source": [
    "from requests.auth import HTTPBasicAuth\n",
    "insert_batch_of_posts(list_of_dicts)"
   ]
  },
  {
   "cell_type": "code",
   "execution_count": 232,
   "metadata": {},
   "outputs": [
    {
     "data": {
      "text/plain": [
       "'Done!'"
      ]
     },
     "execution_count": 232,
     "metadata": {},
     "output_type": "execute_result"
    }
   ],
   "source": [
    "def extract_ents_and_update_with_api(recs, med):\n",
    "    url = 'http://65.21.173.197/api/extract_ents_and_update/'\n",
    "    data_to_send = {'recs': recs, 'med': med}\n",
    "    response = requests.post(url, json=data_to_send)\n",
    "    with open('res.html', 'w+') as file:\n",
    "        file.write(str(response.content))\n",
    "    return response.json()['ents_updated']\n",
    "\n",
    "recs = [['reel/C5oCNv7NNYy/', 'این کلیپ رو یکی از دوستانم چند سال پیش برام ارسال کرد ،یکی از کلیپ هایی بود که خیلی دوسش داشتم و برام پر ارزش بوده و هست\\nدوست داشتم این و با شما به اشتراک بزارم\\n#قضاوت_ممنوع\\n#اشتباه\\n#درس\\n#درس_زندگی\\n#اشتباهات_تربیتی'], ['p/C5nU93kCoVc/', 'عکسهای شما در رسانه کوه،طبیعت و گردشگری\\n\\nلطفا مارا دنبال کنید و به دوستانتان معرفی نمایید\\n@kooh_picture\\n\\n📸محمود\\n🆔️ @mahmoodsari_org\\n\\n\\n#کوه_پیکچر  #کوه #کوهنوردی_طبیعتگردی\\n#کوهنوردی #کوهستان  #جنگل  #طبیعتگردی  #طبیعت  #ایرانگردی #ایران   #آبشار #کویر #شمال  #لباس #لبخند #عکس #فیلم\\n#kooh_picture\\n#iran\\n#mountain\\n#desert\\n#girl\\n#boy\\n#photography\\n#film'], ['reel/C5YAeo6NiZW/', ''], ['reel/C43i4Jxt328/', '']]\n",
    "extract_ents_and_update_with_api(recs, 'instagram')"
   ]
  },
  {
   "cell_type": "code",
   "execution_count": 234,
   "metadata": {},
   "outputs": [
    {
     "data": {
      "text/plain": [
       "['#جام_رمضان۱۴۰۳']"
      ]
     },
     "execution_count": 234,
     "metadata": {},
     "output_type": "execute_result"
    }
   ],
   "source": [
    "import re\n",
    "re.findall(r\"#\\w+\", '''#جام_رمضان۱۴۰۳\n",
    "گزارش تصویری از شب نیمه نهایی جام رمضان ۱۴۰۳ آران وبیدگل\n",
    "\n",
    "☑️ روزنامه صبح ولیعصر(عج)\n",
    "👁‍🗨 @r_s_valiasr\n",
    "🔘 اولین رسانه خبری تحلیلی ورزش آران وبیدگل\n",
    "\n",
    "صفحه اول اینستاگرام روزنامه صبح ولیعصر\n",
    "https://www.instagram.com/r_s_valiasr/''')"
   ]
  },
  {
   "cell_type": "code",
   "execution_count": 238,
   "metadata": {},
   "outputs": [],
   "source": [
    "pd.read_csv(r'C:\\Users\\sport users.csv').to_excel(r'E:\\sport users.xlsx')"
   ]
  },
  {
   "cell_type": "code",
   "execution_count": 246,
   "metadata": {},
   "outputs": [],
   "source": [
    "df = pd.DataFrame([\n",
    "    [\n",
    "        \"چین\",\n",
    "        \"والیبال\"\n",
    "    ],\n",
    "    [\n",
    "        \"ایران\",\n",
    "        \"فوتبال\"\n",
    "    ],\n",
    "    [\n",
    "        \"ایران\",\n",
    "        \"فوتبال\"\n",
    "    ],\n",
    "    [\n",
    "        \"بلوچستان\",\n",
    "        \"فوتبال\"\n",
    "    ]])\n",
    "data = df.groupby(1)[0].value_counts().to_dict()"
   ]
  },
  {
   "cell_type": "code",
   "execution_count": 247,
   "metadata": {},
   "outputs": [
    {
     "data": {
      "text/plain": [
       "{('فوتبال', 'ایران'): 2, ('فوتبال', 'بلوچستان'): 1, ('والیبال', 'چین'): 1}"
      ]
     },
     "execution_count": 247,
     "metadata": {},
     "output_type": "execute_result"
    }
   ],
   "source": [
    "data"
   ]
  },
  {
   "cell_type": "code",
   "execution_count": 250,
   "metadata": {},
   "outputs": [],
   "source": [
    "res = df.groupby(1)[0].agg(pd.Series.mode)"
   ]
  },
  {
   "cell_type": "code",
   "execution_count": 252,
   "metadata": {},
   "outputs": [
    {
     "data": {
      "text/plain": [
       "{'فوتبال__ایران': 2, 'فوتبال__بلوچستان': 1, 'والیبال__چین': 1}"
      ]
     },
     "execution_count": 252,
     "metadata": {},
     "output_type": "execute_result"
    }
   ],
   "source": [
    "{'__'.join([str(x[0]), str(x[1])]): y for x, y in data.items()}"
   ]
  },
  {
   "cell_type": "code",
   "execution_count": 263,
   "metadata": {},
   "outputs": [],
   "source": [
    "tdf = df.groupby(1)[0].agg(lambda x: x.value_counts().nlargest(5).index.tolist())"
   ]
  },
  {
   "cell_type": "code",
   "execution_count": 264,
   "metadata": {},
   "outputs": [
    {
     "data": {
      "text/plain": [
       "{'فوتبال': ['ایران', 'بلوچستان'], 'والیبال': ['چین']}"
      ]
     },
     "execution_count": 264,
     "metadata": {},
     "output_type": "execute_result"
    }
   ],
   "source": [
    "tdf.to_dict()"
   ]
  },
  {
   "cell_type": "code",
   "execution_count": null,
   "metadata": {},
   "outputs": [],
   "source": []
  }
 ],
 "metadata": {
  "kernelspec": {
   "display_name": "Python 3",
   "language": "python",
   "name": "python3"
  },
  "language_info": {
   "codemirror_mode": {
    "name": "ipython",
    "version": 3
   },
   "file_extension": ".py",
   "mimetype": "text/x-python",
   "name": "python",
   "nbconvert_exporter": "python",
   "pygments_lexer": "ipython3",
   "version": "3.7.4"
  }
 },
 "nbformat": 4,
 "nbformat_minor": 4
}
